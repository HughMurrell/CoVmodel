{
 "cells": [
  {
   "cell_type": "markdown",
   "metadata": {},
   "source": [
    "# Estimating COVID-19's $R_t$ in Real-Time\n",
    "\n",
    "Original by Kevin Systrom - April 17 (translated into Julia by Hugh Murrell April 22)\n",
    "\n",
    "In any epidemic, $R_t$ is the measure known as the effective reproduction number. It's the number of people who become infected per infectious person at time $t$. The most well-known version of this number is the basic reproduction number: $R_0$ when $t=0$. However, $R_0$ is a single measure that does not adapt with changes in behavior and restrictions.\n",
    "\n",
    "As a pandemic evolves, increasing restrictions (or potential releasing of restrictions) changes $R_t$. Knowing the current $R_t$ is essential. When $R\\gg1$, the pandemic will spread through a large part of the population. If $R_t<1$, the pandemic will slow quickly before it has a chance to infect many people. The lower the $R_t$: the more manageable the situation. In general, any $R_t<1$ means things are under control.\n",
    "\n",
    "The value of $R_t$ helps us in two ways. (1) It helps us understand how effective our measures have been controlling an outbreak and (2) it gives us vital information about whether we should increase or reduce restrictions based on our competing goals of economic prosperity and human safety. [Well-respected epidemiologists argue](https://www.nytimes.com/2020/04/06/opinion/coronavirus-end-social-distancing.html) that tracking $R_t$ is the only way to manage through this crisis.\n",
    "\n",
    "Yet, today, we don't yet use $R_t$ in this way. In fact, the only real-time measure I've seen has been for [Hong Kong](https://covid19.sph.hku.hk/dashboard). More importantly, it is not useful to understand $R_t$ at a national level. Instead, to manage this crisis effectively, we need a local (state, county and/or city) granularity of $R_t$.\n",
    "\n",
    "What follows is a solution to this problem at the US State level. It's a modified version of a solution created by [Bettencourt & Ribeiro 2008](https://journals.plos.org/plosone/article?id=10.1371/journal.pone.0002185) to estimate real-time $R_t$ using a Bayesian approach. While this paper estimates a static $R$ value, here we introduce a process model with Gaussian noise to estimate a time-varying $R_t$.\n",
    "\n",
    "If you have questions, comments, or improvments feel free to get in touch: [hello@systrom.com](mailto:hello@systrom.com). And if it's not entirely clear, I'm not an epidemiologist. At the same time, data is data, and statistics are statistics and this is based on work by well-known epidemiologists so you can calibrate your beliefs as you wish. In the meantime, I hope you can learn something new as I did by reading through this example. Feel free to take this work and apply it elsewhere – internationally or to counties in the United States.\n",
    "\n",
    "Additionally, a huge thanks to [Frank Dellaert](http://www.twitter.com/fdellaert/) who suggested the addition of the process and to [Adam Lerer](http://www.twitter.com/adamlerer/) who implemented the changes. Not only did I learn something new, it made the model much more responsive."
   ]
  },
  {
   "cell_type": "markdown",
   "metadata": {},
   "source": [
    "## Bettencourt & Ribeiro's Approach\n",
    "\n",
    "Every day, we learn how many more people have COVID-19. This new case count gives us a clue about the current value of $R_t$. We also, figure that the value of $R_t$ today is related to the value of $R_{t-1}$ (yesterday's value) and every previous value of $R_{t-m}$ for that matter.\n",
    "\n",
    "With these insights, the authors use [Bayes' rule](https://en.wikipedia.org/wiki/Bayes%27_theorem) to update their beliefs about the true value of $R_t$ based on how many new cases have been reported each day.\n",
    "\n",
    "This is Bayes' Theorem as we'll use it:\n",
    "\n",
    "$$ P(R_t|k)=\\frac{P(k|R_t)\\cdot P(R_t)}{P(k)} $$\n",
    "\n",
    "This says that, having seen $k$ new cases, we believe the distribution of $R_t$ is equal to:\n",
    "\n",
    "- The __likelihood__ of seeing $k$ new cases given $R_t$ times ...\n",
    "- The __prior__ beliefs of the value of $P(R_t)$ without the data ...\n",
    "- divided by the probability of seeing this many cases in general.\n",
    "\n",
    "This is for a single day. To make it iterative: every day that passes, we use yesterday's prior $P(R_{t-1})$ to estimate today's prior $P(R_t)$. We will assume the distribution of $R_t$ to be a Gaussian centered around $R_{t-1}$, so $P(R_t|R_{t-1})=\\mathcal{N}(R_{t-1}, \\sigma)$, where $\\sigma$ is a hyperparameter (see below on how we estimate $\\sigma$). So on day one:\n",
    "\n",
    "$$ P(R_1|k_1) \\propto P(R_1)\\cdot \\mathcal{L}(R_1|k_1)$$\n",
    "\n",
    "On day two:\n",
    "\n",
    "$$ P(R_2|k_1,k_2) \\propto P(R_2)\\cdot \\mathcal{L}(R_2|k_2) = \\sum_{R_1} {P(R_1|k_1)\\cdot P(R_2|R_1)\\cdot\\mathcal{L}(R_2|k_2) }$$\n",
    "\n",
    "etc.\n",
    "\n",
    "### Choosing a Likelihood Function $P\\left(k_t|R_t\\right)$\n",
    "\n",
    "A likelihood function function says how likely we are to see $k$ new cases, given a value of $R_t$.\n",
    "\n",
    "Any time you need to model 'arrivals' over some time period of time, statisticians like to use the [Poisson Distribution](https://en.wikipedia.org/wiki/Poisson_distribution). Given an average arrival rate of $\\lambda$ new cases per day, the probability of seeing $k$ new cases is distributed according to the Poisson distribution:\n",
    "\n",
    "$$P(k|\\lambda) = \\frac{\\lambda^k e^{-\\lambda}}{k!}$$"
   ]
  },
  {
   "cell_type": "code",
   "execution_count": 1,
   "metadata": {},
   "outputs": [
    {
     "ename": "InterruptException",
     "evalue": "InterruptException:",
     "output_type": "error",
     "traceback": [
      "InterruptException:",
      "",
      "Stacktrace:",
      " [1] top-level scope at In[1]:1"
     ]
    }
   ],
   "source": [
    "using StatsBase, Distributions, Plots, DataFrames, CSV, Dates, HTTP, Impute;"
   ]
  },
  {
   "cell_type": "code",
   "execution_count": 2,
   "metadata": {},
   "outputs": [
    {
     "ename": "UndefVarError",
     "evalue": "UndefVarError: Poisson not defined",
     "output_type": "error",
     "traceback": [
      "UndefVarError: Poisson not defined",
      "",
      "Stacktrace:",
      " [1] top-level scope at In[2]:3"
     ]
    }
   ],
   "source": [
    "kGrid = 0:70\n",
    "lambdas = [10 20 30 40]\n",
    "pDist = [Poisson(lambda) for lambda in lambdas]\n",
    "bPmf = [pdf.(pDist[i],kGrid) for i in 1:length(pDist)]\n",
    "plot( kGrid, bPmf, lw=2, label=string.(lambdas), ylims=(0,0.2), \n",
    "    xlabel=\"k\", ylabel=\"P( k | lambda )\")"
   ]
  },
  {
   "cell_type": "markdown",
   "metadata": {},
   "source": [
    "The Poisson distribution says that if you think you're going to have $\\lambda$ cases per day, you'll probably get that many, plus or minus some variation based on chance.\n",
    "\n",
    "But in our case, we know there have been $k$ cases and we need to know what value of $\\lambda$ is most likely. In order to do this, we fix $k$ in place while varying $\\lambda$. __This is called the likelihood function.__\n",
    "\n",
    "For example, imagine we observe $k=20$ new cases, and we want to know how likely each $\\lambda$ is:"
   ]
  },
  {
   "cell_type": "code",
   "execution_count": 3,
   "metadata": {},
   "outputs": [
    {
     "ename": "UndefVarError",
     "evalue": "UndefVarError: Poisson not defined",
     "output_type": "error",
     "traceback": [
      "UndefVarError: Poisson not defined",
      "",
      "Stacktrace:",
      " [1] top-level scope at In[3]:3"
     ]
    }
   ],
   "source": [
    "k=20\n",
    "lambdas = collect(range(1.0,45.0,length=90))\n",
    "pDist = [Poisson(lam) for lam in lambdas]\n",
    "lk20 = [pdf.(pDist[i],k) for i in 1:length(pDist)]\n",
    "plot( lambdas, lk20, lw=2, label=\"\", ylims=(0,0.1), \n",
    "    xlabel=\"lambda\", ylabel=\"P( k=20 | lambda )\")"
   ]
  },
  {
   "cell_type": "markdown",
   "metadata": {},
   "source": [
    "This says that if we see 20 cases, the most likely value of $\\lambda$ is (not surprisingly) 20. But we're not certain: it's possible lambda was 21 or 17 and saw 20 new cases by chance alone. It also says that it's unlikely $\\lambda$ was 40 and we saw 20.\n",
    "\n",
    "Great. We have $P\\left(\\lambda_t|k_t\\right)$ which is parameterized by $\\lambda$ but we were looking for $P\\left(k_t|R_t\\right)$ which is parameterized by $R_t$. We need to know the relationship between $\\lambda$ and $R_t$"
   ]
  },
  {
   "cell_type": "markdown",
   "metadata": {},
   "source": [
    "### Connecting $\\lambda$ and $R_t$\n",
    "\n",
    "__The key insight to making this work is to realize there's a connection between $R_t$ and $\\lambda$__. [The derivation](https://journals.plos.org/plosone/article?id=10.1371/journal.pone.0002185) is beyond the scope of this notebook, but here it is:\n",
    "\n",
    "$$ \\lambda = k_{t-1}e^{\\gamma(R_t-1)}$$\n",
    "\n",
    "where $\\gamma$ is the reciprocal of the infectious period ([about 7 days for COVID19](https://wwwnc.cdc.gov/eid/article/26/7/20-0282_article)). Since we know every new case count on the previous day, we can now reformulate the likelihood function as a Poisson parameterized by fixing $k$ and varying $R_t$.\n",
    "\n",
    "$$ \\lambda = k_{t-1}e^{\\gamma(R_t-1)}$$\n",
    "\n",
    "$$P\\left(k|R_t\\right) = \\frac{\\lambda^k e^{-\\lambda}}{k!}$$\n",
    "\n",
    "### Evaluating the Likelihood Function\n",
    "\n",
    "To continue our example, let's imagine a sample of new case counts $k$. What is the likelihood of different values of $R_t$ on each of those days?"
   ]
  },
  {
   "cell_type": "code",
   "execution_count": 4,
   "metadata": {},
   "outputs": [
    {
     "ename": "UndefVarError",
     "evalue": "UndefVarError: Poisson not defined",
     "output_type": "error",
     "traceback": [
      "UndefVarError: Poisson not defined",
      "",
      "Stacktrace:",
      " [1] (::getfield(Main, Symbol(\"##5#6\")))(::Int64) at ./none:0",
      " [2] iterate at ./generator.jl:47 [inlined]",
      " [3] collect(::Base.Generator{UnitRange{Int64},getfield(Main, Symbol(\"##5#6\"))}) at ./array.jl:606",
      " [4] top-level scope at In[4]:8"
     ]
    }
   ],
   "source": [
    "k = [20 40 55 90]\n",
    "\n",
    "R_T_MAX = 12\n",
    "r_t_range = collect(range(0, R_T_MAX, length=R_T_MAX*100+1))\n",
    "INFECTIOUS_PERIOD = 7\n",
    "GAMMA = 1/INFECTIOUS_PERIOD\n",
    "lambdas = [ k[i-1] .* exp.(GAMMA .* (r_t_range .- 1)) for i in 2:length(k)]\n",
    "pDist = [[Poisson(lam) for lam in lambdas[j]] for j in 1:length(lambdas) ]\n",
    "lks = [ [pdf.(pDist[j-1][i],k[j]) for i in 1:length(pDist[j-1])] for j in 2:length(k)]\n",
    "lks = hcat(lks...)\n",
    "lks = lks ./ sum(lks, dims=1)\n",
    "plot( r_t_range, lks, # line=:stem, marker=:xcross, c=:red, ms=6, msw=0, ylims=(0,0.1),\n",
    "    lw=2, label=string.(k)[:,2:end],  xlabel=\"Rt\", ylabel=\"P( Rt | k )\")"
   ]
  },
  {
   "cell_type": "markdown",
   "metadata": {},
   "source": [
    "You can see that each day we have a independent guesses for $R_t$. The goal is to combine the information we have about previous days with the current day. To do this, we use Bayes' theorem.\n",
    "\n",
    "### Performing the Bayesian Update\n",
    "\n",
    "To perform the Bayesian update, we need to multiply the likelihood by the prior (which is just the previous day's likelihood without our Gaussian update, see later) to get the posteriors. Let's do that using the cumulative product of each successive day:"
   ]
  },
  {
   "cell_type": "code",
   "execution_count": 5,
   "metadata": {},
   "outputs": [
    {
     "ename": "UndefVarError",
     "evalue": "UndefVarError: lks not defined",
     "output_type": "error",
     "traceback": [
      "UndefVarError: lks not defined",
      "",
      "Stacktrace:",
      " [1] top-level scope at In[5]:1"
     ]
    }
   ],
   "source": [
    "posteriors = cumprod(lks,dims=2)\n",
    "posteriors = posteriors ./ sum(posteriors,dims=1)\n",
    "plot( r_t_range, posteriors, lw=2, \n",
    "    label=reshape([ \"day $i\" for i in 1:size(posteriors)[2] ],(1,:)),  \n",
    "    xlabel=\"Rt\", ylabel=\"Posterior P( Rt | k )\")"
   ]
  },
  {
   "cell_type": "markdown",
   "metadata": {},
   "source": [
    "Notice how on Day 1, our posterior matches Day 1's likelihood from above? That's because we have no information other than that day. However, when we update the prior using Day 2's information, you can see the curve has moved left, but not nearly as left as the likelihood for Day 2 from above. This is because Bayesian updating uses information from both days and effectively averages the two. Since Day 3's likelihood is in between the other two, you see a small shift to the right, but more importantly: a narrower distribution. We're becoming __more__ confident in our believes of the true value of $R_t$.\n",
    "\n",
    "From these posteriors, we can answer important questions such as \"What is the most likely value of $R_t$ each day?\""
   ]
  },
  {
   "cell_type": "code",
   "execution_count": 6,
   "metadata": {
    "scrolled": true
   },
   "outputs": [
    {
     "ename": "UndefVarError",
     "evalue": "UndefVarError: posteriors not defined",
     "output_type": "error",
     "traceback": [
      "UndefVarError: posteriors not defined",
      "",
      "Stacktrace:",
      " [1] top-level scope at In[6]:1"
     ]
    }
   ],
   "source": [
    "mlrt_values = r_t_range[map(x->x[1],findmax(posteriors,dims=1)[2])[1,:]]"
   ]
  },
  {
   "cell_type": "markdown",
   "metadata": {},
   "source": [
    "We can also obtain the [highest density intervals](https://www.sciencedirect.com/topics/mathematics/highest-density-interval) for $R_t$:"
   ]
  },
  {
   "cell_type": "code",
   "execution_count": 7,
   "metadata": {},
   "outputs": [
    {
     "data": {
      "text/plain": [
       "highest_density_interval (generic function with 2 methods)"
      ]
     },
     "execution_count": 7,
     "metadata": {},
     "output_type": "execute_result"
    }
   ],
   "source": [
    "function highest_density_interval(pmf, p=.9)\n",
    "    fb = findmax(pmf,dims=1)[2][1]\n",
    "    cs = cumsum(pmf, dims=1)\n",
    "    first = [1, length(cs)]\n",
    "    best = first\n",
    "    for (i, value) in enumerate(cs)\n",
    "        for (j, high_value) in enumerate(cs[i+1:end])\n",
    "            if ( (high_value-value > p) && (j<best[2]-best[1]) )\n",
    "                best = [i, i+j]\n",
    "                break\n",
    "            end\n",
    "        end\n",
    "    end\n",
    "    if (best == first) \n",
    "        # println(\" invoking fallback ... \", fb )\n",
    "        best = [fb, fb]\n",
    "    end\n",
    "    return best\n",
    "end        "
   ]
  },
  {
   "cell_type": "code",
   "execution_count": 8,
   "metadata": {},
   "outputs": [
    {
     "ename": "UndefVarError",
     "evalue": "UndefVarError: posteriors not defined",
     "output_type": "error",
     "traceback": [
      "UndefVarError: posteriors not defined",
      "",
      "Stacktrace:",
      " [1] top-level scope at In[8]:1"
     ]
    }
   ],
   "source": [
    "inds = [ highest_density_interval(posteriors[:,k]) for k in 1:size(posteriors)[2] ] \n",
    "low_high = [r_t_range[inds[k]] for k in 1:length(inds)]\n",
    "lows = map(x->x[1],low_high)\n",
    "highs = map(x->x[2],low_high)\n",
    "df = DataFrame(day = 1:length(mlrt_values), mlrt = mlrt_values, low = lows, high = highs)"
   ]
  },
  {
   "cell_type": "markdown",
   "metadata": {},
   "source": [
    "Finally, we can plot both the most likely values for $R_t$ and the HDIs over time. This is the most useful representation as it shows how our beliefs change with every day."
   ]
  },
  {
   "cell_type": "code",
   "execution_count": 9,
   "metadata": {},
   "outputs": [
    {
     "ename": "UndefVarError",
     "evalue": "UndefVarError: df not defined",
     "output_type": "error",
     "traceback": [
      "UndefVarError: df not defined",
      "",
      "Stacktrace:",
      " [1] top-level scope at In[9]:1"
     ]
    }
   ],
   "source": [
    "plot(df[:,:day], df[:,:mlrt], ribbon = (df[:,:mlrt]-df[:,:low],df[:,:high]-df[:,:mlrt]),\n",
    "m=:circle, ms=6, fillalpha=0.1, lw = 3, label = \"Most Likely Rt\")"
   ]
  },
  {
   "cell_type": "markdown",
   "metadata": {},
   "source": [
    "We can see that the most likely value of $R_t$ changes with time and the highest-density interval narrows as we become more sure of the true value of $R_t$ over time. Note that since we only had four days of history, I did not apply the process to this sample. Next, however, we'll turn to a real-world application where this process is necessary."
   ]
  },
  {
   "cell_type": "markdown",
   "metadata": {},
   "source": [
    "# Real-World Application to World Data\n",
    "\n",
    "### Setup\n",
    "\n",
    "We load World case data from OWID in csv format using this link:\n",
    "https://raw.githubusercontent.com/owid/covid-19-data/master/public/data/ecdc/full_data.csv\n",
    "and then we filter the data, country by country, removing sections with missing data or zero new case counts.\n",
    "\n",
    "We need to start the analysis when there are a consistent number of cases each day. Find the last zero new case day and start on the day after that.\n",
    "\n",
    "Also, case reporting is very erratic based on testing backlogs, etc. To get the best view of the 'true' data we apply a filter to the time series. This is obviously an arbitrary choice, but you'd imagine the real world process is not nearly as stochastic as the actual reporting."
   ]
  },
  {
   "cell_type": "code",
   "execution_count": 10,
   "metadata": {},
   "outputs": [
    {
     "ename": "UndefVarError",
     "evalue": "UndefVarError: CSV not defined",
     "output_type": "error",
     "traceback": [
      "UndefVarError: CSV not defined",
      "",
      "Stacktrace:",
      " [1] top-level scope at In[10]:2"
     ]
    }
   ],
   "source": [
    "url=\"https://raw.githubusercontent.com/owid/covid-19-data/master/public/data/ecdc/full_data.csv\"\n",
    "full_data = CSV.read(IOBuffer(HTTP.get(url).body))\n",
    "println(\"table read, size = \",size(full_data))\n",
    "println(\"latest counts on \",maximum(full_data[:,:date]))"
   ]
  },
  {
   "cell_type": "code",
   "execution_count": 11,
   "metadata": {},
   "outputs": [
    {
     "data": {
      "text/plain": [
       "moving_average (generic function with 1 method)"
      ]
     },
     "execution_count": 11,
     "metadata": {},
     "output_type": "execute_result"
    }
   ],
   "source": [
    "function moving_average(inf; alpha=0.5)\n",
    "    vs = inf\n",
    "    if length(vs) > 1\n",
    "        ret = \n",
    "            # vcat( vs[1], [ alpha * vs[i] + (1 - alpha)*vs[i-1] for i = 2:length(vs) ] )\n",
    "            vcat((vs[1]+2*vs[1])/3,\n",
    "                   [sum(@view vs[i:(i+2)])/3 for i in 1:(length(vs)-(2))],\n",
    "                    (2*vs[length(vs)]+vs[length(vs)])/3)\n",
    "    else\n",
    "        ret = vs\n",
    "    end\n",
    "    return ret\n",
    "    return Int64.(round.(ret))\n",
    "end"
   ]
  },
  {
   "cell_type": "code",
   "execution_count": 12,
   "metadata": {},
   "outputs": [
    {
     "data": {
      "text/plain": [
       "compute_infectives (generic function with 1 method)"
      ]
     },
     "execution_count": 12,
     "metadata": {},
     "output_type": "execute_result"
    }
   ],
   "source": [
    "function compute_infectives(new_cases) \n",
    "    if length(new_cases) >= INFECTIOUS_PERIOD\n",
    "       infects = [sum(new_cases[i-INFECTIOUS_PERIOD+1:i])\n",
    "                        for i in INFECTIOUS_PERIOD:length(new_cases) ] \n",
    "    else\n",
    "        infects = []\n",
    "    end\n",
    "    return infects\n",
    "end"
   ]
  },
  {
   "cell_type": "code",
   "execution_count": 13,
   "metadata": {},
   "outputs": [
    {
     "data": {
      "text/plain": [
       "region_of_interest (generic function with 1 method)"
      ]
     },
     "execution_count": 13,
     "metadata": {},
     "output_type": "execute_result"
    }
   ],
   "source": [
    "function region_of_interest(data)\n",
    "    # ind = findmax(reverse(diff(data[:,:date])))[2]\n",
    "    # if (ind == 1)\n",
    "    #     no_gaps = copy(data)\n",
    "    # else\n",
    "    #     no_gaps = copy(data[size(data)[1]-ind+2:end,:])\n",
    "    # end\n",
    "    nz = copy(data[data[:,:date] .> Date(2020,2,23),:])\n",
    "    nz[ismissing.(nz[:,:new_cases]),:new_cases] .= 0\n",
    "    infectives = compute_infectives(nz[:,:new_cases])\n",
    "    nz = nz[INFECTIOUS_PERIOD:end,:]\n",
    "    nz[:,:infectives] = Float64.(infectives)\n",
    "    allowmissing!(nz)\n",
    "    # now insert missing dates and impute infectives for those dates\n",
    "    if size(nz)[1] > 1\n",
    "        dr = nz[1,:date]:Day(1):nz[end,:date]\n",
    "        for d in dr\n",
    "            if ! (d in nz[:,:date])\n",
    "                push!(nz,vcat(d, nz[1,:location], [missing for i in 1:size(nz)[2]-2]))\n",
    "            end\n",
    "        end\n",
    "        sort!(nz)\n",
    "        nz[!,:infectives] = Impute.interp(nz[:,:infectives])\n",
    "    end\n",
    "    return nz[nz[:,:infectives].>0,:]\n",
    "end        "
   ]
  },
  {
   "cell_type": "code",
   "execution_count": 14,
   "metadata": {},
   "outputs": [
    {
     "data": {
      "text/plain": [
       "gaussian_smoothing (generic function with 1 method)"
      ]
     },
     "execution_count": 14,
     "metadata": {},
     "output_type": "execute_result"
    }
   ],
   "source": [
    "# gaussian_weights = [0.00598, 0.060626, 0.241843, 0.383103, 0.241843, 0.060626, 0.00598]\n",
    "function gaussian_smoothing(v)\n",
    "    gaussian_weights = [0.00598, 0.060626, 0.241843, 0.383103];\n",
    "    gw = gaussian_weights ./ sum(gaussian_weights);\n",
    "    gw1 = [1];\n",
    "    gw2 = gw[3:4] ./ sum(gw[3:4]);\n",
    "    gw3 = gw[2:4] ./ sum(gw[2:4]);\n",
    "    if length(v) > 3\n",
    "        rest = sum.([ v[i:i+3].*gw for i in 1:length(v)-3])\n",
    "        vs = vcat([v[1]],sum(v[1:2].*gw2),sum(v[1:3].*gw3),rest)\n",
    "    else\n",
    "        vs = copy(v)\n",
    "    end\n",
    "    return vs\n",
    "end "
   ]
  },
  {
   "cell_type": "code",
   "execution_count": null,
   "metadata": {},
   "outputs": [],
   "source": [
    "d = [sin(j*2*pi/100) for j in 1:100] .+ rand(100)./10\n",
    "sd = gaussian_smoothing(d)\n",
    "ssd = gaussian_smoothing(sd)\n",
    "using Plots\n",
    "plot([d,sd,ssd])"
   ]
  },
  {
   "cell_type": "code",
   "execution_count": null,
   "metadata": {},
   "outputs": [],
   "source": [
    "SMOOTHING_PASSES = 5\n",
    "# full_data = CSV.read(\"data/full_data.csv\")\n",
    "countries = unique(full_data[:,:location])\n",
    "country = \"New Zealand\"\n",
    "country_data = full_data[full_data[:,:location].==country,:]\n",
    "country_data_filtered = region_of_interest(country_data)\n",
    "println(size(country_data_filtered))\n",
    "end_date = country_data_filtered[:,:date][end]\n",
    "println(\"min = \",minimum(country_data_filtered[:,:new_cases]), \n",
    "        \" max = \",maximum(country_data_filtered[:,:new_cases]),\n",
    "        \" latest data at \",end_date)\n",
    "smooth_infectives = country_data_filtered[:,:infectives]\n",
    "for count in 1:SMOOTHING_PASSES\n",
    "    smooth_infectives = moving_average(smooth_infectives) # gaussian_smoothing\n",
    "end\n",
    "plot(country_data_filtered[:,:date], \n",
    "    [country_data_filtered[:,:infectives], smooth_infectives], lw=6,\n",
    "    legend=:topleft,\n",
    "    labels=[\"infectives\" \"smoothed\"],\n",
    "    title=\"$country as of $end_date\")"
   ]
  },
  {
   "cell_type": "markdown",
   "metadata": {},
   "source": [
    "Putting all this into one function"
   ]
  },
  {
   "cell_type": "code",
   "execution_count": null,
   "metadata": {},
   "outputs": [],
   "source": [
    "function prepare_cases(full_data, country)\n",
    "    country_data = full_data[full_data[:,:location].==country,:]\n",
    "    country_data_filtered = region_of_interest(country_data)\n",
    "    smooth_infectives = country_data_filtered[:,:infectives]\n",
    "    for count in 1:SMOOTHING_PASSES\n",
    "        smooth_infectives = moving_average(smooth_infectives) \n",
    "    end\n",
    "    # zeros_at = findall(x->x==0,infectives)\n",
    "    # if ( length(zeros_at) == 0 )\n",
    "    #     start = 1\n",
    "    # else\n",
    "    #     start = maximum(zeros_at)+1\n",
    "    # end\n",
    "    return (country_data_filtered[:,:date],country_data_filtered[:,:infectives], \n",
    "        smooth_infectives)\n",
    "end"
   ]
  },
  {
   "cell_type": "code",
   "execution_count": null,
   "metadata": {},
   "outputs": [],
   "source": [
    "d,inf,sinf = prepare_cases(full_data,country)\n",
    "end_date = d[end]\n",
    "plot(d, [inf, sinf], lw=6,\n",
    "    legend=:topleft,\n",
    "    labels=[\"infectives\" \"smoothed\"],\n",
    "    title=\"$country as of $end_date\")"
   ]
  },
  {
   "cell_type": "code",
   "execution_count": null,
   "metadata": {},
   "outputs": [],
   "source": [
    "println(\"sum of infectives = \",sum(inf),\"   sum of smooth infectives = \",sum(sinf))"
   ]
  },
  {
   "cell_type": "markdown",
   "metadata": {},
   "source": [
    "### Running the Algorithm\n",
    "\n",
    "#### Choosing the Gaussian $\\sigma$ for $P(R_t|R_{t-1})$\n",
    "\n",
    "> Note: you can safely skip this section if you trust that we chose the right value of $\\sigma$ for the process below. Otherwise, read on.\n",
    "\n",
    "The original approach simply selects yesterday's posterior as today's prior. While intuitive, doing so doesn't allow for our belief that the value of $R_t$ has likely changed from yesterday. To allow for that change, we apply Gaussian noise to the prior distribution with some standard deviation $\\sigma$. The higher $\\sigma$ the more noise and the more we will expect the value of $R_t$ to drift each day. Interestingly, applying noise on noise iteratively means that there will be a natural decay of distant posteriors. This approach has a similar effect of windowing, but is more robust and doesn't arbitrarily forget posteriors after a certain time like my previous approach. Specifically, windowing computed a fixed $R_t$ at each time $t$ that explained the surrounding $w$ days of cases, while the new approach computes a series of $R_t$ values that explains all the cases, assuming that $R_t$ fluctuates by about $\\sigma$ each day.\n",
    "\n",
    "However, there's still an arbitrary choice: what should $\\sigma$ be? Adam Lerer pointed out that we can use the process of maximum likelihood to inform our choice. Here's how it works:\n",
    "\n",
    "Maximum likelihood says that we'd like to choose a $\\sigma$ that maximizes the likelihood of seeing our data $k$: $P(k|\\sigma)$. Since $\\sigma$ is a fixed value, let's leave it out of the notation, so we're trying to maximize $P(k)$ over all choices of $\\sigma$.\n",
    "\n",
    "Since $P(k)=P(k_0,k_1,\\ldots,k_t)=P(k_0)P(k_1)\\ldots P(k_t)$ we need to define $P(k_t)$. It turns out this is the denominator of Bayes rule:\n",
    "\n",
    "$$P(R_t|k_t) = \\frac{P(k_t|R_t)P(R_t)}{P(k_t)}$$\n",
    "\n",
    "To calculate it, we notice that the numerator is actually just the joint distribution of $k$ and $R$:\n",
    "\n",
    "$$ P(k_t,R_t) =  P(k_t|R_t)P(R_t) $$\n",
    "\n",
    "We can marginalize the distribution over $R_t$ to get $P(k_t)$:\n",
    "\n",
    "$$ P(k_t) = \\sum_{R_{t}}{P(k_t|R_t)P(R_t)} $$\n",
    "\n",
    "So, if we sum the distribution of the numerator over all values of $R_t$, we get $P(k_t)$. And since we're calculating that anyway as we're calculating the posterior, we'll just keep track of it separately.\n",
    "\n",
    "Since we're looking for the value of $\\sigma$ that maximizes $P(k)$ overall, we actually want to maximize: \n",
    "\n",
    "$$\\prod_{t,i}{p(k_{ti})}$$\n",
    "\n",
    "where $t$ are all times and $i$ is each state.\n",
    "\n",
    "Since we're multiplying lots of tiny probabilities together, it can be easier (and less error-prone) to take the $\\log$ of the values and add them together. Remember that $\\log{ab}=\\log{a}+\\log{b}$. And since logarithms are monotonically increasing, maximizing the sum of the $\\log$ of the probabilities is the same as maximizing the product of the non-logarithmic probabilities for any choice of $\\sigma$.\n",
    "\n",
    "### Function for Calculating the Posteriors\n",
    "\n",
    "To calculate the posteriors we follow these steps:\n",
    "1. Calculate $\\lambda$ - the expected arrival rate for every day's poisson process\n",
    "2. Calculate each day's likelihood distribution over all possible values of $R_t$\n",
    "3. Calculate the process matrix based on the value of $\\sigma$ we discussed above\n",
    "4. Calculate our initial prior because our first day does not have a previous day from which to take the posterior\n",
    "  - Based on [info from the cdc](https://wwwnc.cdc.gov/eid/article/26/7/20-0282_article) we will choose a Gamma with mean 7.\n",
    "5. Loop from day 1 to the end, doing the following:\n",
    "  - Calculate the prior by applying the Gaussian to yesterday's prior.\n",
    "  - Apply Bayes' rule by multiplying this prior and the likelihood we calculated in step 2.\n",
    "  - Divide by the probability of the data (also Bayes' rule)"
   ]
  },
  {
   "cell_type": "code",
   "execution_count": null,
   "metadata": {},
   "outputs": [],
   "source": [
    "prior0 = [ pdf.(Gamma(1),rt) for rt in r_t_range ]\n",
    "r_t_range[findmax(prior0)[2]]"
   ]
  },
  {
   "cell_type": "code",
   "execution_count": null,
   "metadata": {},
   "outputs": [],
   "source": [
    "ceil(2.3)"
   ]
  },
  {
   "cell_type": "code",
   "execution_count": null,
   "metadata": {},
   "outputs": [],
   "source": [
    "pdf.(Poisson(8.003),7)"
   ]
  },
  {
   "cell_type": "code",
   "execution_count": null,
   "metadata": {},
   "outputs": [],
   "source": [
    "function get_posteriors(inf, sigma=0.26)\n",
    "    sr = inf # Int64.(floor.(inf))\n",
    "    # (1) Calculate Lambda\n",
    "    R_T_MAX = 12\n",
    "    r_t_range = collect(range(0, R_T_MAX, length=R_T_MAX*100+1))\n",
    "    GAMMA = 1/INFECTIOUS_PERIOD\n",
    "    lambdas = [ sr[i-1] .* exp.(GAMMA .* (r_t_range .- 1)) for i in 2:length(sr)]\n",
    "    lambdas = hcat(lambdas...)\n",
    "\n",
    "    # (2) Calculate each day's likelihood\n",
    "    pDist = [[Poisson(lam) for lam in lambdas[:,j]] for j in 1:size(lambdas)[2] ]\n",
    "    lks = [ [pdf.(pDist[j-1][i],Int64(floor(sr[j]))) for i in 1:length(pDist[j-1])] for j in 2:length(sr)]\n",
    "    lks = hcat(lks...)\n",
    "    likelihoods = lks ./ sum(lks, dims=1)\n",
    "    \n",
    "     # (3) Create the Gaussian Matrix\n",
    "    nDist = [ Normal(rt,sigma) for rt in r_t_range ]\n",
    "    process_matrix = [ [pdf.(nDist[j],r_t_range[i]) for i in 1:length(r_t_range)] \n",
    "        for j in 1:length(r_t_range)]\n",
    "    process_matrix = hcat(process_matrix...)\n",
    "    \n",
    "    # (3a) Normalize all rows to sum to 1\n",
    "    process_matrix = process_matrix ./ sum(process_matrix, dims=2)\n",
    "    \n",
    "    # (4) Calculate the initial prior\n",
    "    guess0 = 2+log(sr[2]/sr[1])/GAMMA\n",
    "    if guess0 < 1 \n",
    "        guess0 = 1\n",
    "    end\n",
    "    # println(guess0)\n",
    "    prior0 = [ pdf.(Gamma(guess0),rt) for rt in r_t_range ]\n",
    "    prior0 = prior0 ./ sum(prior0)\n",
    "    \n",
    "    # Create a DataFrame that will hold our posteriors for each day\n",
    "    # Insert our prior as the first posterior.\n",
    "    posteriors = DataFrame( [ Real for i in 1:length(sr) ], \n",
    "        [ Symbol.(\"D$i\") for i in 1:length(sr) ], length(r_t_range) )\n",
    "    days = names(posteriors)\n",
    "    # posteriors[:,:rts] = r_t_range\n",
    "    posteriors[:,:D1] = prior0\n",
    "    \n",
    "    # We said we'd keep track of the sum of the log of the probability\n",
    "    # of the data for maximum likelihood calculation.\n",
    "    log_likelihood = 0.0\n",
    "    \n",
    "       # (5) Iteratively apply Bayes' rule\n",
    "    nd = length(days)\n",
    "    # println(\"nd=$nd\")\n",
    "    for (previous_day, current_day) in zip(1:nd-1, 2:nd)\n",
    "\n",
    "        #(5a) Calculate the new prior\n",
    "        current_prior =   process_matrix * posteriors[:,Symbol(\"D$previous_day\")] # \n",
    "        \n",
    "        #(5b) Calculate the numerator of Bayes' Rule: P(k|R_t)P(R_t)\n",
    "        numerator = likelihoods[:,current_day-1] .* current_prior\n",
    "        \n",
    "        #(5c) Calcluate the denominator of Bayes' Rule P(k)\n",
    "        denominator = sum(numerator)\n",
    "        \n",
    "        # Execute full Bayes' Rule\n",
    "        posteriors[:,Symbol(\"D$current_day\")] = numerator./denominator\n",
    "        \n",
    "        # Add to the running sum of log likelihoods\n",
    "        log_likelihood += log(denominator)\n",
    "        \n",
    "    end\n",
    "    \n",
    "    return (posteriors, r_t_range, log_likelihood)\n",
    "    \n",
    "end"
   ]
  },
  {
   "cell_type": "markdown",
   "metadata": {},
   "source": [
    "### The Result\n",
    "\n",
    "Below you can see every day (row) of the posterior distribution plotted simultaneously. The posteriors start without much confidence (wide) and become progressively more confident (narrower) about the true value of $R_t$"
   ]
  },
  {
   "cell_type": "code",
   "execution_count": null,
   "metadata": {},
   "outputs": [],
   "source": [
    "[(sigma, get_posteriors(sinf,sigma)[3]) for sigma in 0.2:0.01:0.4]"
   ]
  },
  {
   "cell_type": "code",
   "execution_count": null,
   "metadata": {},
   "outputs": [],
   "source": [
    "(posteriors, rts, log_likelihood) = get_posteriors(sinf)\n",
    "println(\"ll=\",log_likelihood)\n",
    "print(size(posteriors))\n",
    "plot(rts,Array(posteriors),label=nothing,title=country*\" posteriors\")"
   ]
  },
  {
   "cell_type": "markdown",
   "metadata": {},
   "source": [
    "### Plotting in the Time Domain with Credible Intervals\n",
    "\n",
    "Since our results include uncertainty, we'd like to be able to view the most likely value of $R_t$ along with its highest-density interval."
   ]
  },
  {
   "cell_type": "code",
   "execution_count": null,
   "metadata": {},
   "outputs": [],
   "source": [
    "mlrt_values = rts[map(x->x[1],findmax(Array(posteriors),dims=1)[2])[1,:]]\n",
    "inds = [ highest_density_interval(posteriors[:,k]) for k in 1:size(posteriors)[2] ] \n",
    "low_high = [r_t_range[inds[k]] for k in 1:length(inds)]\n",
    "lows = map(x->x[1],low_high)\n",
    "highs = map(x->x[2],low_high)\n",
    "df = DataFrame(date = country_data_filtered[:,:date], mlrt = mlrt_values, low = lows, high = highs)\n",
    "# df = df[2:end,:]\n",
    "mlrt_score = round(sum(mlrt_values[end-6:end])/7,digits=1)\n",
    "fig = plot(df[:,:date], df[:,:mlrt],\n",
    "        ribbon = (df[:,:mlrt]-df[:,:low],df[:,:high]-df[:,:mlrt]),\n",
    "        fillalpha=0.1, lw = 3, label = \"Most Likely\",\n",
    "        m=:circle, ms=6, ylimits=[-0.5,5.5],\n",
    "        title= \"R(t)=$mlrt_score for $country as of $end_date\")\n",
    "plot!(df[:,:date], ones(size(df)[1]),lw=3,label=\"R(t)=1\")\n",
    "savefig(\"plots/Rt_$country\")\n",
    "fig"
   ]
  },
  {
   "cell_type": "markdown",
   "metadata": {},
   "source": [
    "#### Now lets try and produce current most likely Rt for each country with enough case data"
   ]
  },
  {
   "cell_type": "code",
   "execution_count": null,
   "metadata": {},
   "outputs": [],
   "source": [
    "output_url = \"../../HughMurrell.github.io/CoVmodel/RtLive/\""
   ]
  },
  {
   "cell_type": "code",
   "execution_count": null,
   "metadata": {},
   "outputs": [],
   "source": [
    "countries = unique(full_data[:,:location])\n",
    "df = DataFrame(country=String[], start_date=Date[],end_date=Date[],\n",
    "                    mlrt=Float64[],low=Float64[],high=Float64[])\n",
    "for country in countries\n",
    "    dates,infectives,smooth_infectives = prepare_cases(full_data,country)\n",
    "    if ( length(infectives)<10 || maximum(infectives) < 400)\n",
    "        println(\"skipping $country ... \")\n",
    "    else\n",
    "        println(\"processing $country ...\")\n",
    "        start_date = dates[1]  \n",
    "        end_date = dates[end]\n",
    "        fig = plot(dates, [infectives, smooth_infectives], lw=6,\n",
    "            legend=:topleft,\n",
    "            label=[ \"infectious\" \"smoothed\" ],\n",
    "            title=\"$country - from $start_date to $end_date\")\n",
    "        savefig(output_url*\"plots/Inf_$country\")\n",
    "        (posteriors, rts, log_likelihood) = get_posteriors(smooth_infectives)\n",
    "        mlrt_values = rts[map(x->x[1],findmax(Array(posteriors),dims=1)[2])[1,:]]\n",
    "        inds = [ highest_density_interval(posteriors[:,k]) for k in 1:size(posteriors)[2] ] \n",
    "        low_high = [rts[inds[k]] for k in 1:length(inds)]\n",
    "        lows = map(x->x[1],low_high)\n",
    "        highs = map(x->x[2],low_high)\n",
    "        # make an Rt plot for this country\n",
    "        # last_mlrt = round(mlrt_values[end],digits=1)\n",
    "        mlrt_score = round(sum(mlrt_values[end-6:end])/7,digits=1)\n",
    "        cdf = DataFrame(date = dates, mlrt = mlrt_values, \n",
    "            low = lows, high = highs)\n",
    "        fig = plot(cdf[:,:date], cdf[:,:mlrt], \n",
    "                ribbon = (cdf[:,:mlrt]-cdf[:,:low],cdf[:,:high]-cdf[:,:mlrt]),\n",
    "                fillalpha=0.1, lw = 3, label = \"Most Likely\",\n",
    "                m=:circle, ms=6, ylimits=[-0.5,5.5],\n",
    "            title=\"$country, R(t) = $mlrt_score over week finishing at $end_date\")\n",
    "        plot!(cdf[:,:date], ones(size(cdf)[1]),lw=3,label=\"R(t)=1\")\n",
    "        savefig(output_url*\"plots/Rt_$country\")\n",
    "        # now save last mlrt, low and high\n",
    "        push!(df,[country start_date end_date mlrt_score cdf[end, :low] cdf[end, :high]])\n",
    "    end\n",
    "end\n",
    "df"
   ]
  },
  {
   "cell_type": "code",
   "execution_count": null,
   "metadata": {},
   "outputs": [],
   "source": [
    "dft = df\n",
    "sort!(dft,:country)\n",
    "CSV.write(output_url*\"data/ranking_alpha.csv\",dft)\n",
    "sort!(dft,:mlrt)\n",
    "CSV.write(output_url*\"data/ranking_mlrt.csv\",dft)"
   ]
  },
  {
   "cell_type": "code",
   "execution_count": null,
   "metadata": {},
   "outputs": [],
   "source": [
    "first(dft,6)"
   ]
  },
  {
   "cell_type": "code",
   "execution_count": null,
   "metadata": {},
   "outputs": [],
   "source": [
    "maximum(dft[:,:end_date])"
   ]
  },
  {
   "cell_type": "code",
   "execution_count": null,
   "metadata": {},
   "outputs": [],
   "source": [
    "Plots.Font(\"sans-serif\", 10, :hcenter, :vcenter, 0.0, RGB(0.0,0.0,0.0))\n",
    "myfont = text(\"\").font\n",
    "myfont.rotation = 90\n",
    "end_date = maximum(dft[:,:end_date])\n",
    "fig = scatter( (dft[:,:high]+dft[:,:low])/2, \n",
    "    yerror = (dft[:,:high]-dft[:,:low])/2, c=3,\n",
    "    m = :circle, ms = 0, markerstrokewidth = 5, label=\"\")\n",
    "plot!(ones(size(dft)[1]),label=\"\",c=2, lw=3,    \n",
    "    title=\"R(t) ranking as of $end_date\")\n",
    "scatter!(dft[:,:mlrt],markershape=:circle,   \n",
    "    markersize = 12, c=1,\n",
    "    ylims=[-1, 4], yticks = [0.0, 1.0, 2.0, 3.0], xticks = [],\n",
    "    # series_annotations=text.(dft[:,:country], :middle, 6, :hcenter, :vcenter),\n",
    "    size=(1600,400),\n",
    "    label=\"Country R(t) rank\", legend=:topleft)\n",
    "for j in 1:size(dft)[1]\n",
    "    annotate!(j,dft[:,:mlrt][j], dft[:,:country][j], myfont)\n",
    "end\n",
    "savefig(\"plots/ranking\")\n",
    "fig"
   ]
  },
  {
   "cell_type": "markdown",
   "metadata": {},
   "source": [
    "## A Simulated outbreak"
   ]
  },
  {
   "cell_type": "code",
   "execution_count": null,
   "metadata": {},
   "outputs": [],
   "source": [
    "country = \"Simulated\""
   ]
  },
  {
   "cell_type": "code",
   "execution_count": null,
   "metadata": {},
   "outputs": [],
   "source": [
    "using Distributions, Plots\n",
    "function sim_SIR_withRt(;R0 = 2, y = 1/7, pop = 1000000, init = 1000, upper = 70)\n",
    "  NC,Sv,Iv,Rv,Cv,Rtv = zeros(Int,upper),zeros(Int,upper),zeros(Int,upper),\n",
    "    zeros(Int,upper),zeros(Int,upper),zeros(Float64,upper)\n",
    "  b = R0 * y\n",
    "  S = pop\n",
    "  I = init\n",
    "  C = I\n",
    "  R = 0\n",
    "  for i in 1:upper\n",
    "       # b = 0.98 * b\n",
    "      new_cases = min(rand(Poisson(b*S*I/(S+I))),S)\n",
    "      I += new_cases\n",
    "      S -= new_cases\n",
    "      recoveries = min(rand(Poisson(y*I)),I)\n",
    "      I -= recoveries\n",
    "      R += recoveries\n",
    "       \n",
    "      C += new_cases  \n",
    "      Rt = R0*(S/(S+I)) \n",
    "       \n",
    "      NC[i],Sv[i],Iv[i],Rv[i],Cv[i],Rtv[i] = new_cases,S,I,R,C,Rt\n",
    "  end\n",
    "  return NC,Sv,Iv,Rv,Cv,Rtv\n",
    "end"
   ]
  },
  {
   "cell_type": "code",
   "execution_count": null,
   "metadata": {},
   "outputs": [],
   "source": [
    "trial = sim_SIR_withRt();\n",
    "new_cases = trial[1]\n",
    "plot([new_cases])"
   ]
  },
  {
   "cell_type": "code",
   "execution_count": null,
   "metadata": {},
   "outputs": [],
   "source": [
    "infectives = [sum(new_cases[max(1,i-7+1):i])+max(7-i,0)*new_cases[1]\n",
    "        for i in 1:length(new_cases) ] \n",
    "# recovered = cumsum(new_cases)\n",
    "# infectives = trial[3]\n",
    "Rt_estimate = vcat( [2], \n",
    "    [(1 + 7 * log(infectives[i+1]/infectives[i])) \n",
    "        for i in 1:length(new_cases)-1 ] )    \n",
    "# Rt_estimate = (2.0 .* trial[2])./(trial[2].+infectives)\n",
    "plot([ Rt_estimate, trial[6] ])"
   ]
  },
  {
   "cell_type": "code",
   "execution_count": null,
   "metadata": {},
   "outputs": [],
   "source": [
    "length(infectives)"
   ]
  },
  {
   "cell_type": "code",
   "execution_count": null,
   "metadata": {},
   "outputs": [],
   "source": [
    "smooth_infectives = copy(infectives)\n",
    "    for count in 1:4\n",
    "        smooth_infectives = copy(moving_average(smooth_infectives))\n",
    "    end\n",
    "plot([infectives,smooth_infectives])"
   ]
  },
  {
   "cell_type": "code",
   "execution_count": null,
   "metadata": {},
   "outputs": [],
   "source": [
    "(posteriors, rts, log_likelihood) = get_posteriors(smooth_infectives)\n",
    "mlrt_values = rts[map(x->x[1],findmax(Array(posteriors),dims=1)[2])[1,:]] \n",
    "println(size(mlrt_values))\n",
    "# adjusted_values = (log.(mlrt_values)./GAMMA).+1\n",
    "inds = [ highest_density_interval(posteriors[:,k]) for k in 1:size(posteriors)[2] ] \n",
    "low_high = [r_t_range[inds[k]] for k in 1:length(inds)]\n",
    "lows = map(x->x[1],low_high) \n",
    "highs = map(x->x[2],low_high) \n",
    "df = DataFrame(day = 1:length(mlrt_values), mlrt = mlrt_values, low = lows, high = highs)\n",
    "fig = plot(df[:,:day], df[:,:mlrt], ribbon = (df[:,:mlrt]-df[:,:low],df[:,:high]-df[:,:mlrt]),\n",
    "fillalpha=0.1, lw = 3, label = \"Most Likely R(t)\")\n",
    "plot!(ones(size(df)[1]),lw=3,label=\"R(t)=1\",\n",
    "title= \"R(t) for $country\")\n",
    "plot!(trial[6],lw=3,label=\"Sim Rt\",ylimit=[0,5])\n",
    "# plot!(adjusted_values,lw=3,label=\"Adjusted\")\n",
    "savefig(\"plots/Rt_$country\")\n",
    "fig"
   ]
  },
  {
   "cell_type": "code",
   "execution_count": null,
   "metadata": {},
   "outputs": [],
   "source": [
    "using Impute\n",
    "data = CSV.read(\"data/covid19za.csv\",\n",
    "            types=[String, String, Float64, Float64, Float64, Float64, Float64, \n",
    "                    Float64, Float64, Float64, Float64, Float64, Float64, String])\n",
    "date_format = DateFormat(\"dd-mm-yyyy\")\n",
    "data[!,:date] = Date.(data[:,:date],date_format)\n",
    "data = data[:,[:date, :EC, :FS, :GP, :KZN, :LP, :MP, :NC, :NW, :WC, :total]]\n",
    "dr = data[1,:date]:Day(1):data[end,:date]\n",
    "for d in dr\n",
    "    if ! (d in data[:,:date])\n",
    "        push!(data,vcat(d, [missing for i in 1:size(data)[2]-2], 0))\n",
    "    end\n",
    "end\n",
    "sort!(data)\n",
    "regions=names(data)[2:end]\n",
    "fig_infs = plot(legend=:topleft,ylabel=\"infectives\",\n",
    "    title=\"Infective Counts by Province\")\n",
    "fig_rts = plot(legend=:topleft,ylabel=\"R(t)\",\n",
    "    title=\"Tracking R(t) by Province\")\n",
    "for region in regions\n",
    "    cases = Impute.interp(data[:,region])\n",
    "    infectives = [ cases[i]-cases[i-6] for i in 7:length(cases) ]\n",
    "    if(maximum(infectives)>100)\n",
    "        plot!(fig_infs, data[7:end,:date],infectives,lw=6,m=:circle,label=String(region))\n",
    "        plot!(fig_rts, data[7:end,:date],cases[7:end],lw=6,m=:circle,label=String(region))\n",
    "    end\n",
    "end\n",
    "fig_rts\n",
    "# countries = unique(full_data[:,:location])\n",
    "# country = \"New Zealand\""
   ]
  },
  {
   "cell_type": "code",
   "execution_count": null,
   "metadata": {},
   "outputs": [],
   "source": []
  }
 ],
 "metadata": {
  "kernelspec": {
   "display_name": "Julia 1.2.0",
   "language": "julia",
   "name": "julia-1.2"
  },
  "language_info": {
   "file_extension": ".jl",
   "mimetype": "application/julia",
   "name": "julia",
   "version": "1.2.0"
  }
 },
 "nbformat": 4,
 "nbformat_minor": 4
}
