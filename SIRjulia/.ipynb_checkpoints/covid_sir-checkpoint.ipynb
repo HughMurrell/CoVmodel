{
 "cells": [
  {
   "cell_type": "code",
   "execution_count": 1,
   "metadata": {},
   "outputs": [],
   "source": [
    "# run these cells to generate clean data \n",
    "# Data from John Hopkins and World Bank\n",
    "# https://github.com/CSSEGISandData/COVID-19\n",
    "using CSV, Plots, DataFrames, Dates"
   ]
  },
  {
   "cell_type": "code",
   "execution_count": 2,
   "metadata": {},
   "outputs": [
    {
     "data": {
      "text/plain": [
       "(264, 2)"
      ]
     },
     "execution_count": 2,
     "metadata": {},
     "output_type": "execute_result"
    }
   ],
   "source": [
    "wb_pop = CSV.read(\"covid_data/wb_population.csv\")\n",
    "dfp = wb_pop[:,Symbol.([\"Country Name\", \"2018\"])]\n",
    "rename!(dfp,Symbol.([\"country\"; \"population\"]))\n",
    "size(dfp)"
   ]
  },
  {
   "cell_type": "code",
   "execution_count": 3,
   "metadata": {},
   "outputs": [
    {
     "name": "stdout",
     "output_type": "stream",
     "text": [
      "0020-01-22......0020-04-08\n"
     ]
    },
    {
     "data": {
      "text/plain": [
       "(181, 81)"
      ]
     },
     "execution_count": 3,
     "metadata": {},
     "output_type": "execute_result"
    }
   ],
   "source": [
    "confirmed_global = CSV.read(\"covid_data/time_series_covid19_confirmed_global.csv\")\n",
    "df = confirmed_global[ismissing.(confirmed_global[!,Symbol(\"Province/State\")]),2:end]\n",
    "first_date = Date(string(names(df)[4]),dateformat\"m/d/y\")\n",
    "last_date = Date(string(names(df)[length(names(df))]),dateformat\"m/d/y\")\n",
    "println(first_date, \"......\", last_date)\n",
    "# rename daily case count columns\n",
    "rename!(df,Symbol.([\"country\"; \"lat\"; \"long\"; [\"D$(i-3)\" for i in 4:size(df)[2]]]))\n",
    "size(df)"
   ]
  },
  {
   "cell_type": "code",
   "execution_count": 4,
   "metadata": {},
   "outputs": [
    {
     "data": {
      "text/plain": [
       "(156, 84)"
      ]
     },
     "execution_count": 4,
     "metadata": {},
     "output_type": "execute_result"
    }
   ],
   "source": [
    "# combine case counts with population data using :country as key\n",
    "dfc = join(df, dfp, kind = :inner, on = intersect(names(df), names(dfp)))\n",
    "dfc = hcat(dfc[:,[:country; :population; :lat; :long]], \n",
    "        DataFrame(first=[first_date for i in 1:size(dfc)[1]],\n",
    "                  last=[last_date for i in 1:size(dfc)[1]]),\n",
    "        dfc[:,Symbol.([\"D$i\" for i in 1:size(dfc)[2]-4])])\n",
    "size(dfc)"
   ]
  },
  {
   "cell_type": "code",
   "execution_count": 5,
   "metadata": {},
   "outputs": [
    {
     "data": {
      "text/plain": [
       "slope (generic function with 1 method)"
      ]
     },
     "execution_count": 5,
     "metadata": {},
     "output_type": "execute_result"
    }
   ],
   "source": [
    "# function to compute slope of best fit to data on integer grid\n",
    "function slope(data)\n",
    "    np = length(data)\n",
    "    x_bar = sum(1:np)/np\n",
    "    y_bar = sum(data)/np\n",
    "    sl = sum( ((1:np) .- x_bar).*(data .- y_bar)) / sum( ((1:np) .- x_bar).^2 )\n",
    "end"
   ]
  },
  {
   "cell_type": "code",
   "execution_count": 7,
   "metadata": {},
   "outputs": [
    {
     "data": {
      "text/plain": [
       "best_ld (generic function with 1 method)"
      ]
     },
     "execution_count": 7,
     "metadata": {},
     "output_type": "execute_result"
    }
   ],
   "source": [
    "# fuction to get best intervention date by taking difference of before and after\n",
    "# slopes fitted to log of data. data is stripped of leading zero counts before\n",
    "# search for best intervention and then number of stripped zeros are added back\n",
    "function best_ld(data)\n",
    "    striped = data[data[:,1] .!= 0,:]\n",
    "    np = length(striped)\n",
    "    slopes = [ slope(log.(striped[1:k]))-slope(log.(striped[k+1:end])) for k in 2:np-2] \n",
    "    if length(slopes) > 0\n",
    "        sp = findmax(slopes)[2]+1\n",
    "    else\n",
    "        sp = 0\n",
    "    end\n",
    "    size(data)[1] - (length(striped)-sp)\n",
    "end"
   ]
  },
  {
   "cell_type": "code",
   "execution_count": 8,
   "metadata": {},
   "outputs": [
    {
     "data": {
      "text/plain": [
       "73"
      ]
     },
     "execution_count": 8,
     "metadata": {},
     "output_type": "execute_result"
    }
   ],
   "source": [
    "best_ld(Array(dfc[120,7:end]))"
   ]
  },
  {
   "cell_type": "code",
   "execution_count": 9,
   "metadata": {},
   "outputs": [
    {
     "name": "stdout",
     "output_type": "stream",
     "text": [
      "[76, 49, 45, 67, 60, 76, 47, 74, 64, 73, 35, 61, 58, 44, 76, 57, 75, 53, 71, 62, 54, 50, 60, 72, 74, 60, 76, 44, 55, 48, 67, 36, 68, 50, 52, 66, 70, 71, 60, 58, 73, 56, 67, 56, 63, 75, 4, 62, 51, 7, 54, 37, 56, 74, 56, 63, 75, 48, 43, 13, 54, 36, 45, 76, 64, 52, 11, 65, 56, 54, 35, 60, 45, 57, 62, 73, 64, 63, 5, 50, 56, 70, 59, 39, 49, 75, 60, 59, 75, 74, 76, 39, 76, 60, 75, 72, 76, 39, 36, 76, 50, 76, 51, 47, 76, 45, 45, 40, 38, 55, 43, 45, 42, 52, 56, 3, 45, 72, 65, 73, 76, 76, 63, 72, 37, 58, 3, 65, 61, 76, 61, 62, 73, 76, 74, 57, 55, 18, 68, 60, 62, 66, 64, 62, 64, 69, 46, 76, 66, 66, 70, 72, 71, 76, 76, 75]\n"
     ]
    }
   ],
   "source": [
    "# compute best intervention dates for all data\n",
    "blds = [ best_ld(Array(dfc[i,7:end])) for i in 1:size(dfc)[1] ]\n",
    "println(blds)"
   ]
  },
  {
   "cell_type": "code",
   "execution_count": 78,
   "metadata": {},
   "outputs": [
    {
     "data": {
      "text/plain": [
       "156"
      ]
     },
     "execution_count": 78,
     "metadata": {},
     "output_type": "execute_result"
    }
   ],
   "source": [
    "length(blds)"
   ]
  },
  {
   "cell_type": "code",
   "execution_count": 79,
   "metadata": {},
   "outputs": [
    {
     "data": {
      "text/plain": [
       "156-element Array{Float64,1}:\n",
       " 0.5\n",
       " 0.5\n",
       " 0.5\n",
       " 0.5\n",
       " 0.5\n",
       " 0.5\n",
       " 0.5\n",
       " 0.5\n",
       " 0.5\n",
       " 0.5\n",
       " 0.5\n",
       " 0.5\n",
       " 0.5\n",
       " ⋮  \n",
       " 0.5\n",
       " 0.5\n",
       " 0.5\n",
       " 0.5\n",
       " 0.5\n",
       " 0.5\n",
       " 0.5\n",
       " 0.5\n",
       " 0.5\n",
       " 0.5\n",
       " 0.5\n",
       " 0.5"
      ]
     },
     "execution_count": 79,
     "metadata": {},
     "output_type": "execute_result"
    }
   ],
   "source": [
    "[ 0.5 for i in 1:length(blds) ]"
   ]
  },
  {
   "cell_type": "code",
   "execution_count": 10,
   "metadata": {},
   "outputs": [
    {
     "data": {
      "text/html": [
       "<table class=\"data-frame\"><thead><tr><th></th><th>country</th><th>population</th><th>lat</th><th>long</th><th>first</th><th>last</th></tr><tr><th></th><th>String</th><th>Int64⍰</th><th>Float64</th><th>Float64</th><th>Date</th><th>Date</th></tr></thead><tbody><p>156 rows × 87 columns (omitted printing of 81 columns)</p><tr><th>1</th><td>Afghanistan</td><td>37172386</td><td>33.0</td><td>65.0</td><td>0020-01-22</td><td>0020-04-08</td></tr><tr><th>2</th><td>Albania</td><td>2866376</td><td>41.1533</td><td>20.1683</td><td>0020-01-22</td><td>0020-04-08</td></tr><tr><th>3</th><td>Algeria</td><td>42228429</td><td>28.0339</td><td>1.6596</td><td>0020-01-22</td><td>0020-04-08</td></tr><tr><th>4</th><td>Andorra</td><td>77006</td><td>42.5063</td><td>1.5218</td><td>0020-01-22</td><td>0020-04-08</td></tr><tr><th>5</th><td>Angola</td><td>30809762</td><td>-11.2027</td><td>17.8739</td><td>0020-01-22</td><td>0020-04-08</td></tr><tr><th>6</th><td>Antigua and Barbuda</td><td>96286</td><td>17.0608</td><td>-61.7964</td><td>0020-01-22</td><td>0020-04-08</td></tr><tr><th>7</th><td>Argentina</td><td>44494502</td><td>-38.4161</td><td>-63.6167</td><td>0020-01-22</td><td>0020-04-08</td></tr><tr><th>8</th><td>Armenia</td><td>2951776</td><td>40.0691</td><td>45.0382</td><td>0020-01-22</td><td>0020-04-08</td></tr><tr><th>9</th><td>Austria</td><td>8847037</td><td>47.5162</td><td>14.5501</td><td>0020-01-22</td><td>0020-04-08</td></tr><tr><th>10</th><td>Azerbaijan</td><td>9942334</td><td>40.1431</td><td>47.5769</td><td>0020-01-22</td><td>0020-04-08</td></tr><tr><th>11</th><td>Bahrain</td><td>1569439</td><td>26.0275</td><td>50.55</td><td>0020-01-22</td><td>0020-04-08</td></tr><tr><th>12</th><td>Bangladesh</td><td>161356039</td><td>23.685</td><td>90.3563</td><td>0020-01-22</td><td>0020-04-08</td></tr><tr><th>13</th><td>Barbados</td><td>286641</td><td>13.1939</td><td>-59.5432</td><td>0020-01-22</td><td>0020-04-08</td></tr><tr><th>14</th><td>Belarus</td><td>9485386</td><td>53.7098</td><td>27.9534</td><td>0020-01-22</td><td>0020-04-08</td></tr><tr><th>15</th><td>Belgium</td><td>11422068</td><td>50.8333</td><td>4.0</td><td>0020-01-22</td><td>0020-04-08</td></tr><tr><th>16</th><td>Benin</td><td>11485048</td><td>9.3077</td><td>2.3158</td><td>0020-01-22</td><td>0020-04-08</td></tr><tr><th>17</th><td>Bhutan</td><td>754394</td><td>27.5142</td><td>90.4336</td><td>0020-01-22</td><td>0020-04-08</td></tr><tr><th>18</th><td>Bolivia</td><td>11353142</td><td>-16.2902</td><td>-63.5887</td><td>0020-01-22</td><td>0020-04-08</td></tr><tr><th>19</th><td>Bosnia and Herzegovina</td><td>3323929</td><td>43.9159</td><td>17.6791</td><td>0020-01-22</td><td>0020-04-08</td></tr><tr><th>20</th><td>Brazil</td><td>209469333</td><td>-14.235</td><td>-51.9253</td><td>0020-01-22</td><td>0020-04-08</td></tr><tr><th>21</th><td>Bulgaria</td><td>7024216</td><td>42.7339</td><td>25.4858</td><td>0020-01-22</td><td>0020-04-08</td></tr><tr><th>22</th><td>Burkina Faso</td><td>19751535</td><td>12.2383</td><td>-1.5616</td><td>0020-01-22</td><td>0020-04-08</td></tr><tr><th>23</th><td>Cabo Verde</td><td>543767</td><td>16.5388</td><td>-23.0418</td><td>0020-01-22</td><td>0020-04-08</td></tr><tr><th>24</th><td>Cambodia</td><td>16249798</td><td>11.55</td><td>104.917</td><td>0020-01-22</td><td>0020-04-08</td></tr><tr><th>25</th><td>Cameroon</td><td>25216237</td><td>3.848</td><td>11.5021</td><td>0020-01-22</td><td>0020-04-08</td></tr><tr><th>26</th><td>Central African Republic</td><td>4666377</td><td>6.6111</td><td>20.9394</td><td>0020-01-22</td><td>0020-04-08</td></tr><tr><th>27</th><td>Chad</td><td>15477751</td><td>15.4542</td><td>18.7322</td><td>0020-01-22</td><td>0020-04-08</td></tr><tr><th>28</th><td>Chile</td><td>18729160</td><td>-35.6751</td><td>-71.543</td><td>0020-01-22</td><td>0020-04-08</td></tr><tr><th>29</th><td>Colombia</td><td>49648685</td><td>4.5709</td><td>-74.2973</td><td>0020-01-22</td><td>0020-04-08</td></tr><tr><th>30</th><td>Costa Rica</td><td>4999441</td><td>9.7489</td><td>-83.7534</td><td>0020-01-22</td><td>0020-04-08</td></tr><tr><th>&vellip;</th><td>&vellip;</td><td>&vellip;</td><td>&vellip;</td><td>&vellip;</td><td>&vellip;</td><td>&vellip;</td></tr></tbody></table>"
      ],
      "text/latex": [
       "\\begin{tabular}{r|ccccccc}\n",
       "\t& country & population & lat & long & first & last & \\\\\n",
       "\t\\hline\n",
       "\t& String & Int64⍰ & Float64 & Float64 & Date & Date & \\\\\n",
       "\t\\hline\n",
       "\t1 & Afghanistan & 37172386 & 33.0 & 65.0 & 0020-01-22 & 0020-04-08 & $\\dots$ \\\\\n",
       "\t2 & Albania & 2866376 & 41.1533 & 20.1683 & 0020-01-22 & 0020-04-08 & $\\dots$ \\\\\n",
       "\t3 & Algeria & 42228429 & 28.0339 & 1.6596 & 0020-01-22 & 0020-04-08 & $\\dots$ \\\\\n",
       "\t4 & Andorra & 77006 & 42.5063 & 1.5218 & 0020-01-22 & 0020-04-08 & $\\dots$ \\\\\n",
       "\t5 & Angola & 30809762 & -11.2027 & 17.8739 & 0020-01-22 & 0020-04-08 & $\\dots$ \\\\\n",
       "\t6 & Antigua and Barbuda & 96286 & 17.0608 & -61.7964 & 0020-01-22 & 0020-04-08 & $\\dots$ \\\\\n",
       "\t7 & Argentina & 44494502 & -38.4161 & -63.6167 & 0020-01-22 & 0020-04-08 & $\\dots$ \\\\\n",
       "\t8 & Armenia & 2951776 & 40.0691 & 45.0382 & 0020-01-22 & 0020-04-08 & $\\dots$ \\\\\n",
       "\t9 & Austria & 8847037 & 47.5162 & 14.5501 & 0020-01-22 & 0020-04-08 & $\\dots$ \\\\\n",
       "\t10 & Azerbaijan & 9942334 & 40.1431 & 47.5769 & 0020-01-22 & 0020-04-08 & $\\dots$ \\\\\n",
       "\t11 & Bahrain & 1569439 & 26.0275 & 50.55 & 0020-01-22 & 0020-04-08 & $\\dots$ \\\\\n",
       "\t12 & Bangladesh & 161356039 & 23.685 & 90.3563 & 0020-01-22 & 0020-04-08 & $\\dots$ \\\\\n",
       "\t13 & Barbados & 286641 & 13.1939 & -59.5432 & 0020-01-22 & 0020-04-08 & $\\dots$ \\\\\n",
       "\t14 & Belarus & 9485386 & 53.7098 & 27.9534 & 0020-01-22 & 0020-04-08 & $\\dots$ \\\\\n",
       "\t15 & Belgium & 11422068 & 50.8333 & 4.0 & 0020-01-22 & 0020-04-08 & $\\dots$ \\\\\n",
       "\t16 & Benin & 11485048 & 9.3077 & 2.3158 & 0020-01-22 & 0020-04-08 & $\\dots$ \\\\\n",
       "\t17 & Bhutan & 754394 & 27.5142 & 90.4336 & 0020-01-22 & 0020-04-08 & $\\dots$ \\\\\n",
       "\t18 & Bolivia & 11353142 & -16.2902 & -63.5887 & 0020-01-22 & 0020-04-08 & $\\dots$ \\\\\n",
       "\t19 & Bosnia and Herzegovina & 3323929 & 43.9159 & 17.6791 & 0020-01-22 & 0020-04-08 & $\\dots$ \\\\\n",
       "\t20 & Brazil & 209469333 & -14.235 & -51.9253 & 0020-01-22 & 0020-04-08 & $\\dots$ \\\\\n",
       "\t21 & Bulgaria & 7024216 & 42.7339 & 25.4858 & 0020-01-22 & 0020-04-08 & $\\dots$ \\\\\n",
       "\t22 & Burkina Faso & 19751535 & 12.2383 & -1.5616 & 0020-01-22 & 0020-04-08 & $\\dots$ \\\\\n",
       "\t23 & Cabo Verde & 543767 & 16.5388 & -23.0418 & 0020-01-22 & 0020-04-08 & $\\dots$ \\\\\n",
       "\t24 & Cambodia & 16249798 & 11.55 & 104.917 & 0020-01-22 & 0020-04-08 & $\\dots$ \\\\\n",
       "\t25 & Cameroon & 25216237 & 3.848 & 11.5021 & 0020-01-22 & 0020-04-08 & $\\dots$ \\\\\n",
       "\t26 & Central African Republic & 4666377 & 6.6111 & 20.9394 & 0020-01-22 & 0020-04-08 & $\\dots$ \\\\\n",
       "\t27 & Chad & 15477751 & 15.4542 & 18.7322 & 0020-01-22 & 0020-04-08 & $\\dots$ \\\\\n",
       "\t28 & Chile & 18729160 & -35.6751 & -71.543 & 0020-01-22 & 0020-04-08 & $\\dots$ \\\\\n",
       "\t29 & Colombia & 49648685 & 4.5709 & -74.2973 & 0020-01-22 & 0020-04-08 & $\\dots$ \\\\\n",
       "\t30 & Costa Rica & 4999441 & 9.7489 & -83.7534 & 0020-01-22 & 0020-04-08 & $\\dots$ \\\\\n",
       "\t$\\dots$ & $\\dots$ & $\\dots$ & $\\dots$ & $\\dots$ & $\\dots$ & $\\dots$ &  \\\\\n",
       "\\end{tabular}\n"
      ],
      "text/plain": [
       "156×87 DataFrame. Omitted printing of 82 columns\n",
       "│ Row │ country               │ population │ lat      │ long     │ first      │\n",
       "│     │ \u001b[90mString\u001b[39m                │ \u001b[90mInt64⍰\u001b[39m     │ \u001b[90mFloat64\u001b[39m  │ \u001b[90mFloat64\u001b[39m  │ \u001b[90mDate\u001b[39m       │\n",
       "├─────┼───────────────────────┼────────────┼──────────┼──────────┼────────────┤\n",
       "│ 1   │ Afghanistan           │ 37172386   │ 33.0     │ 65.0     │ 0020-01-22 │\n",
       "│ 2   │ Albania               │ 2866376    │ 41.1533  │ 20.1683  │ 0020-01-22 │\n",
       "│ 3   │ Algeria               │ 42228429   │ 28.0339  │ 1.6596   │ 0020-01-22 │\n",
       "│ 4   │ Andorra               │ 77006      │ 42.5063  │ 1.5218   │ 0020-01-22 │\n",
       "│ 5   │ Angola                │ 30809762   │ -11.2027 │ 17.8739  │ 0020-01-22 │\n",
       "│ 6   │ Antigua and Barbuda   │ 96286      │ 17.0608  │ -61.7964 │ 0020-01-22 │\n",
       "│ 7   │ Argentina             │ 44494502   │ -38.4161 │ -63.6167 │ 0020-01-22 │\n",
       "│ 8   │ Armenia               │ 2951776    │ 40.0691  │ 45.0382  │ 0020-01-22 │\n",
       "│ 9   │ Austria               │ 8847037    │ 47.5162  │ 14.5501  │ 0020-01-22 │\n",
       "│ 10  │ Azerbaijan            │ 9942334    │ 40.1431  │ 47.5769  │ 0020-01-22 │\n",
       "⋮\n",
       "│ 146 │ Libya                 │ 6678567    │ 26.3351  │ 17.2283  │ 0020-01-22 │\n",
       "│ 147 │ West Bank and Gaza    │ 4569087    │ 31.9522  │ 35.2332  │ 0020-01-22 │\n",
       "│ 148 │ Guinea-Bissau         │ 1874309    │ 11.8037  │ -15.1804 │ 0020-01-22 │\n",
       "│ 149 │ Mali                  │ 19077690   │ 17.5707  │ -3.99617 │ 0020-01-22 │\n",
       "│ 150 │ Kosovo                │ 1845300    │ 42.6026  │ 20.903   │ 0020-01-22 │\n",
       "│ 151 │ Botswana              │ 2254126    │ -22.3285 │ 24.6849  │ 0020-01-22 │\n",
       "│ 152 │ Burundi               │ 11175378   │ -3.3731  │ 29.9189  │ 0020-01-22 │\n",
       "│ 153 │ Sierra Leone          │ 7650154    │ 8.46056  │ -11.7799 │ 0020-01-22 │\n",
       "│ 154 │ Malawi                │ 18143315   │ -13.2543 │ 34.3015  │ 0020-01-22 │\n",
       "│ 155 │ South Sudan           │ 10975920   │ 6.877    │ 31.307   │ 0020-01-22 │\n",
       "│ 156 │ Sao Tome and Principe │ 211028     │ 0.18636  │ 6.61308  │ 0020-01-22 │"
      ]
     },
     "execution_count": 10,
     "metadata": {},
     "output_type": "execute_result"
    }
   ],
   "source": [
    "# make new dataframe by adding columns for best intervention default\n",
    "# betas (before and after intervention).\n",
    "dfca = hcat(dfc[:,[:country; :population; :lat; :long; :first; :last]], \n",
    "        DataFrame(intervention=blds),\n",
    "        DataFrame(beta_before=[ 0.5 for i in 1:length(blds) ]),\n",
    "        DataFrame(beta_after=[ 0.05 for i in 1:length(blds) ]),\n",
    "        dfc[:,Symbol.([\"D$i\" for i in 1:size(dfc)[2]-6])])"
   ]
  },
  {
   "cell_type": "code",
   "execution_count": 11,
   "metadata": {},
   "outputs": [
    {
     "data": {
      "text/plain": [
       "87-element Array{Symbol,1}:\n",
       " :country     \n",
       " :population  \n",
       " :lat         \n",
       " :long        \n",
       " :first       \n",
       " :last        \n",
       " :intervention\n",
       " :beta_before \n",
       " :beta_after  \n",
       " :D1          \n",
       " :D2          \n",
       " :D3          \n",
       " :D4          \n",
       " ⋮            \n",
       " :D67         \n",
       " :D68         \n",
       " :D69         \n",
       " :D70         \n",
       " :D71         \n",
       " :D72         \n",
       " :D73         \n",
       " :D74         \n",
       " :D75         \n",
       " :D76         \n",
       " :D77         \n",
       " :D78         "
      ]
     },
     "execution_count": 11,
     "metadata": {},
     "output_type": "execute_result"
    }
   ],
   "source": [
    "names(dfca)"
   ]
  },
  {
   "cell_type": "code",
   "execution_count": 16,
   "metadata": {},
   "outputs": [
    {
     "data": {
      "text/plain": [
       "\"../SIRjs/data_jhp_clean.csv\""
      ]
     },
     "execution_count": 16,
     "metadata": {},
     "output_type": "execute_result"
    }
   ],
   "source": [
    "# rename!(df, Dict(:0 => :country))\n",
    "CSV.write(\"../SIRjs/data_jhp_clean.csv\",dfca)"
   ]
  },
  {
   "cell_type": "code",
   "execution_count": 17,
   "metadata": {},
   "outputs": [
    {
     "data": {
      "text/plain": [
       "\"South Africa\""
      ]
     },
     "execution_count": 17,
     "metadata": {},
     "output_type": "execute_result"
    }
   ],
   "source": [
    "all = CSV.read(\"../SIRjs/data_jhp_clean.csv\")\n",
    "country = \"South Africa\""
   ]
  },
  {
   "cell_type": "code",
   "execution_count": 18,
   "metadata": {},
   "outputs": [
    {
     "data": {
      "text/plain": [
       "57779622"
      ]
     },
     "execution_count": 18,
     "metadata": {},
     "output_type": "execute_result"
    }
   ],
   "source": [
    "N = all[(all[!,Symbol(\"country\")].==country),:population][1]"
   ]
  },
  {
   "cell_type": "code",
   "execution_count": 19,
   "metadata": {},
   "outputs": [
    {
     "data": {
      "text/plain": [
       "65"
      ]
     },
     "execution_count": 19,
     "metadata": {},
     "output_type": "execute_result"
    }
   ],
   "source": [
    "lock_down = all[(all[!,Symbol(\"country\")].==country),:intervention][1]"
   ]
  },
  {
   "cell_type": "code",
   "execution_count": 20,
   "metadata": {},
   "outputs": [
    {
     "name": "stdout",
     "output_type": "stream",
     "text": [
      "65\n",
      "[1; 1; 1; 3; 3; 7; 13; 17; 24; 38; 51; 62; 62; 116; 150; 202; 240; 274; 402; 554; 709; 927; 1170; 1187; 1280; 1326; 1353; 1380; 1462; 1505; 1585; 1655; 1686; 1749; 1845]\n",
      "23\n"
     ]
    },
    {
     "data": {
      "image/svg+xml": [
       "<?xml version=\"1.0\" encoding=\"utf-8\"?>\n",
       "<svg xmlns=\"http://www.w3.org/2000/svg\" xmlns:xlink=\"http://www.w3.org/1999/xlink\" width=\"600\" height=\"400\" viewBox=\"0 0 2400 1600\">\n",
       "<defs>\n",
       "  <clipPath id=\"clip7600\">\n",
       "    <rect x=\"0\" y=\"0\" width=\"2400\" height=\"1600\"/>\n",
       "  </clipPath>\n",
       "</defs>\n",
       "<path clip-path=\"url(#clip7600)\" d=\"\n",
       "M0 1600 L2400 1600 L2400 0 L0 0  Z\n",
       "  \" fill=\"#ffffff\" fill-rule=\"evenodd\" fill-opacity=\"1\"/>\n",
       "<defs>\n",
       "  <clipPath id=\"clip7601\">\n",
       "    <rect x=\"480\" y=\"0\" width=\"1681\" height=\"1600\"/>\n",
       "  </clipPath>\n",
       "</defs>\n",
       "<path clip-path=\"url(#clip7600)\" d=\"\n",
       "M194.041 1487.47 L2352.76 1487.47 L2352.76 121.675 L194.041 121.675  Z\n",
       "  \" fill=\"#ffffff\" fill-rule=\"evenodd\" fill-opacity=\"1\"/>\n",
       "<defs>\n",
       "  <clipPath id=\"clip7602\">\n",
       "    <rect x=\"194\" y=\"121\" width=\"2160\" height=\"1367\"/>\n",
       "  </clipPath>\n",
       "</defs>\n",
       "<polyline clip-path=\"url(#clip7602)\" style=\"stroke:#000000; stroke-width:2; stroke-opacity:0.1; fill:none\" points=\"\n",
       "  195.239,1487.47 195.239,121.675 \n",
       "  \"/>\n",
       "<polyline clip-path=\"url(#clip7602)\" style=\"stroke:#000000; stroke-width:2; stroke-opacity:0.1; fill:none\" points=\"\n",
       "  794.217,1487.47 794.217,121.675 \n",
       "  \"/>\n",
       "<polyline clip-path=\"url(#clip7602)\" style=\"stroke:#000000; stroke-width:2; stroke-opacity:0.1; fill:none\" points=\"\n",
       "  1393.19,1487.47 1393.19,121.675 \n",
       "  \"/>\n",
       "<polyline clip-path=\"url(#clip7602)\" style=\"stroke:#000000; stroke-width:2; stroke-opacity:0.1; fill:none\" points=\"\n",
       "  1992.17,1487.47 1992.17,121.675 \n",
       "  \"/>\n",
       "<polyline clip-path=\"url(#clip7602)\" style=\"stroke:#000000; stroke-width:2; stroke-opacity:0.1; fill:none\" points=\"\n",
       "  194.041,1449.52 2352.76,1449.52 \n",
       "  \"/>\n",
       "<polyline clip-path=\"url(#clip7602)\" style=\"stroke:#000000; stroke-width:2; stroke-opacity:0.1; fill:none\" points=\"\n",
       "  194.041,1100.15 2352.76,1100.15 \n",
       "  \"/>\n",
       "<polyline clip-path=\"url(#clip7602)\" style=\"stroke:#000000; stroke-width:2; stroke-opacity:0.1; fill:none\" points=\"\n",
       "  194.041,750.771 2352.76,750.771 \n",
       "  \"/>\n",
       "<polyline clip-path=\"url(#clip7602)\" style=\"stroke:#000000; stroke-width:2; stroke-opacity:0.1; fill:none\" points=\"\n",
       "  194.041,401.398 2352.76,401.398 \n",
       "  \"/>\n",
       "<polyline clip-path=\"url(#clip7600)\" style=\"stroke:#000000; stroke-width:4; stroke-opacity:1; fill:none\" points=\"\n",
       "  194.041,1487.47 2352.76,1487.47 \n",
       "  \"/>\n",
       "<polyline clip-path=\"url(#clip7600)\" style=\"stroke:#000000; stroke-width:4; stroke-opacity:1; fill:none\" points=\"\n",
       "  194.041,1487.47 194.041,121.675 \n",
       "  \"/>\n",
       "<polyline clip-path=\"url(#clip7600)\" style=\"stroke:#000000; stroke-width:4; stroke-opacity:1; fill:none\" points=\"\n",
       "  195.239,1487.47 195.239,1471.09 \n",
       "  \"/>\n",
       "<polyline clip-path=\"url(#clip7600)\" style=\"stroke:#000000; stroke-width:4; stroke-opacity:1; fill:none\" points=\"\n",
       "  794.217,1487.47 794.217,1471.09 \n",
       "  \"/>\n",
       "<polyline clip-path=\"url(#clip7600)\" style=\"stroke:#000000; stroke-width:4; stroke-opacity:1; fill:none\" points=\"\n",
       "  1393.19,1487.47 1393.19,1471.09 \n",
       "  \"/>\n",
       "<polyline clip-path=\"url(#clip7600)\" style=\"stroke:#000000; stroke-width:4; stroke-opacity:1; fill:none\" points=\"\n",
       "  1992.17,1487.47 1992.17,1471.09 \n",
       "  \"/>\n",
       "<polyline clip-path=\"url(#clip7600)\" style=\"stroke:#000000; stroke-width:4; stroke-opacity:1; fill:none\" points=\"\n",
       "  194.041,1449.52 219.946,1449.52 \n",
       "  \"/>\n",
       "<polyline clip-path=\"url(#clip7600)\" style=\"stroke:#000000; stroke-width:4; stroke-opacity:1; fill:none\" points=\"\n",
       "  194.041,1100.15 219.946,1100.15 \n",
       "  \"/>\n",
       "<polyline clip-path=\"url(#clip7600)\" style=\"stroke:#000000; stroke-width:4; stroke-opacity:1; fill:none\" points=\"\n",
       "  194.041,750.771 219.946,750.771 \n",
       "  \"/>\n",
       "<polyline clip-path=\"url(#clip7600)\" style=\"stroke:#000000; stroke-width:4; stroke-opacity:1; fill:none\" points=\"\n",
       "  194.041,401.398 219.946,401.398 \n",
       "  \"/>\n",
       "<g clip-path=\"url(#clip7600)\">\n",
       "<text style=\"fill:#000000; fill-opacity:1; font-family:Arial,Helvetica Neue,Helvetica,sans-serif; font-size:48px; text-anchor:middle;\" transform=\"rotate(0, 195.239, 1541.47)\" x=\"195.239\" y=\"1541.47\">0</text>\n",
       "</g>\n",
       "<g clip-path=\"url(#clip7600)\">\n",
       "<text style=\"fill:#000000; fill-opacity:1; font-family:Arial,Helvetica Neue,Helvetica,sans-serif; font-size:48px; text-anchor:middle;\" transform=\"rotate(0, 794.217, 1541.47)\" x=\"794.217\" y=\"1541.47\">10</text>\n",
       "</g>\n",
       "<g clip-path=\"url(#clip7600)\">\n",
       "<text style=\"fill:#000000; fill-opacity:1; font-family:Arial,Helvetica Neue,Helvetica,sans-serif; font-size:48px; text-anchor:middle;\" transform=\"rotate(0, 1393.19, 1541.47)\" x=\"1393.19\" y=\"1541.47\">20</text>\n",
       "</g>\n",
       "<g clip-path=\"url(#clip7600)\">\n",
       "<text style=\"fill:#000000; fill-opacity:1; font-family:Arial,Helvetica Neue,Helvetica,sans-serif; font-size:48px; text-anchor:middle;\" transform=\"rotate(0, 1992.17, 1541.47)\" x=\"1992.17\" y=\"1541.47\">30</text>\n",
       "</g>\n",
       "<g clip-path=\"url(#clip7600)\">\n",
       "<text style=\"fill:#000000; fill-opacity:1; font-family:Arial,Helvetica Neue,Helvetica,sans-serif; font-size:48px; text-anchor:end;\" transform=\"rotate(0, 170.041, 1467.02)\" x=\"170.041\" y=\"1467.02\">0</text>\n",
       "</g>\n",
       "<g clip-path=\"url(#clip7600)\">\n",
       "<text style=\"fill:#000000; fill-opacity:1; font-family:Arial,Helvetica Neue,Helvetica,sans-serif; font-size:48px; text-anchor:end;\" transform=\"rotate(0, 170.041, 1117.65)\" x=\"170.041\" y=\"1117.65\">500</text>\n",
       "</g>\n",
       "<g clip-path=\"url(#clip7600)\">\n",
       "<text style=\"fill:#000000; fill-opacity:1; font-family:Arial,Helvetica Neue,Helvetica,sans-serif; font-size:48px; text-anchor:end;\" transform=\"rotate(0, 170.041, 768.271)\" x=\"170.041\" y=\"768.271\">1000</text>\n",
       "</g>\n",
       "<g clip-path=\"url(#clip7600)\">\n",
       "<text style=\"fill:#000000; fill-opacity:1; font-family:Arial,Helvetica Neue,Helvetica,sans-serif; font-size:48px; text-anchor:end;\" transform=\"rotate(0, 170.041, 418.898)\" x=\"170.041\" y=\"418.898\">1500</text>\n",
       "</g>\n",
       "<g clip-path=\"url(#clip7600)\">\n",
       "<text style=\"fill:#000000; fill-opacity:1; font-family:Arial,Helvetica Neue,Helvetica,sans-serif; font-size:84px; text-anchor:middle;\" transform=\"rotate(0, 1273.4, 73.2)\" x=\"1273.4\" y=\"73.2\">South Africa, population = 57779622</text>\n",
       "</g>\n",
       "<circle clip-path=\"url(#clip7602)\" cx=\"255.137\" cy=\"1448.82\" r=\"14\" fill=\"#e26f46\" fill-rule=\"evenodd\" fill-opacity=\"1\" stroke=\"#000000\" stroke-opacity=\"1\" stroke-width=\"3.2\"/>\n",
       "<circle clip-path=\"url(#clip7602)\" cx=\"315.035\" cy=\"1448.82\" r=\"14\" fill=\"#e26f46\" fill-rule=\"evenodd\" fill-opacity=\"1\" stroke=\"#000000\" stroke-opacity=\"1\" stroke-width=\"3.2\"/>\n",
       "<circle clip-path=\"url(#clip7602)\" cx=\"374.933\" cy=\"1448.82\" r=\"14\" fill=\"#e26f46\" fill-rule=\"evenodd\" fill-opacity=\"1\" stroke=\"#000000\" stroke-opacity=\"1\" stroke-width=\"3.2\"/>\n",
       "<circle clip-path=\"url(#clip7602)\" cx=\"434.83\" cy=\"1447.42\" r=\"14\" fill=\"#e26f46\" fill-rule=\"evenodd\" fill-opacity=\"1\" stroke=\"#000000\" stroke-opacity=\"1\" stroke-width=\"3.2\"/>\n",
       "<circle clip-path=\"url(#clip7602)\" cx=\"494.728\" cy=\"1447.42\" r=\"14\" fill=\"#e26f46\" fill-rule=\"evenodd\" fill-opacity=\"1\" stroke=\"#000000\" stroke-opacity=\"1\" stroke-width=\"3.2\"/>\n",
       "<circle clip-path=\"url(#clip7602)\" cx=\"554.626\" cy=\"1444.63\" r=\"14\" fill=\"#e26f46\" fill-rule=\"evenodd\" fill-opacity=\"1\" stroke=\"#000000\" stroke-opacity=\"1\" stroke-width=\"3.2\"/>\n",
       "<circle clip-path=\"url(#clip7602)\" cx=\"614.524\" cy=\"1440.44\" r=\"14\" fill=\"#e26f46\" fill-rule=\"evenodd\" fill-opacity=\"1\" stroke=\"#000000\" stroke-opacity=\"1\" stroke-width=\"3.2\"/>\n",
       "<circle clip-path=\"url(#clip7602)\" cx=\"674.421\" cy=\"1437.64\" r=\"14\" fill=\"#e26f46\" fill-rule=\"evenodd\" fill-opacity=\"1\" stroke=\"#000000\" stroke-opacity=\"1\" stroke-width=\"3.2\"/>\n",
       "<circle clip-path=\"url(#clip7602)\" cx=\"734.319\" cy=\"1432.75\" r=\"14\" fill=\"#e26f46\" fill-rule=\"evenodd\" fill-opacity=\"1\" stroke=\"#000000\" stroke-opacity=\"1\" stroke-width=\"3.2\"/>\n",
       "<circle clip-path=\"url(#clip7602)\" cx=\"794.217\" cy=\"1422.97\" r=\"14\" fill=\"#e26f46\" fill-rule=\"evenodd\" fill-opacity=\"1\" stroke=\"#000000\" stroke-opacity=\"1\" stroke-width=\"3.2\"/>\n",
       "<circle clip-path=\"url(#clip7602)\" cx=\"854.115\" cy=\"1413.88\" r=\"14\" fill=\"#e26f46\" fill-rule=\"evenodd\" fill-opacity=\"1\" stroke=\"#000000\" stroke-opacity=\"1\" stroke-width=\"3.2\"/>\n",
       "<circle clip-path=\"url(#clip7602)\" cx=\"914.012\" cy=\"1406.2\" r=\"14\" fill=\"#e26f46\" fill-rule=\"evenodd\" fill-opacity=\"1\" stroke=\"#000000\" stroke-opacity=\"1\" stroke-width=\"3.2\"/>\n",
       "<circle clip-path=\"url(#clip7602)\" cx=\"973.91\" cy=\"1406.2\" r=\"14\" fill=\"#e26f46\" fill-rule=\"evenodd\" fill-opacity=\"1\" stroke=\"#000000\" stroke-opacity=\"1\" stroke-width=\"3.2\"/>\n",
       "<circle clip-path=\"url(#clip7602)\" cx=\"1033.81\" cy=\"1368.46\" r=\"14\" fill=\"#e26f46\" fill-rule=\"evenodd\" fill-opacity=\"1\" stroke=\"#000000\" stroke-opacity=\"1\" stroke-width=\"3.2\"/>\n",
       "<circle clip-path=\"url(#clip7602)\" cx=\"1093.71\" cy=\"1344.71\" r=\"14\" fill=\"#e26f46\" fill-rule=\"evenodd\" fill-opacity=\"1\" stroke=\"#000000\" stroke-opacity=\"1\" stroke-width=\"3.2\"/>\n",
       "<circle clip-path=\"url(#clip7602)\" cx=\"1153.6\" cy=\"1308.37\" r=\"14\" fill=\"#e26f46\" fill-rule=\"evenodd\" fill-opacity=\"1\" stroke=\"#000000\" stroke-opacity=\"1\" stroke-width=\"3.2\"/>\n",
       "<circle clip-path=\"url(#clip7602)\" cx=\"1213.5\" cy=\"1281.82\" r=\"14\" fill=\"#e26f46\" fill-rule=\"evenodd\" fill-opacity=\"1\" stroke=\"#000000\" stroke-opacity=\"1\" stroke-width=\"3.2\"/>\n",
       "<circle clip-path=\"url(#clip7602)\" cx=\"1273.4\" cy=\"1258.06\" r=\"14\" fill=\"#e26f46\" fill-rule=\"evenodd\" fill-opacity=\"1\" stroke=\"#000000\" stroke-opacity=\"1\" stroke-width=\"3.2\"/>\n",
       "<circle clip-path=\"url(#clip7602)\" cx=\"1333.3\" cy=\"1168.62\" r=\"14\" fill=\"#e26f46\" fill-rule=\"evenodd\" fill-opacity=\"1\" stroke=\"#000000\" stroke-opacity=\"1\" stroke-width=\"3.2\"/>\n",
       "<circle clip-path=\"url(#clip7602)\" cx=\"1393.19\" cy=\"1062.41\" r=\"14\" fill=\"#e26f46\" fill-rule=\"evenodd\" fill-opacity=\"1\" stroke=\"#000000\" stroke-opacity=\"1\" stroke-width=\"3.2\"/>\n",
       "<circle clip-path=\"url(#clip7602)\" cx=\"1453.09\" cy=\"954.107\" r=\"14\" fill=\"#e26f46\" fill-rule=\"evenodd\" fill-opacity=\"1\" stroke=\"#000000\" stroke-opacity=\"1\" stroke-width=\"3.2\"/>\n",
       "<circle clip-path=\"url(#clip7602)\" cx=\"1512.99\" cy=\"801.78\" r=\"14\" fill=\"#e26f46\" fill-rule=\"evenodd\" fill-opacity=\"1\" stroke=\"#000000\" stroke-opacity=\"1\" stroke-width=\"3.2\"/>\n",
       "<circle clip-path=\"url(#clip7602)\" cx=\"1572.89\" cy=\"631.984\" r=\"14\" fill=\"#e26f46\" fill-rule=\"evenodd\" fill-opacity=\"1\" stroke=\"#000000\" stroke-opacity=\"1\" stroke-width=\"3.2\"/>\n",
       "<circle clip-path=\"url(#clip7602)\" cx=\"1632.79\" cy=\"620.106\" r=\"14\" fill=\"#e26f46\" fill-rule=\"evenodd\" fill-opacity=\"1\" stroke=\"#000000\" stroke-opacity=\"1\" stroke-width=\"3.2\"/>\n",
       "<circle clip-path=\"url(#clip7602)\" cx=\"1692.68\" cy=\"555.122\" r=\"14\" fill=\"#e26f46\" fill-rule=\"evenodd\" fill-opacity=\"1\" stroke=\"#000000\" stroke-opacity=\"1\" stroke-width=\"3.2\"/>\n",
       "<circle clip-path=\"url(#clip7602)\" cx=\"1752.58\" cy=\"522.98\" r=\"14\" fill=\"#e26f46\" fill-rule=\"evenodd\" fill-opacity=\"1\" stroke=\"#000000\" stroke-opacity=\"1\" stroke-width=\"3.2\"/>\n",
       "<circle clip-path=\"url(#clip7602)\" cx=\"1812.48\" cy=\"504.114\" r=\"14\" fill=\"#e26f46\" fill-rule=\"evenodd\" fill-opacity=\"1\" stroke=\"#000000\" stroke-opacity=\"1\" stroke-width=\"3.2\"/>\n",
       "<circle clip-path=\"url(#clip7602)\" cx=\"1872.38\" cy=\"485.247\" r=\"14\" fill=\"#e26f46\" fill-rule=\"evenodd\" fill-opacity=\"1\" stroke=\"#000000\" stroke-opacity=\"1\" stroke-width=\"3.2\"/>\n",
       "<circle clip-path=\"url(#clip7602)\" cx=\"1932.27\" cy=\"427.95\" r=\"14\" fill=\"#e26f46\" fill-rule=\"evenodd\" fill-opacity=\"1\" stroke=\"#000000\" stroke-opacity=\"1\" stroke-width=\"3.2\"/>\n",
       "<circle clip-path=\"url(#clip7602)\" cx=\"1992.17\" cy=\"397.904\" r=\"14\" fill=\"#e26f46\" fill-rule=\"evenodd\" fill-opacity=\"1\" stroke=\"#000000\" stroke-opacity=\"1\" stroke-width=\"3.2\"/>\n",
       "<circle clip-path=\"url(#clip7602)\" cx=\"2052.07\" cy=\"342.004\" r=\"14\" fill=\"#e26f46\" fill-rule=\"evenodd\" fill-opacity=\"1\" stroke=\"#000000\" stroke-opacity=\"1\" stroke-width=\"3.2\"/>\n",
       "<circle clip-path=\"url(#clip7602)\" cx=\"2111.97\" cy=\"293.092\" r=\"14\" fill=\"#e26f46\" fill-rule=\"evenodd\" fill-opacity=\"1\" stroke=\"#000000\" stroke-opacity=\"1\" stroke-width=\"3.2\"/>\n",
       "<circle clip-path=\"url(#clip7602)\" cx=\"2171.86\" cy=\"271.431\" r=\"14\" fill=\"#e26f46\" fill-rule=\"evenodd\" fill-opacity=\"1\" stroke=\"#000000\" stroke-opacity=\"1\" stroke-width=\"3.2\"/>\n",
       "<circle clip-path=\"url(#clip7602)\" cx=\"2231.76\" cy=\"227.41\" r=\"14\" fill=\"#e26f46\" fill-rule=\"evenodd\" fill-opacity=\"1\" stroke=\"#000000\" stroke-opacity=\"1\" stroke-width=\"3.2\"/>\n",
       "<circle clip-path=\"url(#clip7602)\" cx=\"2291.66\" cy=\"160.33\" r=\"14\" fill=\"#e26f46\" fill-rule=\"evenodd\" fill-opacity=\"1\" stroke=\"#000000\" stroke-opacity=\"1\" stroke-width=\"3.2\"/>\n",
       "<circle clip-path=\"url(#clip7602)\" cx=\"1572.89\" cy=\"631.984\" r=\"14\" fill=\"#3da44d\" fill-rule=\"evenodd\" fill-opacity=\"1\" stroke=\"#000000\" stroke-opacity=\"1\" stroke-width=\"3.2\"/>\n",
       "<path clip-path=\"url(#clip7600)\" d=\"\n",
       "M266.041 386.635 L706.663 386.635 L706.663 205.195 L266.041 205.195  Z\n",
       "  \" fill=\"#ffffff\" fill-rule=\"evenodd\" fill-opacity=\"1\"/>\n",
       "<polyline clip-path=\"url(#clip7600)\" style=\"stroke:#000000; stroke-width:4; stroke-opacity:1; fill:none\" points=\"\n",
       "  266.041,386.635 706.663,386.635 706.663,205.195 266.041,205.195 266.041,386.635 \n",
       "  \"/>\n",
       "<circle clip-path=\"url(#clip7600)\" cx=\"374.041\" cy=\"265.675\" r=\"21\" fill=\"#e26f46\" fill-rule=\"evenodd\" fill-opacity=\"1\" stroke=\"#000000\" stroke-opacity=\"1\" stroke-width=\"3.2\"/>\n",
       "<g clip-path=\"url(#clip7600)\">\n",
       "<text style=\"fill:#000000; fill-opacity:1; font-family:Arial,Helvetica Neue,Helvetica,sans-serif; font-size:48px; text-anchor:start;\" transform=\"rotate(0, 458.041, 283.175)\" x=\"458.041\" y=\"283.175\">cases</text>\n",
       "</g>\n",
       "<circle clip-path=\"url(#clip7600)\" cx=\"374.041\" cy=\"326.155\" r=\"21\" fill=\"#3da44d\" fill-rule=\"evenodd\" fill-opacity=\"1\" stroke=\"#000000\" stroke-opacity=\"1\" stroke-width=\"3.2\"/>\n",
       "<g clip-path=\"url(#clip7600)\">\n",
       "<text style=\"fill:#000000; fill-opacity:1; font-family:Arial,Helvetica Neue,Helvetica,sans-serif; font-size:48px; text-anchor:start;\" transform=\"rotate(0, 458.041, 343.655)\" x=\"458.041\" y=\"343.655\">lockdown</text>\n",
       "</g>\n",
       "</svg>\n"
      ]
     },
     "execution_count": 20,
     "metadata": {},
     "output_type": "execute_result"
    }
   ],
   "source": [
    "# load clean data and get cases for one country\n",
    "all = CSV.read(\"../SIRjs/data_jhp_clean.csv\")\n",
    "country = \"South Africa\"\n",
    "N = all[(all[!,Symbol(\"country\")].==country),:population][1]\n",
    "ld = all[(all[!,Symbol(\"country\")].==country),:intervention][1]\n",
    "println(ld)\n",
    "data = convert(Array,\n",
    "    all[(all[!,Symbol(\"country\")].==country),\n",
    "        10:size(all)[2]])[1,:]\n",
    "save_data = data\n",
    "data = data[data[:,1] .!= 0,:]\n",
    "println(data)\n",
    "ld = ld - (length(save_data)-length(data)) + 1\n",
    "println(ld)\n",
    "data_labels=\"cases\"\n",
    "data_colors=2\n",
    "plot_title=\"$country, population = $N\"\n",
    "scatter(data, legend=:topleft, label=data_labels,\n",
    "            color=data_colors,title=plot_title)\n",
    "scatter!([ld],[data[ld]],color=3,label=\"lockdown\")"
   ]
  },
  {
   "cell_type": "code",
   "execution_count": 21,
   "metadata": {},
   "outputs": [
    {
     "data": {
      "text/plain": [
       "simulate (generic function with 1 method)"
      ]
     },
     "execution_count": 21,
     "metadata": {},
     "output_type": "execute_result"
    }
   ],
   "source": [
    "function simulate(μ,n,β,γ,N)\n",
    "    sim = reshape(ones(n*4),(n,4))\n",
    "    sim[1,:]= μ   # [(N-1)/N, 1/N, 0, 1/N]\n",
    "    for k in 2:n\n",
    "        s, i, r, c = sim[k-1,:]\n",
    "        ns = s - β[k-1]*s*i\n",
    "        ni = i + β[k-1]*s*i - γ[k-1]*i\n",
    "        nr = r + γ[k-1]*i\n",
    "        nc = c + β[k-1]*s*i\n",
    "        sim[k,:] = [ns, ni, nr, nc]\n",
    "    end\n",
    "    sim\n",
    "end"
   ]
  },
  {
   "cell_type": "code",
   "execution_count": 26,
   "metadata": {},
   "outputs": [
    {
     "data": {
      "text/plain": [
       "expand_params (generic function with 1 method)"
      ]
     },
     "execution_count": 26,
     "metadata": {},
     "output_type": "execute_result"
    }
   ],
   "source": [
    "function expand_params(params,bps,n)\n",
    "    p = params[end] * ones(n)\n",
    "    for k in (length(bps)-1):-1:1\n",
    "        p[1:bps[k]-1]=params[k]*ones(bps[k]-1)\n",
    "    end\n",
    "    p\n",
    "end"
   ]
  },
  {
   "cell_type": "code",
   "execution_count": 27,
   "metadata": {},
   "outputs": [],
   "source": [
    "using Optim"
   ]
  },
  {
   "cell_type": "code",
   "execution_count": 32,
   "metadata": {},
   "outputs": [
    {
     "data": {
      "text/plain": [
       "#27 (generic function with 1 method)"
      ]
     },
     "execution_count": 32,
     "metadata": {},
     "output_type": "execute_result"
    }
   ],
   "source": [
    "n=size(data)[1]\n",
    "μ = [(N-1)/N, 1/N, 0, 1/N]\n",
    "initial_betas = [0.3 0.15]\n",
    "initial_gammas = [0.1 0.1]\n",
    "breaks = [ld n]\n",
    "loss = function(betas)\n",
    "    β = expand_params(betas,breaks,n)\n",
    "    γ = expand_params(initial_gammas,breaks,n)\n",
    "    sim = N*simulate(μ,n,β,γ,N)[:,4]\n",
    "    sum( (sim .- data[:,1]).^2 ) \n",
    "end"
   ]
  },
  {
   "cell_type": "code",
   "execution_count": 33,
   "metadata": {},
   "outputs": [
    {
     "data": {
      "text/plain": [
       "2.5192978545920704e7"
      ]
     },
     "execution_count": 33,
     "metadata": {},
     "output_type": "execute_result"
    }
   ],
   "source": [
    "loss(initial_betas)"
   ]
  },
  {
   "cell_type": "code",
   "execution_count": 34,
   "metadata": {},
   "outputs": [
    {
     "data": {
      "text/plain": [
       " * Status: success\n",
       "\n",
       " * Candidate solution\n",
       "    Minimizer: [4.63e-01, 6.65e-02]\n",
       "    Minimum:   5.804559e+04\n",
       "\n",
       " * Found with\n",
       "    Algorithm:     Nelder-Mead\n",
       "    Initial Point: [3.00e-01, 1.50e-01]\n",
       "\n",
       " * Convergence measures\n",
       "    √(Σ(yᵢ-ȳ)²)/n ≤ 1.0e-08\n",
       "\n",
       " * Work counters\n",
       "    Seconds run:   0  (vs limit Inf)\n",
       "    Iterations:    62\n",
       "    f(x) calls:    123\n"
      ]
     },
     "execution_count": 34,
     "metadata": {},
     "output_type": "execute_result"
    }
   ],
   "source": [
    "res = optimize(loss,initial_betas)"
   ]
  },
  {
   "cell_type": "code",
   "execution_count": 35,
   "metadata": {},
   "outputs": [
    {
     "data": {
      "text/plain": [
       "1×2 Array{Float64,2}:\n",
       " 0.46322  0.0665423"
      ]
     },
     "execution_count": 35,
     "metadata": {},
     "output_type": "execute_result"
    }
   ],
   "source": [
    "opt_betas = Optim.minimizer(res) "
   ]
  },
  {
   "cell_type": "code",
   "execution_count": 36,
   "metadata": {},
   "outputs": [
    {
     "data": {
      "image/svg+xml": [
       "<?xml version=\"1.0\" encoding=\"utf-8\"?>\n",
       "<svg xmlns=\"http://www.w3.org/2000/svg\" xmlns:xlink=\"http://www.w3.org/1999/xlink\" width=\"600\" height=\"400\" viewBox=\"0 0 2400 1600\">\n",
       "<defs>\n",
       "  <clipPath id=\"clip8100\">\n",
       "    <rect x=\"0\" y=\"0\" width=\"2400\" height=\"1600\"/>\n",
       "  </clipPath>\n",
       "</defs>\n",
       "<path clip-path=\"url(#clip8100)\" d=\"\n",
       "M0 1600 L2400 1600 L2400 0 L0 0  Z\n",
       "  \" fill=\"#ffffff\" fill-rule=\"evenodd\" fill-opacity=\"1\"/>\n",
       "<defs>\n",
       "  <clipPath id=\"clip8101\">\n",
       "    <rect x=\"480\" y=\"0\" width=\"1681\" height=\"1600\"/>\n",
       "  </clipPath>\n",
       "</defs>\n",
       "<path clip-path=\"url(#clip8100)\" d=\"\n",
       "M194.041 1487.47 L2352.76 1487.47 L2352.76 304.912 L194.041 304.912  Z\n",
       "  \" fill=\"#ffffff\" fill-rule=\"evenodd\" fill-opacity=\"1\"/>\n",
       "<defs>\n",
       "  <clipPath id=\"clip8102\">\n",
       "    <rect x=\"194\" y=\"304\" width=\"2160\" height=\"1184\"/>\n",
       "  </clipPath>\n",
       "</defs>\n",
       "<polyline clip-path=\"url(#clip8102)\" style=\"stroke:#000000; stroke-width:2; stroke-opacity:0.1; fill:none\" points=\"\n",
       "  195.239,1487.47 195.239,304.912 \n",
       "  \"/>\n",
       "<polyline clip-path=\"url(#clip8102)\" style=\"stroke:#000000; stroke-width:2; stroke-opacity:0.1; fill:none\" points=\"\n",
       "  794.217,1487.47 794.217,304.912 \n",
       "  \"/>\n",
       "<polyline clip-path=\"url(#clip8102)\" style=\"stroke:#000000; stroke-width:2; stroke-opacity:0.1; fill:none\" points=\"\n",
       "  1393.19,1487.47 1393.19,304.912 \n",
       "  \"/>\n",
       "<polyline clip-path=\"url(#clip8102)\" style=\"stroke:#000000; stroke-width:2; stroke-opacity:0.1; fill:none\" points=\"\n",
       "  1992.17,1487.47 1992.17,304.912 \n",
       "  \"/>\n",
       "<polyline clip-path=\"url(#clip8102)\" style=\"stroke:#000000; stroke-width:2; stroke-opacity:0.1; fill:none\" points=\"\n",
       "  194.041,1454.01 2352.76,1454.01 \n",
       "  \"/>\n",
       "<polyline clip-path=\"url(#clip8102)\" style=\"stroke:#000000; stroke-width:2; stroke-opacity:0.1; fill:none\" points=\"\n",
       "  194.041,1075.73 2352.76,1075.73 \n",
       "  \"/>\n",
       "<polyline clip-path=\"url(#clip8102)\" style=\"stroke:#000000; stroke-width:2; stroke-opacity:0.1; fill:none\" points=\"\n",
       "  194.041,697.445 2352.76,697.445 \n",
       "  \"/>\n",
       "<polyline clip-path=\"url(#clip8102)\" style=\"stroke:#000000; stroke-width:2; stroke-opacity:0.1; fill:none\" points=\"\n",
       "  194.041,319.165 2352.76,319.165 \n",
       "  \"/>\n",
       "<polyline clip-path=\"url(#clip8100)\" style=\"stroke:#000000; stroke-width:4; stroke-opacity:1; fill:none\" points=\"\n",
       "  194.041,1487.47 2352.76,1487.47 \n",
       "  \"/>\n",
       "<polyline clip-path=\"url(#clip8100)\" style=\"stroke:#000000; stroke-width:4; stroke-opacity:1; fill:none\" points=\"\n",
       "  194.041,1487.47 194.041,304.912 \n",
       "  \"/>\n",
       "<polyline clip-path=\"url(#clip8100)\" style=\"stroke:#000000; stroke-width:4; stroke-opacity:1; fill:none\" points=\"\n",
       "  195.239,1487.47 195.239,1473.28 \n",
       "  \"/>\n",
       "<polyline clip-path=\"url(#clip8100)\" style=\"stroke:#000000; stroke-width:4; stroke-opacity:1; fill:none\" points=\"\n",
       "  794.217,1487.47 794.217,1473.28 \n",
       "  \"/>\n",
       "<polyline clip-path=\"url(#clip8100)\" style=\"stroke:#000000; stroke-width:4; stroke-opacity:1; fill:none\" points=\"\n",
       "  1393.19,1487.47 1393.19,1473.28 \n",
       "  \"/>\n",
       "<polyline clip-path=\"url(#clip8100)\" style=\"stroke:#000000; stroke-width:4; stroke-opacity:1; fill:none\" points=\"\n",
       "  1992.17,1487.47 1992.17,1473.28 \n",
       "  \"/>\n",
       "<polyline clip-path=\"url(#clip8100)\" style=\"stroke:#000000; stroke-width:4; stroke-opacity:1; fill:none\" points=\"\n",
       "  194.041,1454.01 219.946,1454.01 \n",
       "  \"/>\n",
       "<polyline clip-path=\"url(#clip8100)\" style=\"stroke:#000000; stroke-width:4; stroke-opacity:1; fill:none\" points=\"\n",
       "  194.041,1075.73 219.946,1075.73 \n",
       "  \"/>\n",
       "<polyline clip-path=\"url(#clip8100)\" style=\"stroke:#000000; stroke-width:4; stroke-opacity:1; fill:none\" points=\"\n",
       "  194.041,697.445 219.946,697.445 \n",
       "  \"/>\n",
       "<polyline clip-path=\"url(#clip8100)\" style=\"stroke:#000000; stroke-width:4; stroke-opacity:1; fill:none\" points=\"\n",
       "  194.041,319.165 219.946,319.165 \n",
       "  \"/>\n",
       "<g clip-path=\"url(#clip8100)\">\n",
       "<text style=\"fill:#000000; fill-opacity:1; font-family:Arial,Helvetica Neue,Helvetica,sans-serif; font-size:48px; text-anchor:middle;\" transform=\"rotate(0, 195.239, 1541.47)\" x=\"195.239\" y=\"1541.47\">0</text>\n",
       "</g>\n",
       "<g clip-path=\"url(#clip8100)\">\n",
       "<text style=\"fill:#000000; fill-opacity:1; font-family:Arial,Helvetica Neue,Helvetica,sans-serif; font-size:48px; text-anchor:middle;\" transform=\"rotate(0, 794.217, 1541.47)\" x=\"794.217\" y=\"1541.47\">10</text>\n",
       "</g>\n",
       "<g clip-path=\"url(#clip8100)\">\n",
       "<text style=\"fill:#000000; fill-opacity:1; font-family:Arial,Helvetica Neue,Helvetica,sans-serif; font-size:48px; text-anchor:middle;\" transform=\"rotate(0, 1393.19, 1541.47)\" x=\"1393.19\" y=\"1541.47\">20</text>\n",
       "</g>\n",
       "<g clip-path=\"url(#clip8100)\">\n",
       "<text style=\"fill:#000000; fill-opacity:1; font-family:Arial,Helvetica Neue,Helvetica,sans-serif; font-size:48px; text-anchor:middle;\" transform=\"rotate(0, 1992.17, 1541.47)\" x=\"1992.17\" y=\"1541.47\">30</text>\n",
       "</g>\n",
       "<g clip-path=\"url(#clip8100)\">\n",
       "<text style=\"fill:#000000; fill-opacity:1; font-family:Arial,Helvetica Neue,Helvetica,sans-serif; font-size:48px; text-anchor:end;\" transform=\"rotate(0, 170.041, 1471.51)\" x=\"170.041\" y=\"1471.51\">0</text>\n",
       "</g>\n",
       "<g clip-path=\"url(#clip8100)\">\n",
       "<text style=\"fill:#000000; fill-opacity:1; font-family:Arial,Helvetica Neue,Helvetica,sans-serif; font-size:48px; text-anchor:end;\" transform=\"rotate(0, 170.041, 1093.23)\" x=\"170.041\" y=\"1093.23\">1000</text>\n",
       "</g>\n",
       "<g clip-path=\"url(#clip8100)\">\n",
       "<text style=\"fill:#000000; fill-opacity:1; font-family:Arial,Helvetica Neue,Helvetica,sans-serif; font-size:48px; text-anchor:end;\" transform=\"rotate(0, 170.041, 714.945)\" x=\"170.041\" y=\"714.945\">2000</text>\n",
       "</g>\n",
       "<g clip-path=\"url(#clip8100)\">\n",
       "<text style=\"fill:#000000; fill-opacity:1; font-family:Arial,Helvetica Neue,Helvetica,sans-serif; font-size:48px; text-anchor:end;\" transform=\"rotate(0, 170.041, 336.665)\" x=\"170.041\" y=\"336.665\">3000</text>\n",
       "</g>\n",
       "<g clip-path=\"url(#clip8100)\">\n",
       "<text style=\"fill:#000000; fill-opacity:1; font-family:Arial,Helvetica Neue,Helvetica,sans-serif; font-size:84px; text-anchor:middle;\" transform=\"rotate(0, 1273.4, 73.2)\" x=\"1273.4\" y=\"73.2\">SIR fit for COVID-19 outbreak in South Africa</text>\n",
       "</g>\n",
       "<g clip-path=\"url(#clip8100)\">\n",
       "<text style=\"fill:#000000; fill-opacity:1; font-family:Arial,Helvetica Neue,Helvetica,sans-serif; font-size:84px; text-anchor:middle;\" transform=\"rotate(0, 1273.4, 163.92)\" x=\"1273.4\" y=\"163.92\"> showing trends before and after interventions </text>\n",
       "</g>\n",
       "<g clip-path=\"url(#clip8100)\">\n",
       "<text style=\"fill:#000000; fill-opacity:1; font-family:Arial,Helvetica Neue,Helvetica,sans-serif; font-size:84px; text-anchor:middle;\" transform=\"rotate(0, 1273.4, 254.64)\" x=\"1273.4\" y=\"254.64\"> annotated with basic reproduction number </text>\n",
       "</g>\n",
       "<g clip-path=\"url(#clip8100)\">\n",
       "<text style=\"fill:#000000; fill-opacity:1; font-family:Arial,Helvetica Neue,Helvetica,sans-serif; font-size:84px; text-anchor:middle;\" transform=\"rotate(0, 1273.4, 345.36)\" x=\"1273.4\" y=\"345.36\">data from John Hopkins</text>\n",
       "</g>\n",
       "<circle clip-path=\"url(#clip8102)\" cx=\"255.137\" cy=\"1453.63\" r=\"14\" fill=\"#0000ff\" fill-rule=\"evenodd\" fill-opacity=\"1\" stroke=\"#000000\" stroke-opacity=\"1\" stroke-width=\"3.2\"/>\n",
       "<circle clip-path=\"url(#clip8102)\" cx=\"315.035\" cy=\"1453.63\" r=\"14\" fill=\"#0000ff\" fill-rule=\"evenodd\" fill-opacity=\"1\" stroke=\"#000000\" stroke-opacity=\"1\" stroke-width=\"3.2\"/>\n",
       "<circle clip-path=\"url(#clip8102)\" cx=\"374.933\" cy=\"1453.63\" r=\"14\" fill=\"#0000ff\" fill-rule=\"evenodd\" fill-opacity=\"1\" stroke=\"#000000\" stroke-opacity=\"1\" stroke-width=\"3.2\"/>\n",
       "<circle clip-path=\"url(#clip8102)\" cx=\"434.83\" cy=\"1452.87\" r=\"14\" fill=\"#0000ff\" fill-rule=\"evenodd\" fill-opacity=\"1\" stroke=\"#000000\" stroke-opacity=\"1\" stroke-width=\"3.2\"/>\n",
       "<circle clip-path=\"url(#clip8102)\" cx=\"494.728\" cy=\"1452.87\" r=\"14\" fill=\"#0000ff\" fill-rule=\"evenodd\" fill-opacity=\"1\" stroke=\"#000000\" stroke-opacity=\"1\" stroke-width=\"3.2\"/>\n",
       "<circle clip-path=\"url(#clip8102)\" cx=\"554.626\" cy=\"1451.36\" r=\"14\" fill=\"#0000ff\" fill-rule=\"evenodd\" fill-opacity=\"1\" stroke=\"#000000\" stroke-opacity=\"1\" stroke-width=\"3.2\"/>\n",
       "<circle clip-path=\"url(#clip8102)\" cx=\"614.524\" cy=\"1449.09\" r=\"14\" fill=\"#0000ff\" fill-rule=\"evenodd\" fill-opacity=\"1\" stroke=\"#000000\" stroke-opacity=\"1\" stroke-width=\"3.2\"/>\n",
       "<circle clip-path=\"url(#clip8102)\" cx=\"674.421\" cy=\"1447.58\" r=\"14\" fill=\"#0000ff\" fill-rule=\"evenodd\" fill-opacity=\"1\" stroke=\"#000000\" stroke-opacity=\"1\" stroke-width=\"3.2\"/>\n",
       "<circle clip-path=\"url(#clip8102)\" cx=\"734.319\" cy=\"1444.93\" r=\"14\" fill=\"#0000ff\" fill-rule=\"evenodd\" fill-opacity=\"1\" stroke=\"#000000\" stroke-opacity=\"1\" stroke-width=\"3.2\"/>\n",
       "<circle clip-path=\"url(#clip8102)\" cx=\"794.217\" cy=\"1439.63\" r=\"14\" fill=\"#0000ff\" fill-rule=\"evenodd\" fill-opacity=\"1\" stroke=\"#000000\" stroke-opacity=\"1\" stroke-width=\"3.2\"/>\n",
       "<circle clip-path=\"url(#clip8102)\" cx=\"854.115\" cy=\"1434.71\" r=\"14\" fill=\"#0000ff\" fill-rule=\"evenodd\" fill-opacity=\"1\" stroke=\"#000000\" stroke-opacity=\"1\" stroke-width=\"3.2\"/>\n",
       "<circle clip-path=\"url(#clip8102)\" cx=\"914.012\" cy=\"1430.55\" r=\"14\" fill=\"#0000ff\" fill-rule=\"evenodd\" fill-opacity=\"1\" stroke=\"#000000\" stroke-opacity=\"1\" stroke-width=\"3.2\"/>\n",
       "<circle clip-path=\"url(#clip8102)\" cx=\"973.91\" cy=\"1430.55\" r=\"14\" fill=\"#0000ff\" fill-rule=\"evenodd\" fill-opacity=\"1\" stroke=\"#000000\" stroke-opacity=\"1\" stroke-width=\"3.2\"/>\n",
       "<circle clip-path=\"url(#clip8102)\" cx=\"1033.81\" cy=\"1410.13\" r=\"14\" fill=\"#0000ff\" fill-rule=\"evenodd\" fill-opacity=\"1\" stroke=\"#000000\" stroke-opacity=\"1\" stroke-width=\"3.2\"/>\n",
       "<circle clip-path=\"url(#clip8102)\" cx=\"1093.71\" cy=\"1397.26\" r=\"14\" fill=\"#0000ff\" fill-rule=\"evenodd\" fill-opacity=\"1\" stroke=\"#000000\" stroke-opacity=\"1\" stroke-width=\"3.2\"/>\n",
       "<circle clip-path=\"url(#clip8102)\" cx=\"1153.6\" cy=\"1377.59\" r=\"14\" fill=\"#0000ff\" fill-rule=\"evenodd\" fill-opacity=\"1\" stroke=\"#000000\" stroke-opacity=\"1\" stroke-width=\"3.2\"/>\n",
       "<circle clip-path=\"url(#clip8102)\" cx=\"1213.5\" cy=\"1363.22\" r=\"14\" fill=\"#0000ff\" fill-rule=\"evenodd\" fill-opacity=\"1\" stroke=\"#000000\" stroke-opacity=\"1\" stroke-width=\"3.2\"/>\n",
       "<circle clip-path=\"url(#clip8102)\" cx=\"1273.4\" cy=\"1350.36\" r=\"14\" fill=\"#0000ff\" fill-rule=\"evenodd\" fill-opacity=\"1\" stroke=\"#000000\" stroke-opacity=\"1\" stroke-width=\"3.2\"/>\n",
       "<circle clip-path=\"url(#clip8102)\" cx=\"1333.3\" cy=\"1301.94\" r=\"14\" fill=\"#0000ff\" fill-rule=\"evenodd\" fill-opacity=\"1\" stroke=\"#000000\" stroke-opacity=\"1\" stroke-width=\"3.2\"/>\n",
       "<circle clip-path=\"url(#clip8102)\" cx=\"1393.19\" cy=\"1244.44\" r=\"14\" fill=\"#0000ff\" fill-rule=\"evenodd\" fill-opacity=\"1\" stroke=\"#000000\" stroke-opacity=\"1\" stroke-width=\"3.2\"/>\n",
       "<circle clip-path=\"url(#clip8102)\" cx=\"1453.09\" cy=\"1185.81\" r=\"14\" fill=\"#0000ff\" fill-rule=\"evenodd\" fill-opacity=\"1\" stroke=\"#000000\" stroke-opacity=\"1\" stroke-width=\"3.2\"/>\n",
       "<circle clip-path=\"url(#clip8102)\" cx=\"1512.99\" cy=\"1103.34\" r=\"14\" fill=\"#0000ff\" fill-rule=\"evenodd\" fill-opacity=\"1\" stroke=\"#000000\" stroke-opacity=\"1\" stroke-width=\"3.2\"/>\n",
       "<circle clip-path=\"url(#clip8102)\" cx=\"1572.89\" cy=\"1011.42\" r=\"14\" fill=\"#0000ff\" fill-rule=\"evenodd\" fill-opacity=\"1\" stroke=\"#000000\" stroke-opacity=\"1\" stroke-width=\"3.2\"/>\n",
       "<circle clip-path=\"url(#clip8102)\" cx=\"1632.79\" cy=\"1004.99\" r=\"14\" fill=\"#0000ff\" fill-rule=\"evenodd\" fill-opacity=\"1\" stroke=\"#000000\" stroke-opacity=\"1\" stroke-width=\"3.2\"/>\n",
       "<circle clip-path=\"url(#clip8102)\" cx=\"1692.68\" cy=\"969.807\" r=\"14\" fill=\"#0000ff\" fill-rule=\"evenodd\" fill-opacity=\"1\" stroke=\"#000000\" stroke-opacity=\"1\" stroke-width=\"3.2\"/>\n",
       "<circle clip-path=\"url(#clip8102)\" cx=\"1752.58\" cy=\"952.406\" r=\"14\" fill=\"#0000ff\" fill-rule=\"evenodd\" fill-opacity=\"1\" stroke=\"#000000\" stroke-opacity=\"1\" stroke-width=\"3.2\"/>\n",
       "<circle clip-path=\"url(#clip8102)\" cx=\"1812.48\" cy=\"942.193\" r=\"14\" fill=\"#0000ff\" fill-rule=\"evenodd\" fill-opacity=\"1\" stroke=\"#000000\" stroke-opacity=\"1\" stroke-width=\"3.2\"/>\n",
       "<circle clip-path=\"url(#clip8102)\" cx=\"1872.38\" cy=\"931.979\" r=\"14\" fill=\"#0000ff\" fill-rule=\"evenodd\" fill-opacity=\"1\" stroke=\"#000000\" stroke-opacity=\"1\" stroke-width=\"3.2\"/>\n",
       "<circle clip-path=\"url(#clip8102)\" cx=\"1932.27\" cy=\"900.96\" r=\"14\" fill=\"#0000ff\" fill-rule=\"evenodd\" fill-opacity=\"1\" stroke=\"#000000\" stroke-opacity=\"1\" stroke-width=\"3.2\"/>\n",
       "<circle clip-path=\"url(#clip8102)\" cx=\"1992.17\" cy=\"884.694\" r=\"14\" fill=\"#0000ff\" fill-rule=\"evenodd\" fill-opacity=\"1\" stroke=\"#000000\" stroke-opacity=\"1\" stroke-width=\"3.2\"/>\n",
       "<circle clip-path=\"url(#clip8102)\" cx=\"2052.07\" cy=\"854.432\" r=\"14\" fill=\"#0000ff\" fill-rule=\"evenodd\" fill-opacity=\"1\" stroke=\"#000000\" stroke-opacity=\"1\" stroke-width=\"3.2\"/>\n",
       "<circle clip-path=\"url(#clip8102)\" cx=\"2111.97\" cy=\"827.952\" r=\"14\" fill=\"#0000ff\" fill-rule=\"evenodd\" fill-opacity=\"1\" stroke=\"#000000\" stroke-opacity=\"1\" stroke-width=\"3.2\"/>\n",
       "<circle clip-path=\"url(#clip8102)\" cx=\"2171.86\" cy=\"816.225\" r=\"14\" fill=\"#0000ff\" fill-rule=\"evenodd\" fill-opacity=\"1\" stroke=\"#000000\" stroke-opacity=\"1\" stroke-width=\"3.2\"/>\n",
       "<circle clip-path=\"url(#clip8102)\" cx=\"2231.76\" cy=\"792.394\" r=\"14\" fill=\"#0000ff\" fill-rule=\"evenodd\" fill-opacity=\"1\" stroke=\"#000000\" stroke-opacity=\"1\" stroke-width=\"3.2\"/>\n",
       "<circle clip-path=\"url(#clip8102)\" cx=\"2291.66\" cy=\"756.079\" r=\"14\" fill=\"#0000ff\" fill-rule=\"evenodd\" fill-opacity=\"1\" stroke=\"#000000\" stroke-opacity=\"1\" stroke-width=\"3.2\"/>\n",
       "<polyline clip-path=\"url(#clip8102)\" style=\"stroke:#ff0000; stroke-width:8; stroke-opacity:1; fill:none\" points=\"\n",
       "  255.137,1453.63 315.035,1453.49 374.933,1453.3 434.83,1453.05 494.728,1452.7 554.626,1452.23 614.524,1451.58 674.421,1450.7 734.319,1449.49 794.217,1447.86 \n",
       "  854.115,1445.62 914.012,1442.58 973.91,1438.42 1033.81,1432.77 1093.71,1425.05 1153.6,1414.53 1213.5,1400.2 1273.4,1380.65 1333.3,1354.01 1393.19,1317.69 \n",
       "  1453.09,1268.17 1512.99,1200.67 1572.89,1108.66 1632.79,983.228 1692.68,812.238 1752.58,579.146 \n",
       "  \"/>\n",
       "<polyline clip-path=\"url(#clip8102)\" style=\"stroke:#008000; stroke-width:8; stroke-opacity:1; fill:none\" points=\"\n",
       "  255.137,1454.01 315.035,1453.97 374.933,1453.92 434.83,1453.85 494.728,1453.75 554.626,1453.62 614.524,1453.44 674.421,1453.2 734.319,1452.87 794.217,1452.42 \n",
       "  854.115,1451.8 914.012,1450.96 973.91,1449.82 1033.81,1448.26 1093.71,1446.14 1153.6,1443.24 1213.5,1439.3 1273.4,1433.91 1333.3,1426.58 1393.19,1416.58 \n",
       "  1453.09,1402.95 1512.99,1384.36 1572.89,1359.03 1632.79,1324.5 1692.68,1277.42 1752.58,1213.24 \n",
       "  \"/>\n",
       "<polyline clip-path=\"url(#clip8102)\" style=\"stroke:#0000ff; stroke-width:8; stroke-opacity:1; fill:none\" points=\"\n",
       "  255.137,1453.63 315.035,1453.45 374.933,1453.21 434.83,1452.89 494.728,1452.44 554.626,1451.84 614.524,1451.01 674.421,1449.89 734.319,1448.36 794.217,1446.27 \n",
       "  854.115,1443.42 914.012,1439.53 973.91,1434.24 1033.81,1427.02 1093.71,1417.18 1153.6,1403.77 1213.5,1385.48 1273.4,1360.56 1333.3,1326.58 1393.19,1280.26 \n",
       "  1453.09,1217.11 1512.99,1131.03 1572.89,1013.68 1632.79,853.717 1692.68,635.649 1752.58,338.381 \n",
       "  \"/>\n",
       "<polyline clip-path=\"url(#clip8102)\" style=\"stroke:#ff0000; stroke-width:8; stroke-opacity:1; fill:none\" points=\"\n",
       "  255.137,1453.63 315.035,1453.49 374.933,1453.3 434.83,1453.05 494.728,1452.7 554.626,1452.23 614.524,1451.58 674.421,1450.7 734.319,1449.49 794.217,1447.86 \n",
       "  854.115,1445.62 914.012,1442.58 973.91,1438.42 1033.81,1432.77 1093.71,1425.05 1153.6,1414.53 1213.5,1400.2 1273.4,1380.65 1333.3,1354.01 1393.19,1317.69 \n",
       "  1453.09,1268.17 1512.99,1200.67 1572.89,1108.66 1632.79,1120.22 1692.68,1131.38 1752.58,1142.18 1812.48,1152.61 1872.38,1162.7 1932.27,1172.44 1992.17,1181.86 \n",
       "  2052.07,1190.97 2111.97,1199.77 2171.86,1208.28 2231.76,1216.5 2291.66,1224.45 \n",
       "  \"/>\n",
       "<polyline clip-path=\"url(#clip8102)\" style=\"stroke:#008000; stroke-width:8; stroke-opacity:1; fill:none\" points=\"\n",
       "  255.137,1454.01 315.035,1453.97 374.933,1453.92 434.83,1453.85 494.728,1453.75 554.626,1453.62 614.524,1453.44 674.421,1453.2 734.319,1452.87 794.217,1452.42 \n",
       "  854.115,1451.8 914.012,1450.96 973.91,1449.82 1033.81,1448.26 1093.71,1446.14 1153.6,1443.24 1213.5,1439.3 1273.4,1433.91 1333.3,1426.58 1393.19,1416.58 \n",
       "  1453.09,1402.95 1512.99,1384.36 1572.89,1359.03 1632.79,1324.5 1692.68,1291.12 1752.58,1258.85 1812.48,1227.67 1872.38,1197.53 1932.27,1168.4 1992.17,1140.25 \n",
       "  2052.07,1113.03 2111.97,1086.73 2171.86,1061.3 2231.76,1036.73 2291.66,1012.98 \n",
       "  \"/>\n",
       "<polyline clip-path=\"url(#clip8102)\" style=\"stroke:#0000ff; stroke-width:8; stroke-opacity:1; fill:none\" points=\"\n",
       "  255.137,1453.63 315.035,1453.45 374.933,1453.21 434.83,1452.89 494.728,1452.44 554.626,1451.84 614.524,1451.01 674.421,1449.89 734.319,1448.36 794.217,1446.27 \n",
       "  854.115,1443.42 914.012,1439.53 973.91,1434.24 1033.81,1427.02 1093.71,1417.18 1153.6,1403.77 1213.5,1385.48 1273.4,1360.56 1333.3,1326.58 1393.19,1280.26 \n",
       "  1453.09,1217.11 1512.99,1131.03 1572.89,1013.68 1632.79,990.705 1692.68,968.494 1752.58,947.027 1812.48,926.278 1872.38,906.223 1932.27,886.839 1992.17,868.104 \n",
       "  2052.07,849.995 2111.97,832.493 2171.86,815.576 2231.76,799.225 2291.66,783.421 \n",
       "  \"/>\n",
       "<path clip-path=\"url(#clip8100)\" d=\"\n",
       "M266.041 690.832 L736.072 690.832 L736.072 388.432 L266.041 388.432  Z\n",
       "  \" fill=\"#ffffff\" fill-rule=\"evenodd\" fill-opacity=\"1\"/>\n",
       "<polyline clip-path=\"url(#clip8100)\" style=\"stroke:#000000; stroke-width:4; stroke-opacity:1; fill:none\" points=\"\n",
       "  266.041,690.832 736.072,690.832 736.072,388.432 266.041,388.432 266.041,690.832 \n",
       "  \"/>\n",
       "<circle clip-path=\"url(#clip8100)\" cx=\"374.041\" cy=\"448.912\" r=\"21\" fill=\"#0000ff\" fill-rule=\"evenodd\" fill-opacity=\"1\" stroke=\"#000000\" stroke-opacity=\"1\" stroke-width=\"3.2\"/>\n",
       "<g clip-path=\"url(#clip8100)\">\n",
       "<text style=\"fill:#000000; fill-opacity:1; font-family:Arial,Helvetica Neue,Helvetica,sans-serif; font-size:48px; text-anchor:start;\" transform=\"rotate(0, 458.041, 466.412)\" x=\"458.041\" y=\"466.412\">cases</text>\n",
       "</g>\n",
       "<polyline clip-path=\"url(#clip8100)\" style=\"stroke:#ff0000; stroke-width:8; stroke-opacity:1; fill:none\" points=\"\n",
       "  290.041,509.392 434.041,509.392 \n",
       "  \"/>\n",
       "<g clip-path=\"url(#clip8100)\">\n",
       "<text style=\"fill:#000000; fill-opacity:1; font-family:Arial,Helvetica Neue,Helvetica,sans-serif; font-size:48px; text-anchor:start;\" transform=\"rotate(0, 458.041, 526.892)\" x=\"458.041\" y=\"526.892\">infective</text>\n",
       "</g>\n",
       "<polyline clip-path=\"url(#clip8100)\" style=\"stroke:#008000; stroke-width:8; stroke-opacity:1; fill:none\" points=\"\n",
       "  290.041,569.872 434.041,569.872 \n",
       "  \"/>\n",
       "<g clip-path=\"url(#clip8100)\">\n",
       "<text style=\"fill:#000000; fill-opacity:1; font-family:Arial,Helvetica Neue,Helvetica,sans-serif; font-size:48px; text-anchor:start;\" transform=\"rotate(0, 458.041, 587.372)\" x=\"458.041\" y=\"587.372\">recovered</text>\n",
       "</g>\n",
       "<polyline clip-path=\"url(#clip8100)\" style=\"stroke:#0000ff; stroke-width:8; stroke-opacity:1; fill:none\" points=\"\n",
       "  290.041,630.352 434.041,630.352 \n",
       "  \"/>\n",
       "<g clip-path=\"url(#clip8100)\">\n",
       "<text style=\"fill:#000000; fill-opacity:1; font-family:Arial,Helvetica Neue,Helvetica,sans-serif; font-size:48px; text-anchor:start;\" transform=\"rotate(0, 458.041, 647.852)\" x=\"458.041\" y=\"647.852\">cumulative</text>\n",
       "</g>\n",
       "<g clip-path=\"url(#clip8100)\">\n",
       "<text style=\"fill:#000000; fill-opacity:1; font-family:Arial,Helvetica Neue,Helvetica,sans-serif; font-size:84px; text-anchor:end;\" transform=\"rotate(0, 1692.68, 666.149)\" x=\"1692.68\" y=\"666.149\">4.63.....</text>\n",
       "</g>\n",
       "<g clip-path=\"url(#clip8100)\">\n",
       "<text style=\"fill:#000000; fill-opacity:1; font-family:Arial,Helvetica Neue,Helvetica,sans-serif; font-size:84px; text-anchor:end;\" transform=\"rotate(0, 2231.76, 829.725)\" x=\"2231.76\" y=\"829.725\">0.67.....</text>\n",
       "</g>\n",
       "</svg>\n"
      ]
     },
     "execution_count": 36,
     "metadata": {},
     "output_type": "execute_result"
    }
   ],
   "source": [
    "n=size(data)[1]\n",
    "μ = [(N-1)/N, 1/N, 0, 1/N]\n",
    "gammas = [0.1 0.1]\n",
    "bps = [ld n]\n",
    "γ = expand_params(gammas,bps,n)\n",
    "β_opt = opt_betas # [0.463 0.058]\n",
    "labels=\"cases\"\n",
    "colors=:blue\n",
    "ptl1 = \"SIR fit for COVID-19 outbreak in $country\"\n",
    "ptl2 = \" showing trends before and after interventions \"\n",
    "ptl3 = \" annotated with basic reproduction number \"\n",
    "ptl4 = \"data from John Hopkins\"\n",
    "plot_title= ptl1 * \"\\n\" * ptl2 * \"\\n\" * ptl3 * \"\\n\" * ptl4\n",
    "fig = scatter(data,legend=:topleft,color=colors,label=labels,title=plot_title)\n",
    "labels = [ \"infective\" \"recovered\" \"cumulative\"]\n",
    "colors = [:red :green :blue]\n",
    "β=expand_params([β_opt[1]],[bps[1]],n)\n",
    "r=round(β[1]/γ[1],digits=2)\n",
    "sim = simulate(μ,n,β,γ,N)\n",
    "y = N.*sim[1:bps[1]+3,2:4]\n",
    "plot!(y,color=colors,label=labels,linewidth=2,\n",
    "    annotations = (size(y)[1]-1, y[size(y)[1]-1,3], Plots.text(\"$r\"*\".....\", :right)))\n",
    "for k in 2:length(bps)\n",
    "    β = expand_params([β_opt[j] for j in 1:k],[bps[j] for j in 1:k],n)\n",
    "    # β[ld[k-1]+1:end]=ldb[k]*ones(n-ld[k-1])\n",
    "    r=round(β[bps[k]]/γ[bps[k]],digits=2)\n",
    "    sim = simulate(μ,n,β,γ,N)\n",
    "    m = min(bps[k]+3,n)\n",
    "    y = N.*sim[1:m,2:4]\n",
    "    plot!(y,color=colors,label=nothing,linewidth=2,\n",
    "       annotations = (bps[k]-1, y[bps[k]-1,3], Plots.text(\"$r\"*\".....\", :right)))\n",
    "end\n",
    "savefig(fig,\"covid_plots/SIRfit$country\")\n",
    "fig"
   ]
  },
  {
   "cell_type": "code",
   "execution_count": 56,
   "metadata": {},
   "outputs": [
    {
     "name": "stdout",
     "output_type": "stream",
     "text": [
      "Afghanistan -> 44->0.24->0.01\n",
      "Albania -> 3->4.45->0.17\n",
      "Algeria -> 12->0.43->0.22\n",
      "Andorra -> 28->0.33->0.09\n",
      "Angola -> 3->0.38->0.22\n",
      "Antigua and Barbuda -> 26->0.19->0.17\n",
      "Argentina -> 7->1.03->0.2\n",
      "Armenia -> 36->0.31->-0.12\n",
      "Austria -> 31->0.44->0.08\n",
      "Azerbaijan -> 35->0.29->0.16\n",
      "Bahrain -> 3->5.4->0.15\n",
      "Bangladesh -> 16->0.26->0.27\n",
      "Barbados -> 4->1.21->0.17\n",
      "Belarus -> 8->0.03->0.34\n",
      "Belgium -> 64->0.27->-0.24\n",
      "Benin -> 4->0.23->0.23\n",
      "Bhutan -> 32->0.1->0.25\n",
      "Bolivia -> 5->0.88->0.21\n",
      "Bosnia and Herzegovina -> 29->0.34->0.08\n",
      "Brazil -> 28->0.42->0.22\n",
      "Bulgaria -> 9->0.84->0.15\n",
      "Burkina Faso -> 3->4.25->0.18\n",
      "Cabo Verde -> 3->0.84->0.09\n",
      "Cambodia -> 68->0.16->-0.05\n",
      "Cameroon -> 31->0.33->0.05\n",
      "Central African Republic -> 8->0.12->0.18\n",
      "Chad -> 20->0.2->-0.19\n",
      "Chile -> 4->3.51->0.22\n",
      "Colombia -> 12->0.64->0.21\n",
      "Costa Rica -> 5->1.56->0.17\n",
      "Cote d'Ivoire -> 19->0.4->0.16\n",
      "Croatia -> 3->3.33->0.2\n",
      "Cuba -> 19->0.41->0.17\n",
      "Cyprus -> 4->2.02->0.19\n",
      "Denmark -> 17->0.57->0.17\n",
      "Djibouti -> 11->0.35->0.32\n",
      "Dominican Republic -> 32->0.35->0.1\n",
      "Ecuador -> 33->0.38->0.03\n",
      "El Salvador -> 4->0.9->0.24\n",
      "Equatorial Guinea -> 6->0.51->0.1\n",
      "Eritrea -> 15->0.34->0.03\n",
      "Estonia -> 21->0.4->0.15\n",
      "Eswatini -> 16->0.22->0.04\n",
      "Ethiopia -> 6->0.44->0.19\n",
      "Fiji -> 7->0.24->0.2\n",
      "Finland -> 69->0.21->0.02\n",
      "France -> 3->3.09->0.22\n",
      "Gabon -> 11->0.23->0.22\n",
      "Georgia -> 17->0.29->0.17\n",
      "Germany -> 3->9.2->0.2\n",
      "Ghana -> 3->4.09->0.18\n",
      "Greece -> 3->6.82->0.17\n",
      "Guatemala -> 5->0.78->0.18\n",
      "Guinea -> 24->0.31->0.23\n",
      "Guyana -> 7->0.26->0.2\n",
      "Haiti -> 6->0.56->0.15\n",
      "Honduras -> 27->0.34->-0.15\n",
      "Hungary -> 7->0.88->0.2\n",
      "Iceland -> 7->1.2->0.17\n",
      "India -> 6->-0.27->0.28\n",
      "Indonesia -> 15->0.57->0.19\n",
      "Iraq -> 4->1.68->0.19\n",
      "Ireland -> 8->1.13->0.2\n",
      "Israel -> 47->0.32->-0.36\n",
      "Italy -> 56->0.32->0.06\n",
      "Jamaica -> 4->1.03->0.16\n",
      "Japan -> 12->0.36->0.18\n",
      "Jordan -> 25->0.34->0.06\n",
      "Kazakhstan -> 6->1.23->0.22\n",
      "Kenya -> 4->0.9->0.24\n",
      "Kuwait -> 3->1.81->0.2\n",
      "Latvia -> 21->0.38->0.14\n",
      "Lebanon -> 16->0.4->0.15\n",
      "Liberia -> 4->-0.36->0.37\n",
      "Liechtenstein -> 21->0.29->0.07\n",
      "Lithuania -> 37->0.29->-0.02\n",
      "Luxembourg -> 27->0.42->0.09\n",
      "Madagascar -> 6->0.94->0.16\n",
      "Malaysia -> 3->1.73->0.18\n",
      "Maldives -> 5->0.79->0.07\n",
      "Malta -> 12->0.52->0.15\n",
      "Mauritania -> 19->0.16->0.02\n",
      "Mauritius -> 4->2.38->0.18\n",
      "Mexico -> 3->2.53->0.24\n",
      "Moldova -> 4->1.42->0.26\n",
      "Monaco -> 38->0.21->-0.09\n",
      "Mongolia -> 13->0.26->0.07\n",
      "Montenegro -> 5->1.39->0.2\n",
      "Morocco -> 36->0.31->-0.06\n",
      "Namibia -> 23->0.21->-0.11\n",
      "Nepal -> 74->0.07->58.09\n",
      "Netherlands -> 4->6.41->0.19\n",
      "New Zealand -> 40->0.29->-0.27\n",
      "Nicaragua -> 4->0.27->0.13\n",
      "Niger -> 18->0.47->0.18\n",
      "Nigeria -> 36->0.25->0.1\n",
      "North Macedonia -> 42->0.26->-0.24\n",
      "Norway -> 5->3.33->0.16\n",
      "Oman -> 4->0.58->0.21\n",
      "Pakistan -> 42->0.32->-0.2\n",
      "Panama -> 3->7.92->0.21\n",
      "Papua New Guinea -> 19->0.02->3.22\n",
      "Paraguay -> 6->0.59->0.19\n",
      "Peru -> 4->1.8->0.27\n",
      "Philippines -> 69->0.22->-0.08\n",
      "Poland -> 4->3.43->0.22\n",
      "Portugal -> 6->2.22->0.21\n",
      "Qatar -> 3->4.73->0.2\n",
      "Romania -> 4->2.23->0.22\n",
      "Rwanda -> 4->1.64->0.16\n",
      "San Marino -> 8->0.8->0.12\n",
      "Saudi Arabia -> 6->1.5->0.2\n",
      "Senegal -> 3->2.11->0.18\n",
      "Serbia -> 9->0.75->0.25\n",
      "Seychelles -> 5->0.55->0.08\n",
      "Singapore -> 3->0.91->0.18\n",
      "Slovenia -> 3->8.83->0.15\n",
      "Somalia -> 19->0.15->0.31\n",
      "South Africa -> 23->0.46->0.07\n",
      "Spain -> 64->0.3->-0.07\n",
      "Sri Lanka -> 72->0.16->-0.09\n",
      "Sudan -> 26->0.17->0.2\n",
      "Suriname -> 12->0.26->0.05\n",
      "Sweden -> 64->0.24->0.08\n",
      "Switzerland -> 4->7.8->0.17\n",
      "Tanzania -> 5->0.73->0.11\n",
      "Thailand -> 4->0.36->0.19\n",
      "Togo -> 22->0.23->0.18\n",
      "Trinidad and Tobago -> 10->0.64->0.08\n",
      "Tunisia -> 35->0.3->-0.37\n",
      "Turkey -> 13->1.04->0.24\n",
      "Uganda -> 4->1.69->0.13\n",
      "Ukraine -> 33->0.34->0.08\n",
      "United Arab Emirates -> 70->0.21->0.76\n",
      "United Kingdom -> 66->0.27->0.08\n",
      "Uruguay -> 6->1.65->0.12\n",
      "Uzbekistan -> 3->2.61->0.27\n",
      "Vietnam -> 18->0.17->0.16\n",
      "Zambia -> 13->0.42->0.01\n",
      "Zimbabwe -> 3->0.8->0.13\n",
      "Dominica -> 3->1.72->0.09\n",
      "Grenada -> 7->0.47->0.07\n",
      "Mozambique -> 5->0.63->0.09\n",
      "Timor-Leste -> 3->-0.0->0.0\n",
      "Belize -> 4->0.12->0.22\n",
      "Libya -> 8->0.44->0.16\n",
      "West Bank and Gaza -> 4->1.2->0.19\n",
      "Guinea-Bissau -> 14->0.37->0.1\n",
      "Mali -> 4->1.7->0.16\n",
      "Kosovo -> 3->8.28->0.1\n",
      "Botswana -> 3->0.99->0.1\n",
      "Burundi -> 4->0.51->-0.03\n",
      "Sierra Leone -> 3->0.64->0.24\n",
      "Malawi -> 6->0.57->-0.02\n",
      "South Sudan -> 3->0.38->0.09\n",
      "Sao Tome and Principe -> 1->-0.65->1.14\n"
     ]
    }
   ],
   "source": [
    "all = CSV.read(\"../SIRjs/data_jhp_clean.csv\", copycols=true)\n",
    "for row in 1:size(all)[1]\n",
    "    country = all[row,:country]\n",
    "    N = all[(all[!,Symbol(\"country\")].==country),:population][1]\n",
    "    if ismissing(N)\n",
    "        N=100000\n",
    "    end\n",
    "    ld = all[(all[!,Symbol(\"country\")].==country),:intervention][1]\n",
    "    data = convert(Array,all[(all[!,Symbol(\"country\")].==country),\n",
    "        10:size(all)[2]])[1,:]\n",
    "    save_data = data\n",
    "    data = data[data[:,1] .!= 0,:]\n",
    "    ld = ld - (length(save_data)-length(data)) + 1\n",
    "     # optimise\n",
    "    n=size(data)[1]\n",
    "    μ = [(N-1)/N, 1/N, 0, 1/N]\n",
    "    initial_betas = [0.3 0.15]\n",
    "    initial_gammas = [0.1 0.1]\n",
    "    breaks = [ld n]\n",
    "    loss = function(betas)\n",
    "        β = expand_params(betas,breaks,n)\n",
    "        γ = expand_params(initial_gammas,breaks,n)\n",
    "        sim = N*simulate(μ,n,β,γ,N)[:,4]\n",
    "        sum( (sim .- data[:,1]).^2 ) \n",
    "    end\n",
    "    res = optimize(loss,initial_betas)\n",
    "    opt_betas = Optim.minimizer(res) \n",
    "    all[row,:beta_before] = round(opt_betas[1],digits=2)\n",
    "    all[row,:beta_after] = round(opt_betas[2],digits=2)\n",
    "    println(country, \" -> \", ld, \"->\", all[row,:beta_before], \"->\", all[row,:beta_after])\n",
    "end"
   ]
  },
  {
   "cell_type": "code",
   "execution_count": 57,
   "metadata": {},
   "outputs": [
    {
     "data": {
      "text/plain": [
       "\"../SIRjs/data_jhp_clean.csv\""
      ]
     },
     "execution_count": 57,
     "metadata": {},
     "output_type": "execute_result"
    }
   ],
   "source": [
    "CSV.write(\"../SIRjs/data_jhp_clean.csv\", all)"
   ]
  },
  {
   "cell_type": "code",
   "execution_count": null,
   "metadata": {},
   "outputs": [],
   "source": []
  }
 ],
 "metadata": {
  "kernelspec": {
   "display_name": "Julia 1.2.0",
   "language": "julia",
   "name": "julia-1.2"
  },
  "language_info": {
   "file_extension": ".jl",
   "mimetype": "application/julia",
   "name": "julia",
   "version": "1.2.0"
  }
 },
 "nbformat": 4,
 "nbformat_minor": 4
}
