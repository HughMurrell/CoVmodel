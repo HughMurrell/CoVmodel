{
 "cells": [
  {
   "cell_type": "code",
   "execution_count": 1,
   "metadata": {},
   "outputs": [],
   "source": [
    "# run these cells to generate clean data \n",
    "# Data from John Hopkins and World Bank\n",
    "# https://github.com/CSSEGISandData/COVID-19\n",
    "using CSV, Plots, DataFrames, Dates, Optim"
   ]
  },
  {
   "cell_type": "code",
   "execution_count": 2,
   "metadata": {},
   "outputs": [
    {
     "data": {
      "text/plain": [
       "(262, 2)"
      ]
     },
     "execution_count": 2,
     "metadata": {},
     "output_type": "execute_result"
    }
   ],
   "source": [
    "wb_pop = CSV.read(\"covid_data/wb_population.csv\")\n",
    "dfp = wb_pop[:,Symbol.([\"Country Name\", \"2018\"])]\n",
    "rename!(dfp,Symbol.([\"country\"; \"population\"]))\n",
    "dfp = dfp[.!(ismissing.(dfp[!,:population])),:]\n",
    "size(dfp)"
   ]
  },
  {
   "cell_type": "code",
   "execution_count": 3,
   "metadata": {},
   "outputs": [
    {
     "name": "stdout",
     "output_type": "stream",
     "text": [
      "0020-01-22......0020-04-08\n"
     ]
    },
    {
     "data": {
      "text/plain": [
       "(181, 81)"
      ]
     },
     "execution_count": 3,
     "metadata": {},
     "output_type": "execute_result"
    }
   ],
   "source": [
    "confirmed_global = CSV.read(\"covid_data/time_series_covid19_confirmed_global.csv\")\n",
    "df = confirmed_global[ismissing.(confirmed_global[!,Symbol(\"Province/State\")]),2:end]\n",
    "first_date = Date(string(names(df)[4]),dateformat\"m/d/y\")\n",
    "last_date = Date(string(names(df)[length(names(df))]),dateformat\"m/d/y\")\n",
    "println(first_date, \"......\", last_date)\n",
    "# rename daily case count columns\n",
    "rename!(df,Symbol.([\"country\"; \"lat\"; \"long\"; [\"D$(i-3)\" for i in 4:size(df)[2]]]))\n",
    "size(df)"
   ]
  },
  {
   "cell_type": "code",
   "execution_count": 4,
   "metadata": {},
   "outputs": [
    {
     "data": {
      "text/plain": [
       "(155, 84)"
      ]
     },
     "execution_count": 4,
     "metadata": {},
     "output_type": "execute_result"
    }
   ],
   "source": [
    "# combine case counts with population data using :country as key\n",
    "dfc = join(df, dfp, kind = :inner, on = intersect(names(df), names(dfp)))\n",
    "dfc = hcat(dfc[:,[:country; :population; :lat; :long]], \n",
    "        DataFrame(first=[first_date for i in 1:size(dfc)[1]],\n",
    "                  last=[last_date for i in 1:size(dfc)[1]]),\n",
    "        dfc[:,Symbol.([\"D$i\" for i in 1:size(dfc)[2]-4])])\n",
    "size(dfc)"
   ]
  },
  {
   "cell_type": "code",
   "execution_count": 5,
   "metadata": {},
   "outputs": [
    {
     "data": {
      "text/plain": [
       "(54, 84)"
      ]
     },
     "execution_count": 5,
     "metadata": {},
     "output_type": "execute_result"
    }
   ],
   "source": [
    "dfc = dfc[dfc[:,size(dfc)[2]].>=1000,:]\n",
    "size(dfc)"
   ]
  },
  {
   "cell_type": "code",
   "execution_count": 29,
   "metadata": {},
   "outputs": [
    {
     "data": {
      "text/plain": [
       "slope (generic function with 1 method)"
      ]
     },
     "execution_count": 29,
     "metadata": {},
     "output_type": "execute_result"
    }
   ],
   "source": [
    "# function to compute slope of best fit to data on integer grid\n",
    "function slope(data)\n",
    "    # np = length(data)\n",
    "    # x_bar = sum(1:np)/np\n",
    "    # y_bar = sum(data)/np\n",
    "    # sl = sum( ((1:np) .- x_bar).*(data .- y_bar)) / sum( ((1:np) .- x_bar).^2 )\n",
    "    data[length(data)] - data[1]\n",
    "end"
   ]
  },
  {
   "cell_type": "code",
   "execution_count": 67,
   "metadata": {},
   "outputs": [
    {
     "data": {
      "text/plain": [
       "best_ld (generic function with 1 method)"
      ]
     },
     "execution_count": 67,
     "metadata": {},
     "output_type": "execute_result"
    }
   ],
   "source": [
    "# function to get best intervention date by taking difference of before and after\n",
    "# slopes fitted to log of data. data is stripped of leading zero counts before\n",
    "# search for best intervention and then number of stripped zeros are added back\n",
    "function best_ld(data)\n",
    "    striped = data[data[:,1] .!= 0,:]\n",
    "    np = length(striped)\n",
    "    if np < 30\n",
    "        return -1\n",
    "    end\n",
    "    start = floor(Int,np/3)\n",
    "    stop = ceil(Int,2*np/3)\n",
    "    chunk = minimum([7,start,np-stop])\n",
    "    slopes = [ slope(log.(striped[k-chunk:k]))-slope(log.(striped[k:k+chunk])) \n",
    "        for k in start:stop] \n",
    "    sp = findmax(slopes)[2]+start-1\n",
    "    size(data)[1] - (length(striped)-sp)-1\n",
    "end"
   ]
  },
  {
   "cell_type": "code",
   "execution_count": 68,
   "metadata": {},
   "outputs": [
    {
     "data": {
      "text/plain": [
       "30"
      ]
     },
     "execution_count": 68,
     "metadata": {},
     "output_type": "execute_result"
    }
   ],
   "source": [
    "best_ld(Array(dfc[25,7:end]))"
   ]
  },
  {
   "cell_type": "code",
   "execution_count": 69,
   "metadata": {},
   "outputs": [
    {
     "name": "stdout",
     "output_type": "stream",
     "text": [
      "[47, 64, 62, 56, 45, 61, 54, 54, 62, 50, 61, 61, 54, 52, 40, 44, 48, 60, 46, 52, 57, 57, 48, 36, 30, 60, 44, 58, 57, 53, 49, 64, 51, 59, 60, 57, 52, 55, 57, 52, 52, 52, 54, 25, 54, 65, 40, 49, 59, 26, -1, 60, 48, 43]\n"
     ]
    }
   ],
   "source": [
    "# compute best intervention dates for all data\n",
    "blds = [ best_ld(Array(dfc[i,7:end])) for i in 1:size(dfc)[1] ]\n",
    "println(blds)"
   ]
  },
  {
   "cell_type": "code",
   "execution_count": 70,
   "metadata": {},
   "outputs": [
    {
     "data": {
      "text/plain": [
       "54"
      ]
     },
     "execution_count": 70,
     "metadata": {},
     "output_type": "execute_result"
    }
   ],
   "source": [
    "length(blds)"
   ]
  },
  {
   "cell_type": "code",
   "execution_count": 71,
   "metadata": {},
   "outputs": [
    {
     "data": {
      "text/html": [
       "<table class=\"data-frame\"><thead><tr><th></th><th>country</th><th>population</th><th>lat</th><th>long</th><th>first</th><th>last</th><th>intervention</th></tr><tr><th></th><th>String</th><th>Int64⍰</th><th>Float64</th><th>Float64</th><th>Date</th><th>Date</th><th>Int64</th></tr></thead><tbody><p>53 rows × 89 columns (omitted printing of 82 columns)</p><tr><th>1</th><td>Algeria</td><td>42228429</td><td>28.0339</td><td>1.6596</td><td>0020-01-22</td><td>0020-04-08</td><td>47</td></tr><tr><th>2</th><td>Argentina</td><td>44494502</td><td>-38.4161</td><td>-63.6167</td><td>0020-01-22</td><td>0020-04-08</td><td>64</td></tr><tr><th>3</th><td>Austria</td><td>8847037</td><td>47.5162</td><td>14.5501</td><td>0020-01-22</td><td>0020-04-08</td><td>62</td></tr><tr><th>4</th><td>Belarus</td><td>9485386</td><td>53.7098</td><td>27.9534</td><td>0020-01-22</td><td>0020-04-08</td><td>56</td></tr><tr><th>5</th><td>Belgium</td><td>11422068</td><td>50.8333</td><td>4.0</td><td>0020-01-22</td><td>0020-04-08</td><td>45</td></tr><tr><th>6</th><td>Brazil</td><td>209469333</td><td>-14.235</td><td>-51.9253</td><td>0020-01-22</td><td>0020-04-08</td><td>61</td></tr><tr><th>7</th><td>Chile</td><td>18729160</td><td>-35.6751</td><td>-71.543</td><td>0020-01-22</td><td>0020-04-08</td><td>54</td></tr><tr><th>8</th><td>Colombia</td><td>49648685</td><td>4.5709</td><td>-74.2973</td><td>0020-01-22</td><td>0020-04-08</td><td>54</td></tr><tr><th>9</th><td>Croatia</td><td>4089400</td><td>45.1</td><td>15.2</td><td>0020-01-22</td><td>0020-04-08</td><td>62</td></tr><tr><th>10</th><td>Denmark</td><td>5797446</td><td>56.2639</td><td>9.5018</td><td>0020-01-22</td><td>0020-04-08</td><td>50</td></tr><tr><th>11</th><td>Dominican Republic</td><td>10627165</td><td>18.7357</td><td>-70.1627</td><td>0020-01-22</td><td>0020-04-08</td><td>61</td></tr><tr><th>12</th><td>Ecuador</td><td>17084357</td><td>-1.8312</td><td>-78.1834</td><td>0020-01-22</td><td>0020-04-08</td><td>61</td></tr><tr><th>13</th><td>Estonia</td><td>1320884</td><td>58.5953</td><td>25.0136</td><td>0020-01-22</td><td>0020-04-08</td><td>54</td></tr><tr><th>14</th><td>Finland</td><td>5518050</td><td>64.0</td><td>26.0</td><td>0020-01-22</td><td>0020-04-08</td><td>52</td></tr><tr><th>15</th><td>France</td><td>66987244</td><td>46.2276</td><td>2.2137</td><td>0020-01-22</td><td>0020-04-08</td><td>40</td></tr><tr><th>16</th><td>Germany</td><td>82927922</td><td>51.0</td><td>9.0</td><td>0020-01-22</td><td>0020-04-08</td><td>44</td></tr><tr><th>17</th><td>Greece</td><td>10727668</td><td>39.0742</td><td>21.8243</td><td>0020-01-22</td><td>0020-04-08</td><td>48</td></tr><tr><th>18</th><td>Iceland</td><td>353574</td><td>64.9631</td><td>-19.0208</td><td>0020-01-22</td><td>0020-04-08</td><td>60</td></tr><tr><th>19</th><td>India</td><td>1352617328</td><td>21.0</td><td>78.0</td><td>0020-01-22</td><td>0020-04-08</td><td>46</td></tr><tr><th>20</th><td>Indonesia</td><td>267663435</td><td>-0.7893</td><td>113.921</td><td>0020-01-22</td><td>0020-04-08</td><td>52</td></tr><tr><th>21</th><td>Iraq</td><td>38433600</td><td>33.0</td><td>44.0</td><td>0020-01-22</td><td>0020-04-08</td><td>57</td></tr><tr><th>22</th><td>Ireland</td><td>4853506</td><td>53.1424</td><td>-7.6921</td><td>0020-01-22</td><td>0020-04-08</td><td>57</td></tr><tr><th>23</th><td>Israel</td><td>8883800</td><td>31.0</td><td>35.0</td><td>0020-01-22</td><td>0020-04-08</td><td>48</td></tr><tr><th>24</th><td>Italy</td><td>60431283</td><td>43.0</td><td>12.0</td><td>0020-01-22</td><td>0020-04-08</td><td>36</td></tr><tr><th>25</th><td>Japan</td><td>126529100</td><td>36.0</td><td>138.0</td><td>0020-01-22</td><td>0020-04-08</td><td>30</td></tr><tr><th>26</th><td>Luxembourg</td><td>607728</td><td>49.8153</td><td>6.1296</td><td>0020-01-22</td><td>0020-04-08</td><td>60</td></tr><tr><th>27</th><td>Malaysia</td><td>31528585</td><td>2.5</td><td>112.5</td><td>0020-01-22</td><td>0020-04-08</td><td>44</td></tr><tr><th>28</th><td>Mexico</td><td>126190788</td><td>23.6345</td><td>-102.553</td><td>0020-01-22</td><td>0020-04-08</td><td>58</td></tr><tr><th>29</th><td>Moldova</td><td>3545883</td><td>47.4116</td><td>28.3699</td><td>0020-01-22</td><td>0020-04-08</td><td>57</td></tr><tr><th>30</th><td>Morocco</td><td>36029138</td><td>31.7917</td><td>-7.0926</td><td>0020-01-22</td><td>0020-04-08</td><td>53</td></tr><tr><th>&vellip;</th><td>&vellip;</td><td>&vellip;</td><td>&vellip;</td><td>&vellip;</td><td>&vellip;</td><td>&vellip;</td><td>&vellip;</td></tr></tbody></table>"
      ],
      "text/latex": [
       "\\begin{tabular}{r|cccccccc}\n",
       "\t& country & population & lat & long & first & last & intervention & \\\\\n",
       "\t\\hline\n",
       "\t& String & Int64⍰ & Float64 & Float64 & Date & Date & Int64 & \\\\\n",
       "\t\\hline\n",
       "\t1 & Algeria & 42228429 & 28.0339 & 1.6596 & 0020-01-22 & 0020-04-08 & 47 & $\\dots$ \\\\\n",
       "\t2 & Argentina & 44494502 & -38.4161 & -63.6167 & 0020-01-22 & 0020-04-08 & 64 & $\\dots$ \\\\\n",
       "\t3 & Austria & 8847037 & 47.5162 & 14.5501 & 0020-01-22 & 0020-04-08 & 62 & $\\dots$ \\\\\n",
       "\t4 & Belarus & 9485386 & 53.7098 & 27.9534 & 0020-01-22 & 0020-04-08 & 56 & $\\dots$ \\\\\n",
       "\t5 & Belgium & 11422068 & 50.8333 & 4.0 & 0020-01-22 & 0020-04-08 & 45 & $\\dots$ \\\\\n",
       "\t6 & Brazil & 209469333 & -14.235 & -51.9253 & 0020-01-22 & 0020-04-08 & 61 & $\\dots$ \\\\\n",
       "\t7 & Chile & 18729160 & -35.6751 & -71.543 & 0020-01-22 & 0020-04-08 & 54 & $\\dots$ \\\\\n",
       "\t8 & Colombia & 49648685 & 4.5709 & -74.2973 & 0020-01-22 & 0020-04-08 & 54 & $\\dots$ \\\\\n",
       "\t9 & Croatia & 4089400 & 45.1 & 15.2 & 0020-01-22 & 0020-04-08 & 62 & $\\dots$ \\\\\n",
       "\t10 & Denmark & 5797446 & 56.2639 & 9.5018 & 0020-01-22 & 0020-04-08 & 50 & $\\dots$ \\\\\n",
       "\t11 & Dominican Republic & 10627165 & 18.7357 & -70.1627 & 0020-01-22 & 0020-04-08 & 61 & $\\dots$ \\\\\n",
       "\t12 & Ecuador & 17084357 & -1.8312 & -78.1834 & 0020-01-22 & 0020-04-08 & 61 & $\\dots$ \\\\\n",
       "\t13 & Estonia & 1320884 & 58.5953 & 25.0136 & 0020-01-22 & 0020-04-08 & 54 & $\\dots$ \\\\\n",
       "\t14 & Finland & 5518050 & 64.0 & 26.0 & 0020-01-22 & 0020-04-08 & 52 & $\\dots$ \\\\\n",
       "\t15 & France & 66987244 & 46.2276 & 2.2137 & 0020-01-22 & 0020-04-08 & 40 & $\\dots$ \\\\\n",
       "\t16 & Germany & 82927922 & 51.0 & 9.0 & 0020-01-22 & 0020-04-08 & 44 & $\\dots$ \\\\\n",
       "\t17 & Greece & 10727668 & 39.0742 & 21.8243 & 0020-01-22 & 0020-04-08 & 48 & $\\dots$ \\\\\n",
       "\t18 & Iceland & 353574 & 64.9631 & -19.0208 & 0020-01-22 & 0020-04-08 & 60 & $\\dots$ \\\\\n",
       "\t19 & India & 1352617328 & 21.0 & 78.0 & 0020-01-22 & 0020-04-08 & 46 & $\\dots$ \\\\\n",
       "\t20 & Indonesia & 267663435 & -0.7893 & 113.921 & 0020-01-22 & 0020-04-08 & 52 & $\\dots$ \\\\\n",
       "\t21 & Iraq & 38433600 & 33.0 & 44.0 & 0020-01-22 & 0020-04-08 & 57 & $\\dots$ \\\\\n",
       "\t22 & Ireland & 4853506 & 53.1424 & -7.6921 & 0020-01-22 & 0020-04-08 & 57 & $\\dots$ \\\\\n",
       "\t23 & Israel & 8883800 & 31.0 & 35.0 & 0020-01-22 & 0020-04-08 & 48 & $\\dots$ \\\\\n",
       "\t24 & Italy & 60431283 & 43.0 & 12.0 & 0020-01-22 & 0020-04-08 & 36 & $\\dots$ \\\\\n",
       "\t25 & Japan & 126529100 & 36.0 & 138.0 & 0020-01-22 & 0020-04-08 & 30 & $\\dots$ \\\\\n",
       "\t26 & Luxembourg & 607728 & 49.8153 & 6.1296 & 0020-01-22 & 0020-04-08 & 60 & $\\dots$ \\\\\n",
       "\t27 & Malaysia & 31528585 & 2.5 & 112.5 & 0020-01-22 & 0020-04-08 & 44 & $\\dots$ \\\\\n",
       "\t28 & Mexico & 126190788 & 23.6345 & -102.553 & 0020-01-22 & 0020-04-08 & 58 & $\\dots$ \\\\\n",
       "\t29 & Moldova & 3545883 & 47.4116 & 28.3699 & 0020-01-22 & 0020-04-08 & 57 & $\\dots$ \\\\\n",
       "\t30 & Morocco & 36029138 & 31.7917 & -7.0926 & 0020-01-22 & 0020-04-08 & 53 & $\\dots$ \\\\\n",
       "\t$\\dots$ & $\\dots$ & $\\dots$ & $\\dots$ & $\\dots$ & $\\dots$ & $\\dots$ & $\\dots$ &  \\\\\n",
       "\\end{tabular}\n"
      ],
      "text/plain": [
       "53×89 DataFrame. Omitted printing of 84 columns\n",
       "│ Row │ country              │ population │ lat      │ long     │ first      │\n",
       "│     │ \u001b[90mString\u001b[39m               │ \u001b[90mInt64⍰\u001b[39m     │ \u001b[90mFloat64\u001b[39m  │ \u001b[90mFloat64\u001b[39m  │ \u001b[90mDate\u001b[39m       │\n",
       "├─────┼──────────────────────┼────────────┼──────────┼──────────┼────────────┤\n",
       "│ 1   │ Algeria              │ 42228429   │ 28.0339  │ 1.6596   │ 0020-01-22 │\n",
       "│ 2   │ Argentina            │ 44494502   │ -38.4161 │ -63.6167 │ 0020-01-22 │\n",
       "│ 3   │ Austria              │ 8847037    │ 47.5162  │ 14.5501  │ 0020-01-22 │\n",
       "│ 4   │ Belarus              │ 9485386    │ 53.7098  │ 27.9534  │ 0020-01-22 │\n",
       "│ 5   │ Belgium              │ 11422068   │ 50.8333  │ 4.0      │ 0020-01-22 │\n",
       "│ 6   │ Brazil               │ 209469333  │ -14.235  │ -51.9253 │ 0020-01-22 │\n",
       "│ 7   │ Chile                │ 18729160   │ -35.6751 │ -71.543  │ 0020-01-22 │\n",
       "│ 8   │ Colombia             │ 49648685   │ 4.5709   │ -74.2973 │ 0020-01-22 │\n",
       "│ 9   │ Croatia              │ 4089400    │ 45.1     │ 15.2     │ 0020-01-22 │\n",
       "│ 10  │ Denmark              │ 5797446    │ 56.2639  │ 9.5018   │ 0020-01-22 │\n",
       "⋮\n",
       "│ 43  │ Serbia               │ 6982084    │ 44.0165  │ 21.0059  │ 0020-01-22 │\n",
       "│ 44  │ Singapore            │ 5638676    │ 1.2833   │ 103.833  │ 0020-01-22 │\n",
       "│ 45  │ Slovenia             │ 2067372    │ 46.1512  │ 14.9955  │ 0020-01-22 │\n",
       "│ 46  │ South Africa         │ 57779622   │ -30.5595 │ 22.9375  │ 0020-01-22 │\n",
       "│ 47  │ Spain                │ 46723749   │ 40.0     │ -4.0     │ 0020-01-22 │\n",
       "│ 48  │ Sweden               │ 10183175   │ 63.0     │ 16.0     │ 0020-01-22 │\n",
       "│ 49  │ Switzerland          │ 8516543    │ 46.8182  │ 8.2275   │ 0020-01-22 │\n",
       "│ 50  │ Thailand             │ 69428524   │ 15.0     │ 101.0    │ 0020-01-22 │\n",
       "│ 51  │ Ukraine              │ 44622516   │ 48.3794  │ 31.1656  │ 0020-01-22 │\n",
       "│ 52  │ United Arab Emirates │ 9630959    │ 24.0     │ 54.0     │ 0020-01-22 │\n",
       "│ 53  │ United Kingdom       │ 66488991   │ 55.3781  │ -3.436   │ 0020-01-22 │"
      ]
     },
     "execution_count": 71,
     "metadata": {},
     "output_type": "execute_result"
    }
   ],
   "source": [
    "# make new dataframe by adding columns for best intervention default\n",
    "# betas (before and after intervention).\n",
    "dfca = hcat(dfc[:,[:country; :population; :lat; :long; :first; :last]], \n",
    "        DataFrame(intervention=blds),\n",
    "        DataFrame(beta_before=[ 0.5 for i in 1:length(blds) ]),\n",
    "        DataFrame(beta_after=[ 0.05 for i in 1:length(blds) ]),\n",
    "        DataFrame(gamma_before=[ 0.1 for i in 1:length(blds) ]),\n",
    "        DataFrame(gamma_after=[ 0.1 for i in 1:length(blds) ]),\n",
    "        dfc[:,Symbol.([\"D$i\" for i in 1:size(dfc)[2]-6])])\n",
    "dfca = dfca[dfca[:,:intervention].>0,:]"
   ]
  },
  {
   "cell_type": "code",
   "execution_count": 72,
   "metadata": {},
   "outputs": [
    {
     "data": {
      "text/plain": [
       "89-element Array{Symbol,1}:\n",
       " :country     \n",
       " :population  \n",
       " :lat         \n",
       " :long        \n",
       " :first       \n",
       " :last        \n",
       " :intervention\n",
       " :beta_before \n",
       " :beta_after  \n",
       " :gamma_before\n",
       " :gamma_after \n",
       " :D1          \n",
       " :D2          \n",
       " ⋮            \n",
       " :D67         \n",
       " :D68         \n",
       " :D69         \n",
       " :D70         \n",
       " :D71         \n",
       " :D72         \n",
       " :D73         \n",
       " :D74         \n",
       " :D75         \n",
       " :D76         \n",
       " :D77         \n",
       " :D78         "
      ]
     },
     "execution_count": 72,
     "metadata": {},
     "output_type": "execute_result"
    }
   ],
   "source": [
    "names(dfca)"
   ]
  },
  {
   "cell_type": "code",
   "execution_count": 73,
   "metadata": {},
   "outputs": [
    {
     "data": {
      "text/plain": [
       "\"../SIRjs/data_jhp_clean.csv\""
      ]
     },
     "execution_count": 73,
     "metadata": {},
     "output_type": "execute_result"
    }
   ],
   "source": [
    "# rename!(df, Dict(:0 => :country))\n",
    "CSV.write(\"../SIRjs/data_jhp_clean.csv\",dfca)"
   ]
  },
  {
   "cell_type": "code",
   "execution_count": 74,
   "metadata": {},
   "outputs": [
    {
     "data": {
      "text/plain": [
       "\"South Africa\""
      ]
     },
     "execution_count": 74,
     "metadata": {},
     "output_type": "execute_result"
    }
   ],
   "source": [
    "all = CSV.read(\"../SIRjs/data_jhp_clean.csv\")\n",
    "country = \"South Africa\""
   ]
  },
  {
   "cell_type": "code",
   "execution_count": 75,
   "metadata": {},
   "outputs": [
    {
     "data": {
      "text/plain": [
       "57779622"
      ]
     },
     "execution_count": 75,
     "metadata": {},
     "output_type": "execute_result"
    }
   ],
   "source": [
    "N = all[(all[!,Symbol(\"country\")].==country),:population][1]"
   ]
  },
  {
   "cell_type": "code",
   "execution_count": 76,
   "metadata": {},
   "outputs": [
    {
     "data": {
      "text/plain": [
       "65"
      ]
     },
     "execution_count": 76,
     "metadata": {},
     "output_type": "execute_result"
    }
   ],
   "source": [
    "lock_down = all[(all[!,Symbol(\"country\")].==country),:intervention][1]"
   ]
  },
  {
   "cell_type": "code",
   "execution_count": 77,
   "metadata": {},
   "outputs": [
    {
     "name": "stdout",
     "output_type": "stream",
     "text": [
      "65\n"
     ]
    },
    {
     "data": {
      "image/svg+xml": [
       "<?xml version=\"1.0\" encoding=\"utf-8\"?>\n",
       "<svg xmlns=\"http://www.w3.org/2000/svg\" xmlns:xlink=\"http://www.w3.org/1999/xlink\" width=\"600\" height=\"400\" viewBox=\"0 0 2400 1600\">\n",
       "<defs>\n",
       "  <clipPath id=\"clip0100\">\n",
       "    <rect x=\"0\" y=\"0\" width=\"2400\" height=\"1600\"/>\n",
       "  </clipPath>\n",
       "</defs>\n",
       "<path clip-path=\"url(#clip0100)\" d=\"\n",
       "M0 1600 L2400 1600 L2400 0 L0 0  Z\n",
       "  \" fill=\"#ffffff\" fill-rule=\"evenodd\" fill-opacity=\"1\"/>\n",
       "<defs>\n",
       "  <clipPath id=\"clip0101\">\n",
       "    <rect x=\"480\" y=\"0\" width=\"1681\" height=\"1600\"/>\n",
       "  </clipPath>\n",
       "</defs>\n",
       "<path clip-path=\"url(#clip0100)\" d=\"\n",
       "M113.754 1487.47 L2352.76 1487.47 L2352.76 121.675 L113.754 121.675  Z\n",
       "  \" fill=\"#ffffff\" fill-rule=\"evenodd\" fill-opacity=\"1\"/>\n",
       "<defs>\n",
       "  <clipPath id=\"clip0102\">\n",
       "    <rect x=\"113\" y=\"121\" width=\"2240\" height=\"1367\"/>\n",
       "  </clipPath>\n",
       "</defs>\n",
       "<polyline clip-path=\"url(#clip0102)\" style=\"stroke:#000000; stroke-width:2; stroke-opacity:0.1; fill:none\" points=\"\n",
       "  114.997,1487.47 114.997,121.675 \n",
       "  \"/>\n",
       "<polyline clip-path=\"url(#clip0102)\" style=\"stroke:#000000; stroke-width:2; stroke-opacity:0.1; fill:none\" points=\"\n",
       "  736.252,1487.47 736.252,121.675 \n",
       "  \"/>\n",
       "<polyline clip-path=\"url(#clip0102)\" style=\"stroke:#000000; stroke-width:2; stroke-opacity:0.1; fill:none\" points=\"\n",
       "  1357.51,1487.47 1357.51,121.675 \n",
       "  \"/>\n",
       "<polyline clip-path=\"url(#clip0102)\" style=\"stroke:#000000; stroke-width:2; stroke-opacity:0.1; fill:none\" points=\"\n",
       "  1978.76,1487.47 1978.76,121.675 \n",
       "  \"/>\n",
       "<polyline clip-path=\"url(#clip0102)\" style=\"stroke:#000000; stroke-width:2; stroke-opacity:0.1; fill:none\" points=\"\n",
       "  113.754,1448.82 2352.76,1448.82 \n",
       "  \"/>\n",
       "<polyline clip-path=\"url(#clip0102)\" style=\"stroke:#000000; stroke-width:2; stroke-opacity:0.1; fill:none\" points=\"\n",
       "  113.754,1106.15 2352.76,1106.15 \n",
       "  \"/>\n",
       "<polyline clip-path=\"url(#clip0102)\" style=\"stroke:#000000; stroke-width:2; stroke-opacity:0.1; fill:none\" points=\"\n",
       "  113.754,763.474 2352.76,763.474 \n",
       "  \"/>\n",
       "<polyline clip-path=\"url(#clip0102)\" style=\"stroke:#000000; stroke-width:2; stroke-opacity:0.1; fill:none\" points=\"\n",
       "  113.754,420.801 2352.76,420.801 \n",
       "  \"/>\n",
       "<polyline clip-path=\"url(#clip0100)\" style=\"stroke:#000000; stroke-width:4; stroke-opacity:1; fill:none\" points=\"\n",
       "  113.754,1487.47 2352.76,1487.47 \n",
       "  \"/>\n",
       "<polyline clip-path=\"url(#clip0100)\" style=\"stroke:#000000; stroke-width:4; stroke-opacity:1; fill:none\" points=\"\n",
       "  113.754,1487.47 113.754,121.675 \n",
       "  \"/>\n",
       "<polyline clip-path=\"url(#clip0100)\" style=\"stroke:#000000; stroke-width:4; stroke-opacity:1; fill:none\" points=\"\n",
       "  114.997,1487.47 114.997,1471.09 \n",
       "  \"/>\n",
       "<polyline clip-path=\"url(#clip0100)\" style=\"stroke:#000000; stroke-width:4; stroke-opacity:1; fill:none\" points=\"\n",
       "  736.252,1487.47 736.252,1471.09 \n",
       "  \"/>\n",
       "<polyline clip-path=\"url(#clip0100)\" style=\"stroke:#000000; stroke-width:4; stroke-opacity:1; fill:none\" points=\"\n",
       "  1357.51,1487.47 1357.51,1471.09 \n",
       "  \"/>\n",
       "<polyline clip-path=\"url(#clip0100)\" style=\"stroke:#000000; stroke-width:4; stroke-opacity:1; fill:none\" points=\"\n",
       "  1978.76,1487.47 1978.76,1471.09 \n",
       "  \"/>\n",
       "<polyline clip-path=\"url(#clip0100)\" style=\"stroke:#000000; stroke-width:4; stroke-opacity:1; fill:none\" points=\"\n",
       "  113.754,1448.82 140.622,1448.82 \n",
       "  \"/>\n",
       "<polyline clip-path=\"url(#clip0100)\" style=\"stroke:#000000; stroke-width:4; stroke-opacity:1; fill:none\" points=\"\n",
       "  113.754,1106.15 140.622,1106.15 \n",
       "  \"/>\n",
       "<polyline clip-path=\"url(#clip0100)\" style=\"stroke:#000000; stroke-width:4; stroke-opacity:1; fill:none\" points=\"\n",
       "  113.754,763.474 140.622,763.474 \n",
       "  \"/>\n",
       "<polyline clip-path=\"url(#clip0100)\" style=\"stroke:#000000; stroke-width:4; stroke-opacity:1; fill:none\" points=\"\n",
       "  113.754,420.801 140.622,420.801 \n",
       "  \"/>\n",
       "<g clip-path=\"url(#clip0100)\">\n",
       "<text style=\"fill:#000000; fill-opacity:1; font-family:Arial,Helvetica Neue,Helvetica,sans-serif; font-size:48px; text-anchor:middle;\" transform=\"rotate(0, 114.997, 1541.47)\" x=\"114.997\" y=\"1541.47\">0</text>\n",
       "</g>\n",
       "<g clip-path=\"url(#clip0100)\">\n",
       "<text style=\"fill:#000000; fill-opacity:1; font-family:Arial,Helvetica Neue,Helvetica,sans-serif; font-size:48px; text-anchor:middle;\" transform=\"rotate(0, 736.252, 1541.47)\" x=\"736.252\" y=\"1541.47\">10</text>\n",
       "</g>\n",
       "<g clip-path=\"url(#clip0100)\">\n",
       "<text style=\"fill:#000000; fill-opacity:1; font-family:Arial,Helvetica Neue,Helvetica,sans-serif; font-size:48px; text-anchor:middle;\" transform=\"rotate(0, 1357.51, 1541.47)\" x=\"1357.51\" y=\"1541.47\">20</text>\n",
       "</g>\n",
       "<g clip-path=\"url(#clip0100)\">\n",
       "<text style=\"fill:#000000; fill-opacity:1; font-family:Arial,Helvetica Neue,Helvetica,sans-serif; font-size:48px; text-anchor:middle;\" transform=\"rotate(0, 1978.76, 1541.47)\" x=\"1978.76\" y=\"1541.47\">30</text>\n",
       "</g>\n",
       "<g clip-path=\"url(#clip0100)\">\n",
       "<text style=\"fill:#000000; fill-opacity:1; font-family:Arial,Helvetica Neue,Helvetica,sans-serif; font-size:48px; text-anchor:end;\" transform=\"rotate(0, 89.7545, 1466.32)\" x=\"89.7545\" y=\"1466.32\">0</text>\n",
       "</g>\n",
       "<g clip-path=\"url(#clip0100)\">\n",
       "<text style=\"fill:#000000; fill-opacity:1; font-family:Arial,Helvetica Neue,Helvetica,sans-serif; font-size:48px; text-anchor:end;\" transform=\"rotate(0, 89.7545, 1123.65)\" x=\"89.7545\" y=\"1123.65\">2</text>\n",
       "</g>\n",
       "<g clip-path=\"url(#clip0100)\">\n",
       "<text style=\"fill:#000000; fill-opacity:1; font-family:Arial,Helvetica Neue,Helvetica,sans-serif; font-size:48px; text-anchor:end;\" transform=\"rotate(0, 89.7545, 780.974)\" x=\"89.7545\" y=\"780.974\">4</text>\n",
       "</g>\n",
       "<g clip-path=\"url(#clip0100)\">\n",
       "<text style=\"fill:#000000; fill-opacity:1; font-family:Arial,Helvetica Neue,Helvetica,sans-serif; font-size:48px; text-anchor:end;\" transform=\"rotate(0, 89.7545, 438.301)\" x=\"89.7545\" y=\"438.301\">6</text>\n",
       "</g>\n",
       "<g clip-path=\"url(#clip0100)\">\n",
       "<text style=\"fill:#000000; fill-opacity:1; font-family:Arial,Helvetica Neue,Helvetica,sans-serif; font-size:84px; text-anchor:middle;\" transform=\"rotate(0, 1233.26, 73.2)\" x=\"1233.26\" y=\"73.2\">South Africa, population = 57779622</text>\n",
       "</g>\n",
       "<circle clip-path=\"url(#clip0102)\" cx=\"177.122\" cy=\"1448.82\" r=\"14\" fill=\"#e26f46\" fill-rule=\"evenodd\" fill-opacity=\"1\" stroke=\"#000000\" stroke-opacity=\"1\" stroke-width=\"3.2\"/>\n",
       "<circle clip-path=\"url(#clip0102)\" cx=\"239.248\" cy=\"1448.82\" r=\"14\" fill=\"#e26f46\" fill-rule=\"evenodd\" fill-opacity=\"1\" stroke=\"#000000\" stroke-opacity=\"1\" stroke-width=\"3.2\"/>\n",
       "<circle clip-path=\"url(#clip0102)\" cx=\"301.373\" cy=\"1448.82\" r=\"14\" fill=\"#e26f46\" fill-rule=\"evenodd\" fill-opacity=\"1\" stroke=\"#000000\" stroke-opacity=\"1\" stroke-width=\"3.2\"/>\n",
       "<circle clip-path=\"url(#clip0102)\" cx=\"363.499\" cy=\"1260.59\" r=\"14\" fill=\"#e26f46\" fill-rule=\"evenodd\" fill-opacity=\"1\" stroke=\"#000000\" stroke-opacity=\"1\" stroke-width=\"3.2\"/>\n",
       "<circle clip-path=\"url(#clip0102)\" cx=\"425.624\" cy=\"1260.59\" r=\"14\" fill=\"#e26f46\" fill-rule=\"evenodd\" fill-opacity=\"1\" stroke=\"#000000\" stroke-opacity=\"1\" stroke-width=\"3.2\"/>\n",
       "<circle clip-path=\"url(#clip0102)\" cx=\"487.75\" cy=\"1115.41\" r=\"14\" fill=\"#e26f46\" fill-rule=\"evenodd\" fill-opacity=\"1\" stroke=\"#000000\" stroke-opacity=\"1\" stroke-width=\"3.2\"/>\n",
       "<circle clip-path=\"url(#clip0102)\" cx=\"549.875\" cy=\"1009.35\" r=\"14\" fill=\"#e26f46\" fill-rule=\"evenodd\" fill-opacity=\"1\" stroke=\"#000000\" stroke-opacity=\"1\" stroke-width=\"3.2\"/>\n",
       "<circle clip-path=\"url(#clip0102)\" cx=\"612.001\" cy=\"963.387\" r=\"14\" fill=\"#e26f46\" fill-rule=\"evenodd\" fill-opacity=\"1\" stroke=\"#000000\" stroke-opacity=\"1\" stroke-width=\"3.2\"/>\n",
       "<circle clip-path=\"url(#clip0102)\" cx=\"674.126\" cy=\"904.304\" r=\"14\" fill=\"#e26f46\" fill-rule=\"evenodd\" fill-opacity=\"1\" stroke=\"#000000\" stroke-opacity=\"1\" stroke-width=\"3.2\"/>\n",
       "<circle clip-path=\"url(#clip0102)\" cx=\"736.252\" cy=\"825.569\" r=\"14\" fill=\"#e26f46\" fill-rule=\"evenodd\" fill-opacity=\"1\" stroke=\"#000000\" stroke-opacity=\"1\" stroke-width=\"3.2\"/>\n",
       "<circle clip-path=\"url(#clip0102)\" cx=\"798.377\" cy=\"775.155\" r=\"14\" fill=\"#e26f46\" fill-rule=\"evenodd\" fill-opacity=\"1\" stroke=\"#000000\" stroke-opacity=\"1\" stroke-width=\"3.2\"/>\n",
       "<circle clip-path=\"url(#clip0102)\" cx=\"860.502\" cy=\"741.692\" r=\"14\" fill=\"#e26f46\" fill-rule=\"evenodd\" fill-opacity=\"1\" stroke=\"#000000\" stroke-opacity=\"1\" stroke-width=\"3.2\"/>\n",
       "<circle clip-path=\"url(#clip0102)\" cx=\"922.628\" cy=\"741.692\" r=\"14\" fill=\"#e26f46\" fill-rule=\"evenodd\" fill-opacity=\"1\" stroke=\"#000000\" stroke-opacity=\"1\" stroke-width=\"3.2\"/>\n",
       "<circle clip-path=\"url(#clip0102)\" cx=\"984.753\" cy=\"634.357\" r=\"14\" fill=\"#e26f46\" fill-rule=\"evenodd\" fill-opacity=\"1\" stroke=\"#000000\" stroke-opacity=\"1\" stroke-width=\"3.2\"/>\n",
       "<circle clip-path=\"url(#clip0102)\" cx=\"1046.88\" cy=\"590.316\" r=\"14\" fill=\"#e26f46\" fill-rule=\"evenodd\" fill-opacity=\"1\" stroke=\"#000000\" stroke-opacity=\"1\" stroke-width=\"3.2\"/>\n",
       "<circle clip-path=\"url(#clip0102)\" cx=\"1109\" cy=\"539.32\" r=\"14\" fill=\"#e26f46\" fill-rule=\"evenodd\" fill-opacity=\"1\" stroke=\"#000000\" stroke-opacity=\"1\" stroke-width=\"3.2\"/>\n",
       "<circle clip-path=\"url(#clip0102)\" cx=\"1171.13\" cy=\"509.787\" r=\"14\" fill=\"#e26f46\" fill-rule=\"evenodd\" fill-opacity=\"1\" stroke=\"#000000\" stroke-opacity=\"1\" stroke-width=\"3.2\"/>\n",
       "<circle clip-path=\"url(#clip0102)\" cx=\"1233.26\" cy=\"487.087\" r=\"14\" fill=\"#e26f46\" fill-rule=\"evenodd\" fill-opacity=\"1\" stroke=\"#000000\" stroke-opacity=\"1\" stroke-width=\"3.2\"/>\n",
       "<circle clip-path=\"url(#clip0102)\" cx=\"1295.38\" cy=\"421.409\" r=\"14\" fill=\"#e26f46\" fill-rule=\"evenodd\" fill-opacity=\"1\" stroke=\"#000000\" stroke-opacity=\"1\" stroke-width=\"3.2\"/>\n",
       "<circle clip-path=\"url(#clip0102)\" cx=\"1357.51\" cy=\"366.46\" r=\"14\" fill=\"#e26f46\" fill-rule=\"evenodd\" fill-opacity=\"1\" stroke=\"#000000\" stroke-opacity=\"1\" stroke-width=\"3.2\"/>\n",
       "<circle clip-path=\"url(#clip0102)\" cx=\"1419.63\" cy=\"324.192\" r=\"14\" fill=\"#e26f46\" fill-rule=\"evenodd\" fill-opacity=\"1\" stroke=\"#000000\" stroke-opacity=\"1\" stroke-width=\"3.2\"/>\n",
       "<circle clip-path=\"url(#clip0102)\" cx=\"1481.76\" cy=\"278.257\" r=\"14\" fill=\"#e26f46\" fill-rule=\"evenodd\" fill-opacity=\"1\" stroke=\"#000000\" stroke-opacity=\"1\" stroke-width=\"3.2\"/>\n",
       "<circle clip-path=\"url(#clip0102)\" cx=\"1543.88\" cy=\"238.369\" r=\"14\" fill=\"#e26f46\" fill-rule=\"evenodd\" fill-opacity=\"1\" stroke=\"#000000\" stroke-opacity=\"1\" stroke-width=\"3.2\"/>\n",
       "<circle clip-path=\"url(#clip0102)\" cx=\"1606.01\" cy=\"235.898\" r=\"14\" fill=\"#e26f46\" fill-rule=\"evenodd\" fill-opacity=\"1\" stroke=\"#000000\" stroke-opacity=\"1\" stroke-width=\"3.2\"/>\n",
       "<circle clip-path=\"url(#clip0102)\" cx=\"1668.13\" cy=\"222.974\" r=\"14\" fill=\"#e26f46\" fill-rule=\"evenodd\" fill-opacity=\"1\" stroke=\"#000000\" stroke-opacity=\"1\" stroke-width=\"3.2\"/>\n",
       "<circle clip-path=\"url(#clip0102)\" cx=\"1730.26\" cy=\"216.924\" r=\"14\" fill=\"#e26f46\" fill-rule=\"evenodd\" fill-opacity=\"1\" stroke=\"#000000\" stroke-opacity=\"1\" stroke-width=\"3.2\"/>\n",
       "<circle clip-path=\"url(#clip0102)\" cx=\"1792.38\" cy=\"213.471\" r=\"14\" fill=\"#e26f46\" fill-rule=\"evenodd\" fill-opacity=\"1\" stroke=\"#000000\" stroke-opacity=\"1\" stroke-width=\"3.2\"/>\n",
       "<circle clip-path=\"url(#clip0102)\" cx=\"1854.51\" cy=\"210.085\" r=\"14\" fill=\"#e26f46\" fill-rule=\"evenodd\" fill-opacity=\"1\" stroke=\"#000000\" stroke-opacity=\"1\" stroke-width=\"3.2\"/>\n",
       "<circle clip-path=\"url(#clip0102)\" cx=\"1916.64\" cy=\"200.195\" r=\"14\" fill=\"#e26f46\" fill-rule=\"evenodd\" fill-opacity=\"1\" stroke=\"#000000\" stroke-opacity=\"1\" stroke-width=\"3.2\"/>\n",
       "<circle clip-path=\"url(#clip0102)\" cx=\"1978.76\" cy=\"195.229\" r=\"14\" fill=\"#e26f46\" fill-rule=\"evenodd\" fill-opacity=\"1\" stroke=\"#000000\" stroke-opacity=\"1\" stroke-width=\"3.2\"/>\n",
       "<circle clip-path=\"url(#clip0102)\" cx=\"2040.89\" cy=\"186.355\" r=\"14\" fill=\"#e26f46\" fill-rule=\"evenodd\" fill-opacity=\"1\" stroke=\"#000000\" stroke-opacity=\"1\" stroke-width=\"3.2\"/>\n",
       "<circle clip-path=\"url(#clip0102)\" cx=\"2103.01\" cy=\"178.95\" r=\"14\" fill=\"#e26f46\" fill-rule=\"evenodd\" fill-opacity=\"1\" stroke=\"#000000\" stroke-opacity=\"1\" stroke-width=\"3.2\"/>\n",
       "<circle clip-path=\"url(#clip0102)\" cx=\"2165.14\" cy=\"175.771\" r=\"14\" fill=\"#e26f46\" fill-rule=\"evenodd\" fill-opacity=\"1\" stroke=\"#000000\" stroke-opacity=\"1\" stroke-width=\"3.2\"/>\n",
       "<circle clip-path=\"url(#clip0102)\" cx=\"2227.26\" cy=\"169.485\" r=\"14\" fill=\"#e26f46\" fill-rule=\"evenodd\" fill-opacity=\"1\" stroke=\"#000000\" stroke-opacity=\"1\" stroke-width=\"3.2\"/>\n",
       "<circle clip-path=\"url(#clip0102)\" cx=\"2289.39\" cy=\"160.33\" r=\"14\" fill=\"#e26f46\" fill-rule=\"evenodd\" fill-opacity=\"1\" stroke=\"#000000\" stroke-opacity=\"1\" stroke-width=\"3.2\"/>\n",
       "<circle clip-path=\"url(#clip0102)\" cx=\"1543.88\" cy=\"238.369\" r=\"14\" fill=\"#3da44d\" fill-rule=\"evenodd\" fill-opacity=\"1\" stroke=\"#000000\" stroke-opacity=\"1\" stroke-width=\"3.2\"/>\n",
       "<path clip-path=\"url(#clip0100)\" d=\"\n",
       "M185.754 386.635 L626.376 386.635 L626.376 205.195 L185.754 205.195  Z\n",
       "  \" fill=\"#ffffff\" fill-rule=\"evenodd\" fill-opacity=\"1\"/>\n",
       "<polyline clip-path=\"url(#clip0100)\" style=\"stroke:#000000; stroke-width:4; stroke-opacity:1; fill:none\" points=\"\n",
       "  185.754,386.635 626.376,386.635 626.376,205.195 185.754,205.195 185.754,386.635 \n",
       "  \"/>\n",
       "<circle clip-path=\"url(#clip0100)\" cx=\"293.754\" cy=\"265.675\" r=\"21\" fill=\"#e26f46\" fill-rule=\"evenodd\" fill-opacity=\"1\" stroke=\"#000000\" stroke-opacity=\"1\" stroke-width=\"3.2\"/>\n",
       "<g clip-path=\"url(#clip0100)\">\n",
       "<text style=\"fill:#000000; fill-opacity:1; font-family:Arial,Helvetica Neue,Helvetica,sans-serif; font-size:48px; text-anchor:start;\" transform=\"rotate(0, 377.754, 283.175)\" x=\"377.754\" y=\"283.175\">cases</text>\n",
       "</g>\n",
       "<circle clip-path=\"url(#clip0100)\" cx=\"293.754\" cy=\"326.155\" r=\"21\" fill=\"#3da44d\" fill-rule=\"evenodd\" fill-opacity=\"1\" stroke=\"#000000\" stroke-opacity=\"1\" stroke-width=\"3.2\"/>\n",
       "<g clip-path=\"url(#clip0100)\">\n",
       "<text style=\"fill:#000000; fill-opacity:1; font-family:Arial,Helvetica Neue,Helvetica,sans-serif; font-size:48px; text-anchor:start;\" transform=\"rotate(0, 377.754, 343.655)\" x=\"377.754\" y=\"343.655\">lockdown</text>\n",
       "</g>\n",
       "</svg>\n"
      ]
     },
     "execution_count": 77,
     "metadata": {},
     "output_type": "execute_result"
    }
   ],
   "source": [
    "# load clean data and get cases for one country\n",
    "all = CSV.read(\"../SIRjs/data_jhp_clean.csv\")\n",
    "country = \"South Africa\"\n",
    "N = all[(all[!,Symbol(\"country\")].==country),:population][1]\n",
    "ld = all[(all[!,Symbol(\"country\")].==country),:intervention][1]\n",
    "println(ld)\n",
    "data = convert(Array,\n",
    "    all[(all[!,Symbol(\"country\")].==country),\n",
    "        12:size(all)[2]])[1,:]\n",
    "save_data = data\n",
    "data = data[data[:,1] .!= 0,:]\n",
    "ld = ld - (length(save_data)-length(data)) + 1\n",
    "data_labels=\"cases\"\n",
    "data_colors=2\n",
    "plot_title=\"$country, population = $N\"\n",
    "scatter(log.(data), legend=:topleft, label=data_labels,\n",
    "            color=data_colors,title=plot_title)\n",
    "scatter!([ld],log.([data[ld]]),color=3,label=\"lockdown\")"
   ]
  },
  {
   "cell_type": "code",
   "execution_count": 78,
   "metadata": {},
   "outputs": [
    {
     "data": {
      "text/plain": [
       "simulate (generic function with 1 method)"
      ]
     },
     "execution_count": 78,
     "metadata": {},
     "output_type": "execute_result"
    }
   ],
   "source": [
    "function simulate(μ,n,β,γ,N)\n",
    "    sim = reshape(ones(n*4),(n,4))\n",
    "    sim[1,:]= μ   # [(N-1)/N, 1/N, 0, 1/N]\n",
    "    for k in 2:n\n",
    "        s, i, r, c = sim[k-1,:]\n",
    "        ns = s - β[k-1]*s*i\n",
    "        ni = i + β[k-1]*s*i - γ[k-1]*i\n",
    "        nr = r + γ[k-1]*i\n",
    "        nc = c + β[k-1]*s*i\n",
    "        sim[k,:] = [ns, ni, nr, nc]\n",
    "    end\n",
    "    sim\n",
    "end"
   ]
  },
  {
   "cell_type": "code",
   "execution_count": 79,
   "metadata": {},
   "outputs": [
    {
     "data": {
      "text/plain": [
       "expand_params (generic function with 1 method)"
      ]
     },
     "execution_count": 79,
     "metadata": {},
     "output_type": "execute_result"
    }
   ],
   "source": [
    "function expand_params(params,bps,n)\n",
    "    p = params[end] * ones(n)\n",
    "    for k in (length(bps)-1):-1:1\n",
    "        p[1:bps[k]-1]=params[k]*ones(bps[k]-1)\n",
    "    end\n",
    "    p\n",
    "end"
   ]
  },
  {
   "cell_type": "code",
   "execution_count": 80,
   "metadata": {},
   "outputs": [
    {
     "name": "stdout",
     "output_type": "stream",
     "text": [
      "Algeria -> 14 -> 0.4 -> 0.22 -> 0.1 -> 0.1\n",
      "Argentina -> 24 -> 0.4 -> 0.15 -> 0.1 -> 0.1\n",
      "Austria -> 29 -> 0.45 -> 0.1 -> 0.1 -> 0.1\n",
      "Belarus -> 20 -> 0.21 -> 0.34 -> 0.1 -> 0.1\n",
      "Belgium -> 33 -> 0.31 -> 0.21 -> 0.1 -> 0.1\n",
      "Brazil -> 27 -> 0.42 -> 0.22 -> 0.1 -> 0.1\n",
      "Chile -> 14 -> 0.66 -> 0.21 -> 0.1 -> 0.1\n",
      "Colombia -> 11 -> 0.69 -> 0.21 -> 0.1 -> 0.1\n",
      "Croatia -> 29 -> 0.33 -> 0.15 -> 0.1 -> 0.1\n",
      "Denmark -> 15 -> 0.63 -> 0.17 -> 0.1 -> 0.1\n",
      "Dominican Republic -> 23 -> 0.39 -> 0.19 -> 0.1 -> 0.1\n",
      "Ecuador -> 23 -> 0.46 -> 0.16 -> 0.1 -> 0.1\n",
      "Estonia -> 19 -> 0.42 -> 0.16 -> 0.1 -> 0.1\n",
      "Finland -> 46 -> 0.22 -> 0.18 -> 0.1 -> 0.1\n",
      "France -> 39 -> 0.3 -> 0.22 -> 0.1 -> 0.1\n",
      "Germany -> 40 -> 0.33 -> 0.19 -> 0.1 -> 0.1\n",
      "Greece -> 14 -> 0.58 -> 0.16 -> 0.1 -> 0.1\n",
      "Iceland -> 24 -> 0.41 -> 0.12 -> 0.1 -> 0.1\n",
      "India -> 39 -> 0.18 -> 0.28 -> 0.1 -> 0.1\n",
      "Indonesia -> 13 -> 0.64 -> 0.19 -> 0.1 -> 0.1\n",
      "Iraq -> 25 -> 0.33 -> 0.17 -> 0.1 -> 0.1\n",
      "Ireland -> 20 -> 0.5 -> 0.19 -> 0.1 -> 0.1\n",
      "Israel -> 19 -> 0.47 -> 0.21 -> 0.1 -> 0.1\n",
      "Italy -> 28 -> 0.48 -> 0.16 -> 0.1 -> 0.1\n",
      "Japan -> 31 -> 0.24 -> 0.18 -> 0.1 -> 0.1\n",
      "Luxembourg -> 23 -> 0.46 -> 0.13 -> 0.1 -> 0.1\n",
      "Malaysia -> 42 -> 0.24 -> 0.18 -> 0.1 -> 0.1\n",
      "Mexico -> 22 -> 0.38 -> 0.23 -> 0.1 -> 0.1\n",
      "Moldova -> 12 -> 0.51 -> 0.25 -> 0.1 -> 0.1\n",
      "Morocco -> 14 -> 0.45 -> 0.22 -> 0.1 -> 0.1\n",
      "Netherlands -> 14 -> 0.82 -> 0.18 -> 0.1 -> 0.1\n",
      "New Zealand -> 28 -> 0.33 -> 0.18 -> 0.1 -> 0.1\n",
      "Norway -> 17 -> 0.64 -> 0.14 -> 0.1 -> 0.1\n",
      "Pakistan -> 25 -> 0.39 -> 0.19 -> 0.1 -> 0.1\n",
      "Panama -> 13 -> 0.71 -> 0.19 -> 0.1 -> 0.1\n",
      "Peru -> 14 -> 0.53 -> 0.27 -> 0.1 -> 0.1\n",
      "Philippines -> 45 -> 0.22 -> 0.23 -> 0.1 -> 0.1\n",
      "Poland -> 14 -> 0.65 -> 0.21 -> 0.1 -> 0.1\n",
      "Portugal -> 18 -> 0.63 -> 0.19 -> 0.1 -> 0.1\n",
      "Qatar -> 15 -> 0.5 -> 0.19 -> 0.1 -> 0.1\n",
      "Romania -> 18 -> 0.46 -> 0.22 -> 0.1 -> 0.1\n",
      "Saudi Arabia -> 13 -> 0.64 -> 0.19 -> 0.1 -> 0.1\n",
      "Serbia -> 11 -> 0.64 -> 0.25 -> 0.1 -> 0.1\n",
      "Singapore -> 25 -> 0.22 -> 0.17 -> 0.1 -> 0.1\n",
      "Slovenia -> 12 -> 0.73 -> 0.13 -> 0.1 -> 0.1\n",
      "South Africa -> 23 -> 0.46 -> 0.07 -> 0.1 -> 0.1\n",
      "Spain -> 31 -> 0.41 -> 0.19 -> 0.1 -> 0.1\n",
      "Sweden -> 41 -> 0.26 -> 0.19 -> 0.1 -> 0.1\n",
      "Switzerland -> 26 -> 0.52 -> 0.12 -> 0.1 -> 0.1\n",
      "Thailand -> 27 -> 0.21 -> 0.19 -> 0.1 -> 0.1\n",
      "Ukraine -> 20 -> 0.39 -> 0.23 -> 0.1 -> 0.1\n",
      "United Arab Emirates -> 42 -> 0.17 -> 0.28 -> 0.1 -> 0.1\n",
      "United Kingdom -> 35 -> 0.3 -> 0.23 -> 0.1 -> 0.1\n"
     ]
    }
   ],
   "source": [
    "all = CSV.read(\"../SIRjs/data_jhp_clean.csv\", copycols=true)\n",
    "for row in 1:size(all)[1]\n",
    "    country = all[row,:country]\n",
    "    N = all[(all[!,Symbol(\"country\")].==country),:population][1]\n",
    "    ld = all[(all[!,Symbol(\"country\")].==country),:intervention][1]\n",
    "    data = convert(Array,all[(all[!,Symbol(\"country\")].==country),\n",
    "        12:size(all)[2]])[1,:]\n",
    "    save_data = data\n",
    "    data = data[data[:,1] .!= 0,:]\n",
    "    ld = ld - (length(save_data)-length(data)) + 1\n",
    "     # optimise\n",
    "    n=size(data)[1]\n",
    "    μ = [(N-1)/N, 1/N, 0, 1/N]\n",
    "    initial_betas = [0.3 0.15]\n",
    "    initial_gammas = [0.1]\n",
    "    breaks = [ld n]\n",
    "    loss = function(params)\n",
    "        β = expand_params(params[1:2],breaks,n)\n",
    "        γ = expand_params([params[3] params[3]],breaks,n)\n",
    "        sim = N*simulate(μ,n,β,γ,N)[:,4]\n",
    "        sum( (sim .- data[:,1]).^2 ) \n",
    "    end\n",
    "    initial_params = [initial_betas initial_gammas]\n",
    "    lower = [0.01 0.01 0.0999]\n",
    "    upper = [0.90 0.90 0.1001]\n",
    "    res = optimize(loss,lower,upper,initial_params, Fminbox(LBFGS()))\n",
    "    opt_params = Optim.minimizer(res) \n",
    "    all[row,:beta_before] = round(opt_params[1],digits=2)\n",
    "    all[row,:beta_after] = round(opt_params[2],digits=2)\n",
    "    all[row,:gamma_before] = round(opt_params[3],digits=2)\n",
    "    all[row,:gamma_after] = round(opt_params[3],digits=2)\n",
    "    println(country, \" -> \", ld, \" -> \", all[row,:beta_before], \" -> \", all[row,:beta_after],\n",
    "    \" -> \", all[row,:gamma_before], \" -> \", all[row,:gamma_after])\n",
    "end"
   ]
  },
  {
   "cell_type": "code",
   "execution_count": 81,
   "metadata": {},
   "outputs": [
    {
     "data": {
      "text/plain": [
       "\"../SIRjs/data_jhp_clean.csv\""
      ]
     },
     "execution_count": 81,
     "metadata": {},
     "output_type": "execute_result"
    }
   ],
   "source": [
    "CSV.write(\"../SIRjs/data_jhp_clean.csv\", all)"
   ]
  },
  {
   "cell_type": "code",
   "execution_count": 82,
   "metadata": {},
   "outputs": [
    {
     "data": {
      "text/plain": [
       "0.09999999999999999"
      ]
     },
     "execution_count": 82,
     "metadata": {},
     "output_type": "execute_result"
    }
   ],
   "source": [
    "sum(all[:,:gamma_before])/53"
   ]
  },
  {
   "cell_type": "code",
   "execution_count": 86,
   "metadata": {},
   "outputs": [
    {
     "data": {
      "image/svg+xml": [
       "<?xml version=\"1.0\" encoding=\"utf-8\"?>\n",
       "<svg xmlns=\"http://www.w3.org/2000/svg\" xmlns:xlink=\"http://www.w3.org/1999/xlink\" width=\"600\" height=\"400\" viewBox=\"0 0 2400 1600\">\n",
       "<defs>\n",
       "  <clipPath id=\"clip2100\">\n",
       "    <rect x=\"0\" y=\"0\" width=\"2400\" height=\"1600\"/>\n",
       "  </clipPath>\n",
       "</defs>\n",
       "<path clip-path=\"url(#clip2100)\" d=\"\n",
       "M0 1600 L2400 1600 L2400 0 L0 0  Z\n",
       "  \" fill=\"#ffffff\" fill-rule=\"evenodd\" fill-opacity=\"1\"/>\n",
       "<defs>\n",
       "  <clipPath id=\"clip2101\">\n",
       "    <rect x=\"480\" y=\"0\" width=\"1681\" height=\"1600\"/>\n",
       "  </clipPath>\n",
       "</defs>\n",
       "<path clip-path=\"url(#clip2100)\" d=\"\n",
       "M194.041 1487.47 L2352.76 1487.47 L2352.76 304.912 L194.041 304.912  Z\n",
       "  \" fill=\"#ffffff\" fill-rule=\"evenodd\" fill-opacity=\"1\"/>\n",
       "<defs>\n",
       "  <clipPath id=\"clip2102\">\n",
       "    <rect x=\"194\" y=\"304\" width=\"2160\" height=\"1184\"/>\n",
       "  </clipPath>\n",
       "</defs>\n",
       "<polyline clip-path=\"url(#clip2102)\" style=\"stroke:#000000; stroke-width:2; stroke-opacity:0.1; fill:none\" points=\"\n",
       "  206.649,1487.47 206.649,304.912 \n",
       "  \"/>\n",
       "<polyline clip-path=\"url(#clip2102)\" style=\"stroke:#000000; stroke-width:2; stroke-opacity:0.1; fill:none\" points=\"\n",
       "  691.535,1487.47 691.535,304.912 \n",
       "  \"/>\n",
       "<polyline clip-path=\"url(#clip2102)\" style=\"stroke:#000000; stroke-width:2; stroke-opacity:0.1; fill:none\" points=\"\n",
       "  1176.42,1487.47 1176.42,304.912 \n",
       "  \"/>\n",
       "<polyline clip-path=\"url(#clip2102)\" style=\"stroke:#000000; stroke-width:2; stroke-opacity:0.1; fill:none\" points=\"\n",
       "  1661.31,1487.47 1661.31,304.912 \n",
       "  \"/>\n",
       "<polyline clip-path=\"url(#clip2102)\" style=\"stroke:#000000; stroke-width:2; stroke-opacity:0.1; fill:none\" points=\"\n",
       "  2146.19,1487.47 2146.19,304.912 \n",
       "  \"/>\n",
       "<polyline clip-path=\"url(#clip2102)\" style=\"stroke:#000000; stroke-width:2; stroke-opacity:0.1; fill:none\" points=\"\n",
       "  194.041,1454.01 2352.76,1454.01 \n",
       "  \"/>\n",
       "<polyline clip-path=\"url(#clip2102)\" style=\"stroke:#000000; stroke-width:2; stroke-opacity:0.1; fill:none\" points=\"\n",
       "  194.041,1191.22 2352.76,1191.22 \n",
       "  \"/>\n",
       "<polyline clip-path=\"url(#clip2102)\" style=\"stroke:#000000; stroke-width:2; stroke-opacity:0.1; fill:none\" points=\"\n",
       "  194.041,928.431 2352.76,928.431 \n",
       "  \"/>\n",
       "<polyline clip-path=\"url(#clip2102)\" style=\"stroke:#000000; stroke-width:2; stroke-opacity:0.1; fill:none\" points=\"\n",
       "  194.041,665.643 2352.76,665.643 \n",
       "  \"/>\n",
       "<polyline clip-path=\"url(#clip2102)\" style=\"stroke:#000000; stroke-width:2; stroke-opacity:0.1; fill:none\" points=\"\n",
       "  194.041,402.855 2352.76,402.855 \n",
       "  \"/>\n",
       "<polyline clip-path=\"url(#clip2100)\" style=\"stroke:#000000; stroke-width:4; stroke-opacity:1; fill:none\" points=\"\n",
       "  194.041,1487.47 2352.76,1487.47 \n",
       "  \"/>\n",
       "<polyline clip-path=\"url(#clip2100)\" style=\"stroke:#000000; stroke-width:4; stroke-opacity:1; fill:none\" points=\"\n",
       "  194.041,1487.47 194.041,304.912 \n",
       "  \"/>\n",
       "<polyline clip-path=\"url(#clip2100)\" style=\"stroke:#000000; stroke-width:4; stroke-opacity:1; fill:none\" points=\"\n",
       "  206.649,1487.47 206.649,1473.28 \n",
       "  \"/>\n",
       "<polyline clip-path=\"url(#clip2100)\" style=\"stroke:#000000; stroke-width:4; stroke-opacity:1; fill:none\" points=\"\n",
       "  691.535,1487.47 691.535,1473.28 \n",
       "  \"/>\n",
       "<polyline clip-path=\"url(#clip2100)\" style=\"stroke:#000000; stroke-width:4; stroke-opacity:1; fill:none\" points=\"\n",
       "  1176.42,1487.47 1176.42,1473.28 \n",
       "  \"/>\n",
       "<polyline clip-path=\"url(#clip2100)\" style=\"stroke:#000000; stroke-width:4; stroke-opacity:1; fill:none\" points=\"\n",
       "  1661.31,1487.47 1661.31,1473.28 \n",
       "  \"/>\n",
       "<polyline clip-path=\"url(#clip2100)\" style=\"stroke:#000000; stroke-width:4; stroke-opacity:1; fill:none\" points=\"\n",
       "  2146.19,1487.47 2146.19,1473.28 \n",
       "  \"/>\n",
       "<polyline clip-path=\"url(#clip2100)\" style=\"stroke:#000000; stroke-width:4; stroke-opacity:1; fill:none\" points=\"\n",
       "  194.041,1454.01 219.946,1454.01 \n",
       "  \"/>\n",
       "<polyline clip-path=\"url(#clip2100)\" style=\"stroke:#000000; stroke-width:4; stroke-opacity:1; fill:none\" points=\"\n",
       "  194.041,1191.22 219.946,1191.22 \n",
       "  \"/>\n",
       "<polyline clip-path=\"url(#clip2100)\" style=\"stroke:#000000; stroke-width:4; stroke-opacity:1; fill:none\" points=\"\n",
       "  194.041,928.431 219.946,928.431 \n",
       "  \"/>\n",
       "<polyline clip-path=\"url(#clip2100)\" style=\"stroke:#000000; stroke-width:4; stroke-opacity:1; fill:none\" points=\"\n",
       "  194.041,665.643 219.946,665.643 \n",
       "  \"/>\n",
       "<polyline clip-path=\"url(#clip2100)\" style=\"stroke:#000000; stroke-width:4; stroke-opacity:1; fill:none\" points=\"\n",
       "  194.041,402.855 219.946,402.855 \n",
       "  \"/>\n",
       "<g clip-path=\"url(#clip2100)\">\n",
       "<text style=\"fill:#000000; fill-opacity:1; font-family:Arial,Helvetica Neue,Helvetica,sans-serif; font-size:48px; text-anchor:middle;\" transform=\"rotate(0, 206.649, 1541.47)\" x=\"206.649\" y=\"1541.47\">0</text>\n",
       "</g>\n",
       "<g clip-path=\"url(#clip2100)\">\n",
       "<text style=\"fill:#000000; fill-opacity:1; font-family:Arial,Helvetica Neue,Helvetica,sans-serif; font-size:48px; text-anchor:middle;\" transform=\"rotate(0, 691.535, 1541.47)\" x=\"691.535\" y=\"1541.47\">10</text>\n",
       "</g>\n",
       "<g clip-path=\"url(#clip2100)\">\n",
       "<text style=\"fill:#000000; fill-opacity:1; font-family:Arial,Helvetica Neue,Helvetica,sans-serif; font-size:48px; text-anchor:middle;\" transform=\"rotate(0, 1176.42, 1541.47)\" x=\"1176.42\" y=\"1541.47\">20</text>\n",
       "</g>\n",
       "<g clip-path=\"url(#clip2100)\">\n",
       "<text style=\"fill:#000000; fill-opacity:1; font-family:Arial,Helvetica Neue,Helvetica,sans-serif; font-size:48px; text-anchor:middle;\" transform=\"rotate(0, 1661.31, 1541.47)\" x=\"1661.31\" y=\"1541.47\">30</text>\n",
       "</g>\n",
       "<g clip-path=\"url(#clip2100)\">\n",
       "<text style=\"fill:#000000; fill-opacity:1; font-family:Arial,Helvetica Neue,Helvetica,sans-serif; font-size:48px; text-anchor:middle;\" transform=\"rotate(0, 2146.19, 1541.47)\" x=\"2146.19\" y=\"1541.47\">40</text>\n",
       "</g>\n",
       "<g clip-path=\"url(#clip2100)\">\n",
       "<text style=\"fill:#000000; fill-opacity:1; font-family:Arial,Helvetica Neue,Helvetica,sans-serif; font-size:48px; text-anchor:end;\" transform=\"rotate(0, 170.041, 1471.51)\" x=\"170.041\" y=\"1471.51\">0</text>\n",
       "</g>\n",
       "<g clip-path=\"url(#clip2100)\">\n",
       "<text style=\"fill:#000000; fill-opacity:1; font-family:Arial,Helvetica Neue,Helvetica,sans-serif; font-size:48px; text-anchor:end;\" transform=\"rotate(0, 170.041, 1208.72)\" x=\"170.041\" y=\"1208.72\">500</text>\n",
       "</g>\n",
       "<g clip-path=\"url(#clip2100)\">\n",
       "<text style=\"fill:#000000; fill-opacity:1; font-family:Arial,Helvetica Neue,Helvetica,sans-serif; font-size:48px; text-anchor:end;\" transform=\"rotate(0, 170.041, 945.931)\" x=\"170.041\" y=\"945.931\">1000</text>\n",
       "</g>\n",
       "<g clip-path=\"url(#clip2100)\">\n",
       "<text style=\"fill:#000000; fill-opacity:1; font-family:Arial,Helvetica Neue,Helvetica,sans-serif; font-size:48px; text-anchor:end;\" transform=\"rotate(0, 170.041, 683.143)\" x=\"170.041\" y=\"683.143\">1500</text>\n",
       "</g>\n",
       "<g clip-path=\"url(#clip2100)\">\n",
       "<text style=\"fill:#000000; fill-opacity:1; font-family:Arial,Helvetica Neue,Helvetica,sans-serif; font-size:48px; text-anchor:end;\" transform=\"rotate(0, 170.041, 420.355)\" x=\"170.041\" y=\"420.355\">2000</text>\n",
       "</g>\n",
       "<g clip-path=\"url(#clip2100)\">\n",
       "<text style=\"fill:#000000; fill-opacity:1; font-family:Arial,Helvetica Neue,Helvetica,sans-serif; font-size:84px; text-anchor:middle;\" transform=\"rotate(0, 1273.4, 73.2)\" x=\"1273.4\" y=\"73.2\">SIR fit for COVID-19 outbreak in Greece</text>\n",
       "</g>\n",
       "<g clip-path=\"url(#clip2100)\">\n",
       "<text style=\"fill:#000000; fill-opacity:1; font-family:Arial,Helvetica Neue,Helvetica,sans-serif; font-size:84px; text-anchor:middle;\" transform=\"rotate(0, 1273.4, 163.92)\" x=\"1273.4\" y=\"163.92\"> showing trends before and after interventions </text>\n",
       "</g>\n",
       "<g clip-path=\"url(#clip2100)\">\n",
       "<text style=\"fill:#000000; fill-opacity:1; font-family:Arial,Helvetica Neue,Helvetica,sans-serif; font-size:84px; text-anchor:middle;\" transform=\"rotate(0, 1273.4, 254.64)\" x=\"1273.4\" y=\"254.64\"> annotated with basic reproduction number </text>\n",
       "</g>\n",
       "<g clip-path=\"url(#clip2100)\">\n",
       "<text style=\"fill:#000000; fill-opacity:1; font-family:Arial,Helvetica Neue,Helvetica,sans-serif; font-size:84px; text-anchor:middle;\" transform=\"rotate(0, 1273.4, 345.36)\" x=\"1273.4\" y=\"345.36\">data from John Hopkins</text>\n",
       "</g>\n",
       "<circle clip-path=\"url(#clip2102)\" cx=\"255.137\" cy=\"1453.48\" r=\"14\" fill=\"#0000ff\" fill-rule=\"evenodd\" fill-opacity=\"1\" stroke=\"#000000\" stroke-opacity=\"1\" stroke-width=\"3.2\"/>\n",
       "<circle clip-path=\"url(#clip2102)\" cx=\"303.626\" cy=\"1452.43\" r=\"14\" fill=\"#0000ff\" fill-rule=\"evenodd\" fill-opacity=\"1\" stroke=\"#000000\" stroke-opacity=\"1\" stroke-width=\"3.2\"/>\n",
       "<circle clip-path=\"url(#clip2102)\" cx=\"352.114\" cy=\"1451.9\" r=\"14\" fill=\"#0000ff\" fill-rule=\"evenodd\" fill-opacity=\"1\" stroke=\"#000000\" stroke-opacity=\"1\" stroke-width=\"3.2\"/>\n",
       "<circle clip-path=\"url(#clip2102)\" cx=\"400.603\" cy=\"1451.9\" r=\"14\" fill=\"#0000ff\" fill-rule=\"evenodd\" fill-opacity=\"1\" stroke=\"#000000\" stroke-opacity=\"1\" stroke-width=\"3.2\"/>\n",
       "<circle clip-path=\"url(#clip2102)\" cx=\"449.092\" cy=\"1450.33\" r=\"14\" fill=\"#0000ff\" fill-rule=\"evenodd\" fill-opacity=\"1\" stroke=\"#000000\" stroke-opacity=\"1\" stroke-width=\"3.2\"/>\n",
       "<circle clip-path=\"url(#clip2102)\" cx=\"497.58\" cy=\"1450.33\" r=\"14\" fill=\"#0000ff\" fill-rule=\"evenodd\" fill-opacity=\"1\" stroke=\"#000000\" stroke-opacity=\"1\" stroke-width=\"3.2\"/>\n",
       "<circle clip-path=\"url(#clip2102)\" cx=\"546.069\" cy=\"1450.33\" r=\"14\" fill=\"#0000ff\" fill-rule=\"evenodd\" fill-opacity=\"1\" stroke=\"#000000\" stroke-opacity=\"1\" stroke-width=\"3.2\"/>\n",
       "<circle clip-path=\"url(#clip2102)\" cx=\"594.558\" cy=\"1449.28\" r=\"14\" fill=\"#0000ff\" fill-rule=\"evenodd\" fill-opacity=\"1\" stroke=\"#000000\" stroke-opacity=\"1\" stroke-width=\"3.2\"/>\n",
       "<circle clip-path=\"url(#clip2102)\" cx=\"643.046\" cy=\"1437.71\" r=\"14\" fill=\"#0000ff\" fill-rule=\"evenodd\" fill-opacity=\"1\" stroke=\"#000000\" stroke-opacity=\"1\" stroke-width=\"3.2\"/>\n",
       "<circle clip-path=\"url(#clip2102)\" cx=\"691.535\" cy=\"1430.36\" r=\"14\" fill=\"#0000ff\" fill-rule=\"evenodd\" fill-opacity=\"1\" stroke=\"#000000\" stroke-opacity=\"1\" stroke-width=\"3.2\"/>\n",
       "<circle clip-path=\"url(#clip2102)\" cx=\"740.024\" cy=\"1429.83\" r=\"14\" fill=\"#0000ff\" fill-rule=\"evenodd\" fill-opacity=\"1\" stroke=\"#000000\" stroke-opacity=\"1\" stroke-width=\"3.2\"/>\n",
       "<circle clip-path=\"url(#clip2102)\" cx=\"788.512\" cy=\"1415.64\" r=\"14\" fill=\"#0000ff\" fill-rule=\"evenodd\" fill-opacity=\"1\" stroke=\"#000000\" stroke-opacity=\"1\" stroke-width=\"3.2\"/>\n",
       "<circle clip-path=\"url(#clip2102)\" cx=\"837.001\" cy=\"1415.64\" r=\"14\" fill=\"#0000ff\" fill-rule=\"evenodd\" fill-opacity=\"1\" stroke=\"#000000\" stroke-opacity=\"1\" stroke-width=\"3.2\"/>\n",
       "<circle clip-path=\"url(#clip2102)\" cx=\"885.49\" cy=\"1407.23\" r=\"14\" fill=\"#0000ff\" fill-rule=\"evenodd\" fill-opacity=\"1\" stroke=\"#000000\" stroke-opacity=\"1\" stroke-width=\"3.2\"/>\n",
       "<circle clip-path=\"url(#clip2102)\" cx=\"933.978\" cy=\"1401.97\" r=\"14\" fill=\"#0000ff\" fill-rule=\"evenodd\" fill-opacity=\"1\" stroke=\"#000000\" stroke-opacity=\"1\" stroke-width=\"3.2\"/>\n",
       "<circle clip-path=\"url(#clip2102)\" cx=\"982.467\" cy=\"1401.97\" r=\"14\" fill=\"#0000ff\" fill-rule=\"evenodd\" fill-opacity=\"1\" stroke=\"#000000\" stroke-opacity=\"1\" stroke-width=\"3.2\"/>\n",
       "<circle clip-path=\"url(#clip2102)\" cx=\"1030.96\" cy=\"1354.15\" r=\"14\" fill=\"#0000ff\" fill-rule=\"evenodd\" fill-opacity=\"1\" stroke=\"#000000\" stroke-opacity=\"1\" stroke-width=\"3.2\"/>\n",
       "<circle clip-path=\"url(#clip2102)\" cx=\"1079.44\" cy=\"1334.17\" r=\"14\" fill=\"#0000ff\" fill-rule=\"evenodd\" fill-opacity=\"1\" stroke=\"#000000\" stroke-opacity=\"1\" stroke-width=\"3.2\"/>\n",
       "<circle clip-path=\"url(#clip2102)\" cx=\"1127.93\" cy=\"1280.04\" r=\"14\" fill=\"#0000ff\" fill-rule=\"evenodd\" fill-opacity=\"1\" stroke=\"#000000\" stroke-opacity=\"1\" stroke-width=\"3.2\"/>\n",
       "<circle clip-path=\"url(#clip2102)\" cx=\"1176.42\" cy=\"1280.04\" r=\"14\" fill=\"#0000ff\" fill-rule=\"evenodd\" fill-opacity=\"1\" stroke=\"#000000\" stroke-opacity=\"1\" stroke-width=\"3.2\"/>\n",
       "<circle clip-path=\"url(#clip2102)\" cx=\"1224.91\" cy=\"1250.61\" r=\"14\" fill=\"#0000ff\" fill-rule=\"evenodd\" fill-opacity=\"1\" stroke=\"#000000\" stroke-opacity=\"1\" stroke-width=\"3.2\"/>\n",
       "<circle clip-path=\"url(#clip2102)\" cx=\"1273.4\" cy=\"1234.32\" r=\"14\" fill=\"#0000ff\" fill-rule=\"evenodd\" fill-opacity=\"1\" stroke=\"#000000\" stroke-opacity=\"1\" stroke-width=\"3.2\"/>\n",
       "<circle clip-path=\"url(#clip2102)\" cx=\"1321.89\" cy=\"1234.32\" r=\"14\" fill=\"#0000ff\" fill-rule=\"evenodd\" fill-opacity=\"1\" stroke=\"#000000\" stroke-opacity=\"1\" stroke-width=\"3.2\"/>\n",
       "<circle clip-path=\"url(#clip2102)\" cx=\"1370.38\" cy=\"1193.85\" r=\"14\" fill=\"#0000ff\" fill-rule=\"evenodd\" fill-opacity=\"1\" stroke=\"#000000\" stroke-opacity=\"1\" stroke-width=\"3.2\"/>\n",
       "<circle clip-path=\"url(#clip2102)\" cx=\"1418.86\" cy=\"1175.45\" r=\"14\" fill=\"#0000ff\" fill-rule=\"evenodd\" fill-opacity=\"1\" stroke=\"#000000\" stroke-opacity=\"1\" stroke-width=\"3.2\"/>\n",
       "<circle clip-path=\"url(#clip2102)\" cx=\"1467.35\" cy=\"1126.05\" r=\"14\" fill=\"#0000ff\" fill-rule=\"evenodd\" fill-opacity=\"1\" stroke=\"#000000\" stroke-opacity=\"1\" stroke-width=\"3.2\"/>\n",
       "<circle clip-path=\"url(#clip2102)\" cx=\"1515.84\" cy=\"1088.73\" r=\"14\" fill=\"#0000ff\" fill-rule=\"evenodd\" fill-opacity=\"1\" stroke=\"#000000\" stroke-opacity=\"1\" stroke-width=\"3.2\"/>\n",
       "<circle clip-path=\"url(#clip2102)\" cx=\"1564.33\" cy=\"1063.5\" r=\"14\" fill=\"#0000ff\" fill-rule=\"evenodd\" fill-opacity=\"1\" stroke=\"#000000\" stroke-opacity=\"1\" stroke-width=\"3.2\"/>\n",
       "<circle clip-path=\"url(#clip2102)\" cx=\"1612.82\" cy=\"1022.51\" r=\"14\" fill=\"#0000ff\" fill-rule=\"evenodd\" fill-opacity=\"1\" stroke=\"#000000\" stroke-opacity=\"1\" stroke-width=\"3.2\"/>\n",
       "<circle clip-path=\"url(#clip2102)\" cx=\"1661.31\" cy=\"985.193\" r=\"14\" fill=\"#0000ff\" fill-rule=\"evenodd\" fill-opacity=\"1\" stroke=\"#000000\" stroke-opacity=\"1\" stroke-width=\"3.2\"/>\n",
       "<circle clip-path=\"url(#clip2102)\" cx=\"1709.8\" cy=\"946.3\" r=\"14\" fill=\"#0000ff\" fill-rule=\"evenodd\" fill-opacity=\"1\" stroke=\"#000000\" stroke-opacity=\"1\" stroke-width=\"3.2\"/>\n",
       "<circle clip-path=\"url(#clip2102)\" cx=\"1758.29\" cy=\"896.371\" r=\"14\" fill=\"#0000ff\" fill-rule=\"evenodd\" fill-opacity=\"1\" stroke=\"#000000\" stroke-opacity=\"1\" stroke-width=\"3.2\"/>\n",
       "<circle clip-path=\"url(#clip2102)\" cx=\"1806.77\" cy=\"846.441\" r=\"14\" fill=\"#0000ff\" fill-rule=\"evenodd\" fill-opacity=\"1\" stroke=\"#000000\" stroke-opacity=\"1\" stroke-width=\"3.2\"/>\n",
       "<circle clip-path=\"url(#clip2102)\" cx=\"1855.26\" cy=\"817.009\" r=\"14\" fill=\"#0000ff\" fill-rule=\"evenodd\" fill-opacity=\"1\" stroke=\"#000000\" stroke-opacity=\"1\" stroke-width=\"3.2\"/>\n",
       "<circle clip-path=\"url(#clip2102)\" cx=\"1903.75\" cy=\"763.4\" r=\"14\" fill=\"#0000ff\" fill-rule=\"evenodd\" fill-opacity=\"1\" stroke=\"#000000\" stroke-opacity=\"1\" stroke-width=\"3.2\"/>\n",
       "<circle clip-path=\"url(#clip2102)\" cx=\"1952.24\" cy=\"710.317\" r=\"14\" fill=\"#0000ff\" fill-rule=\"evenodd\" fill-opacity=\"1\" stroke=\"#000000\" stroke-opacity=\"1\" stroke-width=\"3.2\"/>\n",
       "<circle clip-path=\"url(#clip2102)\" cx=\"2000.73\" cy=\"642.518\" r=\"14\" fill=\"#0000ff\" fill-rule=\"evenodd\" fill-opacity=\"1\" stroke=\"#000000\" stroke-opacity=\"1\" stroke-width=\"3.2\"/>\n",
       "<circle clip-path=\"url(#clip2102)\" cx=\"2049.22\" cy=\"606.253\" r=\"14\" fill=\"#0000ff\" fill-rule=\"evenodd\" fill-opacity=\"1\" stroke=\"#000000\" stroke-opacity=\"1\" stroke-width=\"3.2\"/>\n",
       "<circle clip-path=\"url(#clip2102)\" cx=\"2097.71\" cy=\"574.718\" r=\"14\" fill=\"#0000ff\" fill-rule=\"evenodd\" fill-opacity=\"1\" stroke=\"#000000\" stroke-opacity=\"1\" stroke-width=\"3.2\"/>\n",
       "<circle clip-path=\"url(#clip2102)\" cx=\"2146.19\" cy=\"542.133\" r=\"14\" fill=\"#0000ff\" fill-rule=\"evenodd\" fill-opacity=\"1\" stroke=\"#000000\" stroke-opacity=\"1\" stroke-width=\"3.2\"/>\n",
       "<circle clip-path=\"url(#clip2102)\" cx=\"2194.68\" cy=\"531.621\" r=\"14\" fill=\"#0000ff\" fill-rule=\"evenodd\" fill-opacity=\"1\" stroke=\"#000000\" stroke-opacity=\"1\" stroke-width=\"3.2\"/>\n",
       "<circle clip-path=\"url(#clip2102)\" cx=\"2243.17\" cy=\"491.152\" r=\"14\" fill=\"#0000ff\" fill-rule=\"evenodd\" fill-opacity=\"1\" stroke=\"#000000\" stroke-opacity=\"1\" stroke-width=\"3.2\"/>\n",
       "<circle clip-path=\"url(#clip2102)\" cx=\"2291.66\" cy=\"463.822\" r=\"14\" fill=\"#0000ff\" fill-rule=\"evenodd\" fill-opacity=\"1\" stroke=\"#000000\" stroke-opacity=\"1\" stroke-width=\"3.2\"/>\n",
       "<polyline clip-path=\"url(#clip2102)\" style=\"stroke:#ff0000; stroke-width:8; stroke-opacity:1; fill:none\" points=\"\n",
       "  255.137,1453.48 303.626,1453.23 352.114,1452.85 400.603,1452.3 449.092,1451.48 497.58,1450.27 546.069,1448.48 594.558,1445.83 643.046,1441.91 691.535,1436.1 \n",
       "  740.024,1427.51 788.512,1414.79 837.001,1395.96 885.49,1368.1 933.978,1326.86 982.467,1265.84 1030.96,1175.52 \n",
       "  \"/>\n",
       "<polyline clip-path=\"url(#clip2102)\" style=\"stroke:#008000; stroke-width:8; stroke-opacity:1; fill:none\" points=\"\n",
       "  255.137,1454.01 303.626,1453.95 352.114,1453.88 400.603,1453.76 449.092,1453.59 497.58,1453.34 546.069,1452.96 594.558,1452.41 643.046,1451.59 691.535,1450.39 \n",
       "  740.024,1448.59 788.512,1445.94 837.001,1442.02 885.49,1436.22 933.978,1427.63 982.467,1414.91 1030.96,1396.1 \n",
       "  \"/>\n",
       "<polyline clip-path=\"url(#clip2102)\" style=\"stroke:#0000ff; stroke-width:8; stroke-opacity:1; fill:none\" points=\"\n",
       "  255.137,1453.48 303.626,1453.18 352.114,1452.72 400.603,1452.06 449.092,1451.07 497.58,1449.61 546.069,1447.44 594.558,1444.24 643.046,1439.5 691.535,1432.48 \n",
       "  740.024,1422.09 788.512,1406.72 837.001,1383.98 885.49,1350.31 933.978,1300.49 982.467,1226.74 1030.96,1117.61 \n",
       "  \"/>\n",
       "<polyline clip-path=\"url(#clip2102)\" style=\"stroke:#ff0000; stroke-width:8; stroke-opacity:1; fill:none\" points=\"\n",
       "  255.137,1453.48 303.626,1453.23 352.114,1452.85 400.603,1452.3 449.092,1451.48 497.58,1450.27 546.069,1448.48 594.558,1445.83 643.046,1441.91 691.535,1436.1 \n",
       "  740.024,1427.51 788.512,1414.79 837.001,1395.96 885.49,1368.1 933.978,1362.94 982.467,1357.48 1030.96,1351.69 1079.44,1345.55 1127.93,1339.04 1176.42,1332.15 \n",
       "  1224.91,1324.84 1273.4,1317.09 1321.89,1308.87 1370.38,1300.17 1418.86,1290.94 1467.35,1281.15 1515.84,1270.78 1564.33,1259.79 1612.82,1248.14 1661.31,1235.79 \n",
       "  1709.8,1222.7 1758.29,1208.83 1806.77,1194.12 1855.26,1178.53 1903.75,1162.01 1952.24,1144.49 2000.73,1125.93 2049.22,1106.25 2097.71,1085.4 2146.19,1063.29 \n",
       "  2194.68,1039.85 2243.17,1015.02 2291.66,988.691 \n",
       "  \"/>\n",
       "<polyline clip-path=\"url(#clip2102)\" style=\"stroke:#008000; stroke-width:8; stroke-opacity:1; fill:none\" points=\"\n",
       "  255.137,1454.01 303.626,1453.95 352.114,1453.88 400.603,1453.76 449.092,1453.59 497.58,1453.34 546.069,1452.96 594.558,1452.41 643.046,1451.59 691.535,1450.39 \n",
       "  740.024,1448.59 788.512,1445.94 837.001,1442.02 885.49,1436.22 933.978,1427.63 982.467,1418.52 1030.96,1408.87 1079.44,1398.64 1127.93,1387.79 1176.42,1376.3 \n",
       "  1224.91,1364.11 1273.4,1351.19 1321.89,1337.5 1370.38,1322.99 1418.86,1307.6 1467.35,1291.3 1515.84,1274.01 1564.33,1255.69 1612.82,1236.27 1661.31,1215.68 \n",
       "  1709.8,1193.86 1758.29,1170.73 1806.77,1146.21 1855.26,1120.22 1903.75,1092.68 1952.24,1063.48 2000.73,1032.53 2049.22,999.718 2097.71,964.943 2146.19,928.082 \n",
       "  2194.68,889.01 2243.17,847.595 2291.66,803.696 \n",
       "  \"/>\n",
       "<polyline clip-path=\"url(#clip2102)\" style=\"stroke:#0000ff; stroke-width:8; stroke-opacity:1; fill:none\" points=\"\n",
       "  255.137,1453.48 303.626,1453.18 352.114,1452.72 400.603,1452.06 449.092,1451.07 497.58,1449.61 546.069,1447.44 594.558,1444.24 643.046,1439.5 691.535,1432.48 \n",
       "  740.024,1422.09 788.512,1406.72 837.001,1383.98 885.49,1350.31 933.978,1336.57 982.467,1322 1030.96,1306.55 1079.44,1290.18 1127.93,1272.83 1176.42,1254.44 \n",
       "  1224.91,1234.94 1273.4,1214.27 1321.89,1192.37 1370.38,1169.15 1418.86,1144.53 1467.35,1118.44 1515.84,1090.79 1564.33,1061.48 1612.82,1030.4 1661.31,997.469 \n",
       "  1709.8,962.558 1758.29,925.553 1806.77,886.328 1855.26,844.751 1903.75,800.68 1952.24,753.966 2000.73,704.45 2049.22,651.965 2097.71,596.332 2146.19,537.363 \n",
       "  2194.68,474.859 2243.17,408.606 2291.66,338.381 \n",
       "  \"/>\n",
       "<path clip-path=\"url(#clip2100)\" d=\"\n",
       "M266.041 690.832 L736.072 690.832 L736.072 388.432 L266.041 388.432  Z\n",
       "  \" fill=\"#ffffff\" fill-rule=\"evenodd\" fill-opacity=\"1\"/>\n",
       "<polyline clip-path=\"url(#clip2100)\" style=\"stroke:#000000; stroke-width:4; stroke-opacity:1; fill:none\" points=\"\n",
       "  266.041,690.832 736.072,690.832 736.072,388.432 266.041,388.432 266.041,690.832 \n",
       "  \"/>\n",
       "<circle clip-path=\"url(#clip2100)\" cx=\"374.041\" cy=\"448.912\" r=\"21\" fill=\"#0000ff\" fill-rule=\"evenodd\" fill-opacity=\"1\" stroke=\"#000000\" stroke-opacity=\"1\" stroke-width=\"3.2\"/>\n",
       "<g clip-path=\"url(#clip2100)\">\n",
       "<text style=\"fill:#000000; fill-opacity:1; font-family:Arial,Helvetica Neue,Helvetica,sans-serif; font-size:48px; text-anchor:start;\" transform=\"rotate(0, 458.041, 466.412)\" x=\"458.041\" y=\"466.412\">cases</text>\n",
       "</g>\n",
       "<polyline clip-path=\"url(#clip2100)\" style=\"stroke:#ff0000; stroke-width:8; stroke-opacity:1; fill:none\" points=\"\n",
       "  290.041,509.392 434.041,509.392 \n",
       "  \"/>\n",
       "<g clip-path=\"url(#clip2100)\">\n",
       "<text style=\"fill:#000000; fill-opacity:1; font-family:Arial,Helvetica Neue,Helvetica,sans-serif; font-size:48px; text-anchor:start;\" transform=\"rotate(0, 458.041, 526.892)\" x=\"458.041\" y=\"526.892\">infective</text>\n",
       "</g>\n",
       "<polyline clip-path=\"url(#clip2100)\" style=\"stroke:#008000; stroke-width:8; stroke-opacity:1; fill:none\" points=\"\n",
       "  290.041,569.872 434.041,569.872 \n",
       "  \"/>\n",
       "<g clip-path=\"url(#clip2100)\">\n",
       "<text style=\"fill:#000000; fill-opacity:1; font-family:Arial,Helvetica Neue,Helvetica,sans-serif; font-size:48px; text-anchor:start;\" transform=\"rotate(0, 458.041, 587.372)\" x=\"458.041\" y=\"587.372\">recovered</text>\n",
       "</g>\n",
       "<polyline clip-path=\"url(#clip2100)\" style=\"stroke:#0000ff; stroke-width:8; stroke-opacity:1; fill:none\" points=\"\n",
       "  290.041,630.352 434.041,630.352 \n",
       "  \"/>\n",
       "<g clip-path=\"url(#clip2100)\">\n",
       "<text style=\"fill:#000000; fill-opacity:1; font-family:Arial,Helvetica Neue,Helvetica,sans-serif; font-size:48px; text-anchor:start;\" transform=\"rotate(0, 458.041, 647.852)\" x=\"458.041\" y=\"647.852\">cumulative</text>\n",
       "</g>\n",
       "<g clip-path=\"url(#clip2100)\">\n",
       "<text style=\"fill:#000000; fill-opacity:1; font-family:Arial,Helvetica Neue,Helvetica,sans-serif; font-size:84px; text-anchor:end;\" transform=\"rotate(0, 982.467, 1257.24)\" x=\"982.467\" y=\"1257.24\">5.8.....</text>\n",
       "</g>\n",
       "<g clip-path=\"url(#clip2100)\">\n",
       "<text style=\"fill:#000000; fill-opacity:1; font-family:Arial,Helvetica Neue,Helvetica,sans-serif; font-size:84px; text-anchor:end;\" transform=\"rotate(0, 2243.17, 439.106)\" x=\"2243.17\" y=\"439.106\">1.6.....</text>\n",
       "</g>\n",
       "</svg>\n"
      ]
     },
     "execution_count": 86,
     "metadata": {},
     "output_type": "execute_result"
    }
   ],
   "source": [
    "country=\"Greece\"\n",
    "N = all[(all[!,Symbol(\"country\")].==country),:population][1]\n",
    "ld = all[(all[!,Symbol(\"country\")].==country),:intervention][1]\n",
    "data = convert(Array,all[(all[!,Symbol(\"country\")].==country),\n",
    "        12:size(all)[2]])[1,:]\n",
    "save_data = data\n",
    "data = data[data[:,1] .!= 0,:]\n",
    "ld = ld - (length(save_data)-length(data)) + 1\n",
    "n=size(data)[1]\n",
    "μ = [(N-1)/N, 1/N, 0, 1/N]\n",
    "gammas = all[(all[!,Symbol(\"country\")].==country),[:gamma_before, :gamma_after]][1,:]\n",
    "betas = all[(all[!,Symbol(\"country\")].==country),[:beta_before, :beta_after]][1,:]\n",
    "bps = [ld n]\n",
    "# γ = expand_params(gammas,bps,n)\n",
    "# β_opt = opt_betas # [0.463 0.058]\n",
    "labels=\"cases\"\n",
    "colors=:blue\n",
    "ptl1 = \"SIR fit for COVID-19 outbreak in $country\"\n",
    "ptl2 = \" showing trends before and after interventions \"\n",
    "ptl3 = \" annotated with basic reproduction number \"\n",
    "ptl4 = \"data from John Hopkins\"\n",
    "plot_title= ptl1 * \"\\n\" * ptl2 * \"\\n\" * ptl3 * \"\\n\" * ptl4\n",
    "fig = scatter(data,legend=:topleft,color=colors,label=labels,title=plot_title)\n",
    "labels = [ \"infective\" \"recovered\" \"cumulative\"]\n",
    "colors = [:red :green :blue]\n",
    "β=expand_params([betas[1]],[bps[1]],n)\n",
    "γ=expand_params([gammas[1]],[bps[1]],n)\n",
    "r=round(β[1]/γ[1],digits=2)\n",
    "sim = simulate(μ,n,β,γ,N)\n",
    "y = N.*sim[1:bps[1]+3,2:4]\n",
    "plot!(y,color=colors,label=labels,linewidth=2,\n",
    "    annotations = (size(y)[1]-1, y[size(y)[1]-1,3], Plots.text(\"$r\"*\".....\", :right)))\n",
    "for k in 2:length(bps)\n",
    "    β = expand_params([betas[j] for j in 1:k],[bps[j] for j in 1:k],n)\n",
    "    γ = expand_params([gammas[j] for j in 1:k],[bps[j] for j in 1:k],n)\n",
    "    # β[ld[k-1]+1:end]=ldb[k]*ones(n-ld[k-1])\n",
    "    r=round(β[bps[k]]/γ[bps[k]],digits=2)\n",
    "    sim = simulate(μ,n,β,γ,N)\n",
    "    m = min(bps[k]+3,n)\n",
    "    y = N.*sim[1:m,2:4]\n",
    "    plot!(y,color=colors,label=nothing,linewidth=2,\n",
    "       annotations = (bps[k]-1, y[bps[k]-1,3], Plots.text(\"$r\"*\".....\", :right)))\n",
    "end\n",
    "savefig(fig,\"covid_plots/SIRfit$country\")\n",
    "fig"
   ]
  },
  {
   "cell_type": "code",
   "execution_count": null,
   "metadata": {},
   "outputs": [],
   "source": []
  }
 ],
 "metadata": {
  "kernelspec": {
   "display_name": "Julia 1.2.0",
   "language": "julia",
   "name": "julia-1.2"
  },
  "language_info": {
   "file_extension": ".jl",
   "mimetype": "application/julia",
   "name": "julia",
   "version": "1.2.0"
  }
 },
 "nbformat": 4,
 "nbformat_minor": 4
}
