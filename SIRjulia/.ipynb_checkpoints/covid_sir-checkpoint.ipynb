{
 "cells": [
  {
   "cell_type": "code",
   "execution_count": 1,
   "metadata": {},
   "outputs": [],
   "source": [
    "# run these cells to generate clean data \n",
    "# Data from John Hopkins and World Bank\n",
    "# https://github.com/CSSEGISandData/COVID-19\n",
    "using CSV, Plots, DataFrames, Dates, Optim"
   ]
  },
  {
   "cell_type": "code",
   "execution_count": 2,
   "metadata": {},
   "outputs": [
    {
     "data": {
      "text/plain": [
       "(262, 2)"
      ]
     },
     "execution_count": 2,
     "metadata": {},
     "output_type": "execute_result"
    }
   ],
   "source": [
    "wb_pop = CSV.read(\"covid_data/wb_population.csv\")\n",
    "dfp = wb_pop[:,Symbol.([\"Country Name\", \"2018\"])]\n",
    "rename!(dfp,Symbol.([\"country\"; \"population\"]))\n",
    "dfp = dfp[.!(ismissing.(dfp[!,:population])),:]\n",
    "size(dfp)"
   ]
  },
  {
   "cell_type": "code",
   "execution_count": 3,
   "metadata": {},
   "outputs": [
    {
     "name": "stdout",
     "output_type": "stream",
     "text": [
      "0020-01-22......0020-04-08\n"
     ]
    },
    {
     "data": {
      "text/plain": [
       "(181, 81)"
      ]
     },
     "execution_count": 3,
     "metadata": {},
     "output_type": "execute_result"
    }
   ],
   "source": [
    "confirmed_global = CSV.read(\"covid_data/time_series_covid19_confirmed_global.csv\")\n",
    "df = confirmed_global[ismissing.(confirmed_global[!,Symbol(\"Province/State\")]),2:end]\n",
    "first_date = Date(string(names(df)[4]),dateformat\"m/d/y\")\n",
    "last_date = Date(string(names(df)[length(names(df))]),dateformat\"m/d/y\")\n",
    "println(first_date, \"......\", last_date)\n",
    "# rename daily case count columns\n",
    "rename!(df,Symbol.([\"country\"; \"lat\"; \"long\"; [\"D$(i-3)\" for i in 4:size(df)[2]]]))\n",
    "size(df)"
   ]
  },
  {
   "cell_type": "code",
   "execution_count": 4,
   "metadata": {},
   "outputs": [
    {
     "data": {
      "text/plain": [
       "(155, 84)"
      ]
     },
     "execution_count": 4,
     "metadata": {},
     "output_type": "execute_result"
    }
   ],
   "source": [
    "# combine case counts with population data using :country as key\n",
    "dfc = join(df, dfp, kind = :inner, on = intersect(names(df), names(dfp)))\n",
    "dfc = hcat(dfc[:,[:country; :population; :lat; :long]], \n",
    "        DataFrame(first=[first_date for i in 1:size(dfc)[1]],\n",
    "                  last=[last_date for i in 1:size(dfc)[1]]),\n",
    "        dfc[:,Symbol.([\"D$i\" for i in 1:size(dfc)[2]-4])])\n",
    "size(dfc)"
   ]
  },
  {
   "cell_type": "code",
   "execution_count": 5,
   "metadata": {},
   "outputs": [
    {
     "data": {
      "text/plain": [
       "(54, 84)"
      ]
     },
     "execution_count": 5,
     "metadata": {},
     "output_type": "execute_result"
    }
   ],
   "source": [
    "dfc = dfc[dfc[:,size(dfc)[2]].>=1000,:]\n",
    "size(dfc)"
   ]
  },
  {
   "cell_type": "code",
   "execution_count": 6,
   "metadata": {},
   "outputs": [
    {
     "data": {
      "text/plain": [
       "slope (generic function with 1 method)"
      ]
     },
     "execution_count": 6,
     "metadata": {},
     "output_type": "execute_result"
    }
   ],
   "source": [
    "# function to compute slope of best fit to data on integer grid\n",
    "function slope(data)\n",
    "    np = length(data)\n",
    "    x_bar = sum(1:np)/np\n",
    "    y_bar = sum(data)/np\n",
    "    sl = sum( ((1:np) .- x_bar).*(data .- y_bar)) / sum( ((1:np) .- x_bar).^2 )\n",
    "end"
   ]
  },
  {
   "cell_type": "code",
   "execution_count": 7,
   "metadata": {},
   "outputs": [
    {
     "data": {
      "text/plain": [
       "best_ld (generic function with 1 method)"
      ]
     },
     "execution_count": 7,
     "metadata": {},
     "output_type": "execute_result"
    }
   ],
   "source": [
    "# function to get best intervention date by taking difference of before and after\n",
    "# slopes fitted to log of data. data is stripped of leading zero counts before\n",
    "# search for best intervention and then number of stripped zeros are added back\n",
    "function best_ld(data)\n",
    "    striped = data[data[:,1] .!= 0,:]\n",
    "    np = length(striped)\n",
    "    if np < 30\n",
    "        return -1\n",
    "    end\n",
    "    start = floor(Int,np/3)\n",
    "    stop = ceil(Int,2*np/3)\n",
    "    slopes = [ slope(log.(striped[1:k]))-slope(log.(striped[k+1:end])) for k in start:stop] \n",
    "    sp = findmax(slopes)[2]+start-1\n",
    "    size(data)[1] - (length(striped)-sp)\n",
    "end"
   ]
  },
  {
   "cell_type": "code",
   "execution_count": 8,
   "metadata": {},
   "outputs": [
    {
     "data": {
      "text/plain": [
       "36"
      ]
     },
     "execution_count": 8,
     "metadata": {},
     "output_type": "execute_result"
    }
   ],
   "source": [
    "best_ld(Array(dfc[25,7:end]))"
   ]
  },
  {
   "cell_type": "code",
   "execution_count": 9,
   "metadata": {},
   "outputs": [
    {
     "name": "stdout",
     "output_type": "stream",
     "text": [
      "[48, 53, 64, 53, 57, 62, 60, 55, 64, 52, 65, 65, 56, 55, 53, 54, 49, 50, 55, 54, 48, 61, 62, 55, 36, 64, 53, 65, 56, 66, 50, 65, 49, 64, 58, 55, 55, 54, 66, 53, 64, 53, 55, 26, 54, 65, 56, 55, 48, 26, -1, 66, 30, 55]\n"
     ]
    }
   ],
   "source": [
    "# compute best intervention dates for all data\n",
    "blds = [ best_ld(Array(dfc[i,7:end])) for i in 1:size(dfc)[1] ]\n",
    "println(blds)"
   ]
  },
  {
   "cell_type": "code",
   "execution_count": 10,
   "metadata": {},
   "outputs": [
    {
     "data": {
      "text/plain": [
       "54"
      ]
     },
     "execution_count": 10,
     "metadata": {},
     "output_type": "execute_result"
    }
   ],
   "source": [
    "length(blds)"
   ]
  },
  {
   "cell_type": "code",
   "execution_count": 11,
   "metadata": {},
   "outputs": [
    {
     "data": {
      "text/html": [
       "<table class=\"data-frame\"><thead><tr><th></th><th>country</th><th>population</th><th>lat</th><th>long</th><th>first</th><th>last</th><th>intervention</th></tr><tr><th></th><th>String</th><th>Int64⍰</th><th>Float64</th><th>Float64</th><th>Date</th><th>Date</th><th>Int64</th></tr></thead><tbody><p>53 rows × 89 columns (omitted printing of 82 columns)</p><tr><th>1</th><td>Algeria</td><td>42228429</td><td>28.0339</td><td>1.6596</td><td>0020-01-22</td><td>0020-04-08</td><td>48</td></tr><tr><th>2</th><td>Argentina</td><td>44494502</td><td>-38.4161</td><td>-63.6167</td><td>0020-01-22</td><td>0020-04-08</td><td>53</td></tr><tr><th>3</th><td>Austria</td><td>8847037</td><td>47.5162</td><td>14.5501</td><td>0020-01-22</td><td>0020-04-08</td><td>64</td></tr><tr><th>4</th><td>Belarus</td><td>9485386</td><td>53.7098</td><td>27.9534</td><td>0020-01-22</td><td>0020-04-08</td><td>53</td></tr><tr><th>5</th><td>Belgium</td><td>11422068</td><td>50.8333</td><td>4.0</td><td>0020-01-22</td><td>0020-04-08</td><td>57</td></tr><tr><th>6</th><td>Brazil</td><td>209469333</td><td>-14.235</td><td>-51.9253</td><td>0020-01-22</td><td>0020-04-08</td><td>62</td></tr><tr><th>7</th><td>Chile</td><td>18729160</td><td>-35.6751</td><td>-71.543</td><td>0020-01-22</td><td>0020-04-08</td><td>60</td></tr><tr><th>8</th><td>Colombia</td><td>49648685</td><td>4.5709</td><td>-74.2973</td><td>0020-01-22</td><td>0020-04-08</td><td>55</td></tr><tr><th>9</th><td>Croatia</td><td>4089400</td><td>45.1</td><td>15.2</td><td>0020-01-22</td><td>0020-04-08</td><td>64</td></tr><tr><th>10</th><td>Denmark</td><td>5797446</td><td>56.2639</td><td>9.5018</td><td>0020-01-22</td><td>0020-04-08</td><td>52</td></tr><tr><th>11</th><td>Dominican Republic</td><td>10627165</td><td>18.7357</td><td>-70.1627</td><td>0020-01-22</td><td>0020-04-08</td><td>65</td></tr><tr><th>12</th><td>Ecuador</td><td>17084357</td><td>-1.8312</td><td>-78.1834</td><td>0020-01-22</td><td>0020-04-08</td><td>65</td></tr><tr><th>13</th><td>Estonia</td><td>1320884</td><td>58.5953</td><td>25.0136</td><td>0020-01-22</td><td>0020-04-08</td><td>56</td></tr><tr><th>14</th><td>Finland</td><td>5518050</td><td>64.0</td><td>26.0</td><td>0020-01-22</td><td>0020-04-08</td><td>55</td></tr><tr><th>15</th><td>France</td><td>66987244</td><td>46.2276</td><td>2.2137</td><td>0020-01-22</td><td>0020-04-08</td><td>53</td></tr><tr><th>16</th><td>Germany</td><td>82927922</td><td>51.0</td><td>9.0</td><td>0020-01-22</td><td>0020-04-08</td><td>54</td></tr><tr><th>17</th><td>Greece</td><td>10727668</td><td>39.0742</td><td>21.8243</td><td>0020-01-22</td><td>0020-04-08</td><td>49</td></tr><tr><th>18</th><td>Iceland</td><td>353574</td><td>64.9631</td><td>-19.0208</td><td>0020-01-22</td><td>0020-04-08</td><td>50</td></tr><tr><th>19</th><td>India</td><td>1352617328</td><td>21.0</td><td>78.0</td><td>0020-01-22</td><td>0020-04-08</td><td>55</td></tr><tr><th>20</th><td>Indonesia</td><td>267663435</td><td>-0.7893</td><td>113.921</td><td>0020-01-22</td><td>0020-04-08</td><td>54</td></tr><tr><th>21</th><td>Iraq</td><td>38433600</td><td>33.0</td><td>44.0</td><td>0020-01-22</td><td>0020-04-08</td><td>48</td></tr><tr><th>22</th><td>Ireland</td><td>4853506</td><td>53.1424</td><td>-7.6921</td><td>0020-01-22</td><td>0020-04-08</td><td>61</td></tr><tr><th>23</th><td>Israel</td><td>8883800</td><td>31.0</td><td>35.0</td><td>0020-01-22</td><td>0020-04-08</td><td>62</td></tr><tr><th>24</th><td>Italy</td><td>60431283</td><td>43.0</td><td>12.0</td><td>0020-01-22</td><td>0020-04-08</td><td>55</td></tr><tr><th>25</th><td>Japan</td><td>126529100</td><td>36.0</td><td>138.0</td><td>0020-01-22</td><td>0020-04-08</td><td>36</td></tr><tr><th>26</th><td>Luxembourg</td><td>607728</td><td>49.8153</td><td>6.1296</td><td>0020-01-22</td><td>0020-04-08</td><td>64</td></tr><tr><th>27</th><td>Malaysia</td><td>31528585</td><td>2.5</td><td>112.5</td><td>0020-01-22</td><td>0020-04-08</td><td>53</td></tr><tr><th>28</th><td>Mexico</td><td>126190788</td><td>23.6345</td><td>-102.553</td><td>0020-01-22</td><td>0020-04-08</td><td>65</td></tr><tr><th>29</th><td>Moldova</td><td>3545883</td><td>47.4116</td><td>28.3699</td><td>0020-01-22</td><td>0020-04-08</td><td>56</td></tr><tr><th>30</th><td>Morocco</td><td>36029138</td><td>31.7917</td><td>-7.0926</td><td>0020-01-22</td><td>0020-04-08</td><td>66</td></tr><tr><th>&vellip;</th><td>&vellip;</td><td>&vellip;</td><td>&vellip;</td><td>&vellip;</td><td>&vellip;</td><td>&vellip;</td><td>&vellip;</td></tr></tbody></table>"
      ],
      "text/latex": [
       "\\begin{tabular}{r|cccccccc}\n",
       "\t& country & population & lat & long & first & last & intervention & \\\\\n",
       "\t\\hline\n",
       "\t& String & Int64⍰ & Float64 & Float64 & Date & Date & Int64 & \\\\\n",
       "\t\\hline\n",
       "\t1 & Algeria & 42228429 & 28.0339 & 1.6596 & 0020-01-22 & 0020-04-08 & 48 & $\\dots$ \\\\\n",
       "\t2 & Argentina & 44494502 & -38.4161 & -63.6167 & 0020-01-22 & 0020-04-08 & 53 & $\\dots$ \\\\\n",
       "\t3 & Austria & 8847037 & 47.5162 & 14.5501 & 0020-01-22 & 0020-04-08 & 64 & $\\dots$ \\\\\n",
       "\t4 & Belarus & 9485386 & 53.7098 & 27.9534 & 0020-01-22 & 0020-04-08 & 53 & $\\dots$ \\\\\n",
       "\t5 & Belgium & 11422068 & 50.8333 & 4.0 & 0020-01-22 & 0020-04-08 & 57 & $\\dots$ \\\\\n",
       "\t6 & Brazil & 209469333 & -14.235 & -51.9253 & 0020-01-22 & 0020-04-08 & 62 & $\\dots$ \\\\\n",
       "\t7 & Chile & 18729160 & -35.6751 & -71.543 & 0020-01-22 & 0020-04-08 & 60 & $\\dots$ \\\\\n",
       "\t8 & Colombia & 49648685 & 4.5709 & -74.2973 & 0020-01-22 & 0020-04-08 & 55 & $\\dots$ \\\\\n",
       "\t9 & Croatia & 4089400 & 45.1 & 15.2 & 0020-01-22 & 0020-04-08 & 64 & $\\dots$ \\\\\n",
       "\t10 & Denmark & 5797446 & 56.2639 & 9.5018 & 0020-01-22 & 0020-04-08 & 52 & $\\dots$ \\\\\n",
       "\t11 & Dominican Republic & 10627165 & 18.7357 & -70.1627 & 0020-01-22 & 0020-04-08 & 65 & $\\dots$ \\\\\n",
       "\t12 & Ecuador & 17084357 & -1.8312 & -78.1834 & 0020-01-22 & 0020-04-08 & 65 & $\\dots$ \\\\\n",
       "\t13 & Estonia & 1320884 & 58.5953 & 25.0136 & 0020-01-22 & 0020-04-08 & 56 & $\\dots$ \\\\\n",
       "\t14 & Finland & 5518050 & 64.0 & 26.0 & 0020-01-22 & 0020-04-08 & 55 & $\\dots$ \\\\\n",
       "\t15 & France & 66987244 & 46.2276 & 2.2137 & 0020-01-22 & 0020-04-08 & 53 & $\\dots$ \\\\\n",
       "\t16 & Germany & 82927922 & 51.0 & 9.0 & 0020-01-22 & 0020-04-08 & 54 & $\\dots$ \\\\\n",
       "\t17 & Greece & 10727668 & 39.0742 & 21.8243 & 0020-01-22 & 0020-04-08 & 49 & $\\dots$ \\\\\n",
       "\t18 & Iceland & 353574 & 64.9631 & -19.0208 & 0020-01-22 & 0020-04-08 & 50 & $\\dots$ \\\\\n",
       "\t19 & India & 1352617328 & 21.0 & 78.0 & 0020-01-22 & 0020-04-08 & 55 & $\\dots$ \\\\\n",
       "\t20 & Indonesia & 267663435 & -0.7893 & 113.921 & 0020-01-22 & 0020-04-08 & 54 & $\\dots$ \\\\\n",
       "\t21 & Iraq & 38433600 & 33.0 & 44.0 & 0020-01-22 & 0020-04-08 & 48 & $\\dots$ \\\\\n",
       "\t22 & Ireland & 4853506 & 53.1424 & -7.6921 & 0020-01-22 & 0020-04-08 & 61 & $\\dots$ \\\\\n",
       "\t23 & Israel & 8883800 & 31.0 & 35.0 & 0020-01-22 & 0020-04-08 & 62 & $\\dots$ \\\\\n",
       "\t24 & Italy & 60431283 & 43.0 & 12.0 & 0020-01-22 & 0020-04-08 & 55 & $\\dots$ \\\\\n",
       "\t25 & Japan & 126529100 & 36.0 & 138.0 & 0020-01-22 & 0020-04-08 & 36 & $\\dots$ \\\\\n",
       "\t26 & Luxembourg & 607728 & 49.8153 & 6.1296 & 0020-01-22 & 0020-04-08 & 64 & $\\dots$ \\\\\n",
       "\t27 & Malaysia & 31528585 & 2.5 & 112.5 & 0020-01-22 & 0020-04-08 & 53 & $\\dots$ \\\\\n",
       "\t28 & Mexico & 126190788 & 23.6345 & -102.553 & 0020-01-22 & 0020-04-08 & 65 & $\\dots$ \\\\\n",
       "\t29 & Moldova & 3545883 & 47.4116 & 28.3699 & 0020-01-22 & 0020-04-08 & 56 & $\\dots$ \\\\\n",
       "\t30 & Morocco & 36029138 & 31.7917 & -7.0926 & 0020-01-22 & 0020-04-08 & 66 & $\\dots$ \\\\\n",
       "\t$\\dots$ & $\\dots$ & $\\dots$ & $\\dots$ & $\\dots$ & $\\dots$ & $\\dots$ & $\\dots$ &  \\\\\n",
       "\\end{tabular}\n"
      ],
      "text/plain": [
       "53×89 DataFrame. Omitted printing of 84 columns\n",
       "│ Row │ country              │ population │ lat      │ long     │ first      │\n",
       "│     │ \u001b[90mString\u001b[39m               │ \u001b[90mInt64⍰\u001b[39m     │ \u001b[90mFloat64\u001b[39m  │ \u001b[90mFloat64\u001b[39m  │ \u001b[90mDate\u001b[39m       │\n",
       "├─────┼──────────────────────┼────────────┼──────────┼──────────┼────────────┤\n",
       "│ 1   │ Algeria              │ 42228429   │ 28.0339  │ 1.6596   │ 0020-01-22 │\n",
       "│ 2   │ Argentina            │ 44494502   │ -38.4161 │ -63.6167 │ 0020-01-22 │\n",
       "│ 3   │ Austria              │ 8847037    │ 47.5162  │ 14.5501  │ 0020-01-22 │\n",
       "│ 4   │ Belarus              │ 9485386    │ 53.7098  │ 27.9534  │ 0020-01-22 │\n",
       "│ 5   │ Belgium              │ 11422068   │ 50.8333  │ 4.0      │ 0020-01-22 │\n",
       "│ 6   │ Brazil               │ 209469333  │ -14.235  │ -51.9253 │ 0020-01-22 │\n",
       "│ 7   │ Chile                │ 18729160   │ -35.6751 │ -71.543  │ 0020-01-22 │\n",
       "│ 8   │ Colombia             │ 49648685   │ 4.5709   │ -74.2973 │ 0020-01-22 │\n",
       "│ 9   │ Croatia              │ 4089400    │ 45.1     │ 15.2     │ 0020-01-22 │\n",
       "│ 10  │ Denmark              │ 5797446    │ 56.2639  │ 9.5018   │ 0020-01-22 │\n",
       "⋮\n",
       "│ 43  │ Serbia               │ 6982084    │ 44.0165  │ 21.0059  │ 0020-01-22 │\n",
       "│ 44  │ Singapore            │ 5638676    │ 1.2833   │ 103.833  │ 0020-01-22 │\n",
       "│ 45  │ Slovenia             │ 2067372    │ 46.1512  │ 14.9955  │ 0020-01-22 │\n",
       "│ 46  │ South Africa         │ 57779622   │ -30.5595 │ 22.9375  │ 0020-01-22 │\n",
       "│ 47  │ Spain                │ 46723749   │ 40.0     │ -4.0     │ 0020-01-22 │\n",
       "│ 48  │ Sweden               │ 10183175   │ 63.0     │ 16.0     │ 0020-01-22 │\n",
       "│ 49  │ Switzerland          │ 8516543    │ 46.8182  │ 8.2275   │ 0020-01-22 │\n",
       "│ 50  │ Thailand             │ 69428524   │ 15.0     │ 101.0    │ 0020-01-22 │\n",
       "│ 51  │ Ukraine              │ 44622516   │ 48.3794  │ 31.1656  │ 0020-01-22 │\n",
       "│ 52  │ United Arab Emirates │ 9630959    │ 24.0     │ 54.0     │ 0020-01-22 │\n",
       "│ 53  │ United Kingdom       │ 66488991   │ 55.3781  │ -3.436   │ 0020-01-22 │"
      ]
     },
     "execution_count": 11,
     "metadata": {},
     "output_type": "execute_result"
    }
   ],
   "source": [
    "# make new dataframe by adding columns for best intervention default\n",
    "# betas (before and after intervention).\n",
    "dfca = hcat(dfc[:,[:country; :population; :lat; :long; :first; :last]], \n",
    "        DataFrame(intervention=blds),\n",
    "        DataFrame(beta_before=[ 0.5 for i in 1:length(blds) ]),\n",
    "        DataFrame(beta_after=[ 0.05 for i in 1:length(blds) ]),\n",
    "        DataFrame(gamma_before=[ 0.1 for i in 1:length(blds) ]),\n",
    "        DataFrame(gamma_after=[ 0.1 for i in 1:length(blds) ]),\n",
    "        dfc[:,Symbol.([\"D$i\" for i in 1:size(dfc)[2]-6])])\n",
    "dfca = dfca[dfca[:,:intervention].>0,:]"
   ]
  },
  {
   "cell_type": "code",
   "execution_count": 12,
   "metadata": {},
   "outputs": [
    {
     "data": {
      "text/plain": [
       "89-element Array{Symbol,1}:\n",
       " :country     \n",
       " :population  \n",
       " :lat         \n",
       " :long        \n",
       " :first       \n",
       " :last        \n",
       " :intervention\n",
       " :beta_before \n",
       " :beta_after  \n",
       " :gamma_before\n",
       " :gamma_after \n",
       " :D1          \n",
       " :D2          \n",
       " ⋮            \n",
       " :D67         \n",
       " :D68         \n",
       " :D69         \n",
       " :D70         \n",
       " :D71         \n",
       " :D72         \n",
       " :D73         \n",
       " :D74         \n",
       " :D75         \n",
       " :D76         \n",
       " :D77         \n",
       " :D78         "
      ]
     },
     "execution_count": 12,
     "metadata": {},
     "output_type": "execute_result"
    }
   ],
   "source": [
    "names(dfca)"
   ]
  },
  {
   "cell_type": "code",
   "execution_count": 13,
   "metadata": {},
   "outputs": [
    {
     "data": {
      "text/plain": [
       "\"../SIRjs/data_jhp_clean.csv\""
      ]
     },
     "execution_count": 13,
     "metadata": {},
     "output_type": "execute_result"
    }
   ],
   "source": [
    "# rename!(df, Dict(:0 => :country))\n",
    "CSV.write(\"../SIRjs/data_jhp_clean.csv\",dfca)"
   ]
  },
  {
   "cell_type": "code",
   "execution_count": 14,
   "metadata": {},
   "outputs": [
    {
     "data": {
      "text/plain": [
       "\"South Africa\""
      ]
     },
     "execution_count": 14,
     "metadata": {},
     "output_type": "execute_result"
    }
   ],
   "source": [
    "all = CSV.read(\"../SIRjs/data_jhp_clean.csv\")\n",
    "country = \"South Africa\""
   ]
  },
  {
   "cell_type": "code",
   "execution_count": 15,
   "metadata": {},
   "outputs": [
    {
     "data": {
      "text/plain": [
       "57779622"
      ]
     },
     "execution_count": 15,
     "metadata": {},
     "output_type": "execute_result"
    }
   ],
   "source": [
    "N = all[(all[!,Symbol(\"country\")].==country),:population][1]"
   ]
  },
  {
   "cell_type": "code",
   "execution_count": 16,
   "metadata": {},
   "outputs": [
    {
     "data": {
      "text/plain": [
       "65"
      ]
     },
     "execution_count": 16,
     "metadata": {},
     "output_type": "execute_result"
    }
   ],
   "source": [
    "lock_down = all[(all[!,Symbol(\"country\")].==country),:intervention][1]"
   ]
  },
  {
   "cell_type": "code",
   "execution_count": 17,
   "metadata": {},
   "outputs": [
    {
     "name": "stdout",
     "output_type": "stream",
     "text": [
      "65\n"
     ]
    },
    {
     "data": {
      "image/svg+xml": [
       "<?xml version=\"1.0\" encoding=\"utf-8\"?>\n",
       "<svg xmlns=\"http://www.w3.org/2000/svg\" xmlns:xlink=\"http://www.w3.org/1999/xlink\" width=\"600\" height=\"400\" viewBox=\"0 0 2400 1600\">\n",
       "<defs>\n",
       "  <clipPath id=\"clip4700\">\n",
       "    <rect x=\"0\" y=\"0\" width=\"2400\" height=\"1600\"/>\n",
       "  </clipPath>\n",
       "</defs>\n",
       "<path clip-path=\"url(#clip4700)\" d=\"\n",
       "M0 1600 L2400 1600 L2400 0 L0 0  Z\n",
       "  \" fill=\"#ffffff\" fill-rule=\"evenodd\" fill-opacity=\"1\"/>\n",
       "<defs>\n",
       "  <clipPath id=\"clip4701\">\n",
       "    <rect x=\"480\" y=\"0\" width=\"1681\" height=\"1600\"/>\n",
       "  </clipPath>\n",
       "</defs>\n",
       "<path clip-path=\"url(#clip4700)\" d=\"\n",
       "M194.041 1487.47 L2352.76 1487.47 L2352.76 121.675 L194.041 121.675  Z\n",
       "  \" fill=\"#ffffff\" fill-rule=\"evenodd\" fill-opacity=\"1\"/>\n",
       "<defs>\n",
       "  <clipPath id=\"clip4702\">\n",
       "    <rect x=\"194\" y=\"121\" width=\"2160\" height=\"1367\"/>\n",
       "  </clipPath>\n",
       "</defs>\n",
       "<polyline clip-path=\"url(#clip4702)\" style=\"stroke:#000000; stroke-width:2; stroke-opacity:0.1; fill:none\" points=\"\n",
       "  195.239,1487.47 195.239,121.675 \n",
       "  \"/>\n",
       "<polyline clip-path=\"url(#clip4702)\" style=\"stroke:#000000; stroke-width:2; stroke-opacity:0.1; fill:none\" points=\"\n",
       "  794.217,1487.47 794.217,121.675 \n",
       "  \"/>\n",
       "<polyline clip-path=\"url(#clip4702)\" style=\"stroke:#000000; stroke-width:2; stroke-opacity:0.1; fill:none\" points=\"\n",
       "  1393.19,1487.47 1393.19,121.675 \n",
       "  \"/>\n",
       "<polyline clip-path=\"url(#clip4702)\" style=\"stroke:#000000; stroke-width:2; stroke-opacity:0.1; fill:none\" points=\"\n",
       "  1992.17,1487.47 1992.17,121.675 \n",
       "  \"/>\n",
       "<polyline clip-path=\"url(#clip4702)\" style=\"stroke:#000000; stroke-width:2; stroke-opacity:0.1; fill:none\" points=\"\n",
       "  194.041,1449.52 2352.76,1449.52 \n",
       "  \"/>\n",
       "<polyline clip-path=\"url(#clip4702)\" style=\"stroke:#000000; stroke-width:2; stroke-opacity:0.1; fill:none\" points=\"\n",
       "  194.041,1100.15 2352.76,1100.15 \n",
       "  \"/>\n",
       "<polyline clip-path=\"url(#clip4702)\" style=\"stroke:#000000; stroke-width:2; stroke-opacity:0.1; fill:none\" points=\"\n",
       "  194.041,750.771 2352.76,750.771 \n",
       "  \"/>\n",
       "<polyline clip-path=\"url(#clip4702)\" style=\"stroke:#000000; stroke-width:2; stroke-opacity:0.1; fill:none\" points=\"\n",
       "  194.041,401.398 2352.76,401.398 \n",
       "  \"/>\n",
       "<polyline clip-path=\"url(#clip4700)\" style=\"stroke:#000000; stroke-width:4; stroke-opacity:1; fill:none\" points=\"\n",
       "  194.041,1487.47 2352.76,1487.47 \n",
       "  \"/>\n",
       "<polyline clip-path=\"url(#clip4700)\" style=\"stroke:#000000; stroke-width:4; stroke-opacity:1; fill:none\" points=\"\n",
       "  194.041,1487.47 194.041,121.675 \n",
       "  \"/>\n",
       "<polyline clip-path=\"url(#clip4700)\" style=\"stroke:#000000; stroke-width:4; stroke-opacity:1; fill:none\" points=\"\n",
       "  195.239,1487.47 195.239,1471.09 \n",
       "  \"/>\n",
       "<polyline clip-path=\"url(#clip4700)\" style=\"stroke:#000000; stroke-width:4; stroke-opacity:1; fill:none\" points=\"\n",
       "  794.217,1487.47 794.217,1471.09 \n",
       "  \"/>\n",
       "<polyline clip-path=\"url(#clip4700)\" style=\"stroke:#000000; stroke-width:4; stroke-opacity:1; fill:none\" points=\"\n",
       "  1393.19,1487.47 1393.19,1471.09 \n",
       "  \"/>\n",
       "<polyline clip-path=\"url(#clip4700)\" style=\"stroke:#000000; stroke-width:4; stroke-opacity:1; fill:none\" points=\"\n",
       "  1992.17,1487.47 1992.17,1471.09 \n",
       "  \"/>\n",
       "<polyline clip-path=\"url(#clip4700)\" style=\"stroke:#000000; stroke-width:4; stroke-opacity:1; fill:none\" points=\"\n",
       "  194.041,1449.52 219.946,1449.52 \n",
       "  \"/>\n",
       "<polyline clip-path=\"url(#clip4700)\" style=\"stroke:#000000; stroke-width:4; stroke-opacity:1; fill:none\" points=\"\n",
       "  194.041,1100.15 219.946,1100.15 \n",
       "  \"/>\n",
       "<polyline clip-path=\"url(#clip4700)\" style=\"stroke:#000000; stroke-width:4; stroke-opacity:1; fill:none\" points=\"\n",
       "  194.041,750.771 219.946,750.771 \n",
       "  \"/>\n",
       "<polyline clip-path=\"url(#clip4700)\" style=\"stroke:#000000; stroke-width:4; stroke-opacity:1; fill:none\" points=\"\n",
       "  194.041,401.398 219.946,401.398 \n",
       "  \"/>\n",
       "<g clip-path=\"url(#clip4700)\">\n",
       "<text style=\"fill:#000000; fill-opacity:1; font-family:Arial,Helvetica Neue,Helvetica,sans-serif; font-size:48px; text-anchor:middle;\" transform=\"rotate(0, 195.239, 1541.47)\" x=\"195.239\" y=\"1541.47\">0</text>\n",
       "</g>\n",
       "<g clip-path=\"url(#clip4700)\">\n",
       "<text style=\"fill:#000000; fill-opacity:1; font-family:Arial,Helvetica Neue,Helvetica,sans-serif; font-size:48px; text-anchor:middle;\" transform=\"rotate(0, 794.217, 1541.47)\" x=\"794.217\" y=\"1541.47\">10</text>\n",
       "</g>\n",
       "<g clip-path=\"url(#clip4700)\">\n",
       "<text style=\"fill:#000000; fill-opacity:1; font-family:Arial,Helvetica Neue,Helvetica,sans-serif; font-size:48px; text-anchor:middle;\" transform=\"rotate(0, 1393.19, 1541.47)\" x=\"1393.19\" y=\"1541.47\">20</text>\n",
       "</g>\n",
       "<g clip-path=\"url(#clip4700)\">\n",
       "<text style=\"fill:#000000; fill-opacity:1; font-family:Arial,Helvetica Neue,Helvetica,sans-serif; font-size:48px; text-anchor:middle;\" transform=\"rotate(0, 1992.17, 1541.47)\" x=\"1992.17\" y=\"1541.47\">30</text>\n",
       "</g>\n",
       "<g clip-path=\"url(#clip4700)\">\n",
       "<text style=\"fill:#000000; fill-opacity:1; font-family:Arial,Helvetica Neue,Helvetica,sans-serif; font-size:48px; text-anchor:end;\" transform=\"rotate(0, 170.041, 1467.02)\" x=\"170.041\" y=\"1467.02\">0</text>\n",
       "</g>\n",
       "<g clip-path=\"url(#clip4700)\">\n",
       "<text style=\"fill:#000000; fill-opacity:1; font-family:Arial,Helvetica Neue,Helvetica,sans-serif; font-size:48px; text-anchor:end;\" transform=\"rotate(0, 170.041, 1117.65)\" x=\"170.041\" y=\"1117.65\">500</text>\n",
       "</g>\n",
       "<g clip-path=\"url(#clip4700)\">\n",
       "<text style=\"fill:#000000; fill-opacity:1; font-family:Arial,Helvetica Neue,Helvetica,sans-serif; font-size:48px; text-anchor:end;\" transform=\"rotate(0, 170.041, 768.271)\" x=\"170.041\" y=\"768.271\">1000</text>\n",
       "</g>\n",
       "<g clip-path=\"url(#clip4700)\">\n",
       "<text style=\"fill:#000000; fill-opacity:1; font-family:Arial,Helvetica Neue,Helvetica,sans-serif; font-size:48px; text-anchor:end;\" transform=\"rotate(0, 170.041, 418.898)\" x=\"170.041\" y=\"418.898\">1500</text>\n",
       "</g>\n",
       "<g clip-path=\"url(#clip4700)\">\n",
       "<text style=\"fill:#000000; fill-opacity:1; font-family:Arial,Helvetica Neue,Helvetica,sans-serif; font-size:84px; text-anchor:middle;\" transform=\"rotate(0, 1273.4, 73.2)\" x=\"1273.4\" y=\"73.2\">South Africa, population = 57779622</text>\n",
       "</g>\n",
       "<circle clip-path=\"url(#clip4702)\" cx=\"255.137\" cy=\"1448.82\" r=\"14\" fill=\"#e26f46\" fill-rule=\"evenodd\" fill-opacity=\"1\" stroke=\"#000000\" stroke-opacity=\"1\" stroke-width=\"3.2\"/>\n",
       "<circle clip-path=\"url(#clip4702)\" cx=\"315.035\" cy=\"1448.82\" r=\"14\" fill=\"#e26f46\" fill-rule=\"evenodd\" fill-opacity=\"1\" stroke=\"#000000\" stroke-opacity=\"1\" stroke-width=\"3.2\"/>\n",
       "<circle clip-path=\"url(#clip4702)\" cx=\"374.933\" cy=\"1448.82\" r=\"14\" fill=\"#e26f46\" fill-rule=\"evenodd\" fill-opacity=\"1\" stroke=\"#000000\" stroke-opacity=\"1\" stroke-width=\"3.2\"/>\n",
       "<circle clip-path=\"url(#clip4702)\" cx=\"434.83\" cy=\"1447.42\" r=\"14\" fill=\"#e26f46\" fill-rule=\"evenodd\" fill-opacity=\"1\" stroke=\"#000000\" stroke-opacity=\"1\" stroke-width=\"3.2\"/>\n",
       "<circle clip-path=\"url(#clip4702)\" cx=\"494.728\" cy=\"1447.42\" r=\"14\" fill=\"#e26f46\" fill-rule=\"evenodd\" fill-opacity=\"1\" stroke=\"#000000\" stroke-opacity=\"1\" stroke-width=\"3.2\"/>\n",
       "<circle clip-path=\"url(#clip4702)\" cx=\"554.626\" cy=\"1444.63\" r=\"14\" fill=\"#e26f46\" fill-rule=\"evenodd\" fill-opacity=\"1\" stroke=\"#000000\" stroke-opacity=\"1\" stroke-width=\"3.2\"/>\n",
       "<circle clip-path=\"url(#clip4702)\" cx=\"614.524\" cy=\"1440.44\" r=\"14\" fill=\"#e26f46\" fill-rule=\"evenodd\" fill-opacity=\"1\" stroke=\"#000000\" stroke-opacity=\"1\" stroke-width=\"3.2\"/>\n",
       "<circle clip-path=\"url(#clip4702)\" cx=\"674.421\" cy=\"1437.64\" r=\"14\" fill=\"#e26f46\" fill-rule=\"evenodd\" fill-opacity=\"1\" stroke=\"#000000\" stroke-opacity=\"1\" stroke-width=\"3.2\"/>\n",
       "<circle clip-path=\"url(#clip4702)\" cx=\"734.319\" cy=\"1432.75\" r=\"14\" fill=\"#e26f46\" fill-rule=\"evenodd\" fill-opacity=\"1\" stroke=\"#000000\" stroke-opacity=\"1\" stroke-width=\"3.2\"/>\n",
       "<circle clip-path=\"url(#clip4702)\" cx=\"794.217\" cy=\"1422.97\" r=\"14\" fill=\"#e26f46\" fill-rule=\"evenodd\" fill-opacity=\"1\" stroke=\"#000000\" stroke-opacity=\"1\" stroke-width=\"3.2\"/>\n",
       "<circle clip-path=\"url(#clip4702)\" cx=\"854.115\" cy=\"1413.88\" r=\"14\" fill=\"#e26f46\" fill-rule=\"evenodd\" fill-opacity=\"1\" stroke=\"#000000\" stroke-opacity=\"1\" stroke-width=\"3.2\"/>\n",
       "<circle clip-path=\"url(#clip4702)\" cx=\"914.012\" cy=\"1406.2\" r=\"14\" fill=\"#e26f46\" fill-rule=\"evenodd\" fill-opacity=\"1\" stroke=\"#000000\" stroke-opacity=\"1\" stroke-width=\"3.2\"/>\n",
       "<circle clip-path=\"url(#clip4702)\" cx=\"973.91\" cy=\"1406.2\" r=\"14\" fill=\"#e26f46\" fill-rule=\"evenodd\" fill-opacity=\"1\" stroke=\"#000000\" stroke-opacity=\"1\" stroke-width=\"3.2\"/>\n",
       "<circle clip-path=\"url(#clip4702)\" cx=\"1033.81\" cy=\"1368.46\" r=\"14\" fill=\"#e26f46\" fill-rule=\"evenodd\" fill-opacity=\"1\" stroke=\"#000000\" stroke-opacity=\"1\" stroke-width=\"3.2\"/>\n",
       "<circle clip-path=\"url(#clip4702)\" cx=\"1093.71\" cy=\"1344.71\" r=\"14\" fill=\"#e26f46\" fill-rule=\"evenodd\" fill-opacity=\"1\" stroke=\"#000000\" stroke-opacity=\"1\" stroke-width=\"3.2\"/>\n",
       "<circle clip-path=\"url(#clip4702)\" cx=\"1153.6\" cy=\"1308.37\" r=\"14\" fill=\"#e26f46\" fill-rule=\"evenodd\" fill-opacity=\"1\" stroke=\"#000000\" stroke-opacity=\"1\" stroke-width=\"3.2\"/>\n",
       "<circle clip-path=\"url(#clip4702)\" cx=\"1213.5\" cy=\"1281.82\" r=\"14\" fill=\"#e26f46\" fill-rule=\"evenodd\" fill-opacity=\"1\" stroke=\"#000000\" stroke-opacity=\"1\" stroke-width=\"3.2\"/>\n",
       "<circle clip-path=\"url(#clip4702)\" cx=\"1273.4\" cy=\"1258.06\" r=\"14\" fill=\"#e26f46\" fill-rule=\"evenodd\" fill-opacity=\"1\" stroke=\"#000000\" stroke-opacity=\"1\" stroke-width=\"3.2\"/>\n",
       "<circle clip-path=\"url(#clip4702)\" cx=\"1333.3\" cy=\"1168.62\" r=\"14\" fill=\"#e26f46\" fill-rule=\"evenodd\" fill-opacity=\"1\" stroke=\"#000000\" stroke-opacity=\"1\" stroke-width=\"3.2\"/>\n",
       "<circle clip-path=\"url(#clip4702)\" cx=\"1393.19\" cy=\"1062.41\" r=\"14\" fill=\"#e26f46\" fill-rule=\"evenodd\" fill-opacity=\"1\" stroke=\"#000000\" stroke-opacity=\"1\" stroke-width=\"3.2\"/>\n",
       "<circle clip-path=\"url(#clip4702)\" cx=\"1453.09\" cy=\"954.107\" r=\"14\" fill=\"#e26f46\" fill-rule=\"evenodd\" fill-opacity=\"1\" stroke=\"#000000\" stroke-opacity=\"1\" stroke-width=\"3.2\"/>\n",
       "<circle clip-path=\"url(#clip4702)\" cx=\"1512.99\" cy=\"801.78\" r=\"14\" fill=\"#e26f46\" fill-rule=\"evenodd\" fill-opacity=\"1\" stroke=\"#000000\" stroke-opacity=\"1\" stroke-width=\"3.2\"/>\n",
       "<circle clip-path=\"url(#clip4702)\" cx=\"1572.89\" cy=\"631.984\" r=\"14\" fill=\"#e26f46\" fill-rule=\"evenodd\" fill-opacity=\"1\" stroke=\"#000000\" stroke-opacity=\"1\" stroke-width=\"3.2\"/>\n",
       "<circle clip-path=\"url(#clip4702)\" cx=\"1632.79\" cy=\"620.106\" r=\"14\" fill=\"#e26f46\" fill-rule=\"evenodd\" fill-opacity=\"1\" stroke=\"#000000\" stroke-opacity=\"1\" stroke-width=\"3.2\"/>\n",
       "<circle clip-path=\"url(#clip4702)\" cx=\"1692.68\" cy=\"555.122\" r=\"14\" fill=\"#e26f46\" fill-rule=\"evenodd\" fill-opacity=\"1\" stroke=\"#000000\" stroke-opacity=\"1\" stroke-width=\"3.2\"/>\n",
       "<circle clip-path=\"url(#clip4702)\" cx=\"1752.58\" cy=\"522.98\" r=\"14\" fill=\"#e26f46\" fill-rule=\"evenodd\" fill-opacity=\"1\" stroke=\"#000000\" stroke-opacity=\"1\" stroke-width=\"3.2\"/>\n",
       "<circle clip-path=\"url(#clip4702)\" cx=\"1812.48\" cy=\"504.114\" r=\"14\" fill=\"#e26f46\" fill-rule=\"evenodd\" fill-opacity=\"1\" stroke=\"#000000\" stroke-opacity=\"1\" stroke-width=\"3.2\"/>\n",
       "<circle clip-path=\"url(#clip4702)\" cx=\"1872.38\" cy=\"485.247\" r=\"14\" fill=\"#e26f46\" fill-rule=\"evenodd\" fill-opacity=\"1\" stroke=\"#000000\" stroke-opacity=\"1\" stroke-width=\"3.2\"/>\n",
       "<circle clip-path=\"url(#clip4702)\" cx=\"1932.27\" cy=\"427.95\" r=\"14\" fill=\"#e26f46\" fill-rule=\"evenodd\" fill-opacity=\"1\" stroke=\"#000000\" stroke-opacity=\"1\" stroke-width=\"3.2\"/>\n",
       "<circle clip-path=\"url(#clip4702)\" cx=\"1992.17\" cy=\"397.904\" r=\"14\" fill=\"#e26f46\" fill-rule=\"evenodd\" fill-opacity=\"1\" stroke=\"#000000\" stroke-opacity=\"1\" stroke-width=\"3.2\"/>\n",
       "<circle clip-path=\"url(#clip4702)\" cx=\"2052.07\" cy=\"342.004\" r=\"14\" fill=\"#e26f46\" fill-rule=\"evenodd\" fill-opacity=\"1\" stroke=\"#000000\" stroke-opacity=\"1\" stroke-width=\"3.2\"/>\n",
       "<circle clip-path=\"url(#clip4702)\" cx=\"2111.97\" cy=\"293.092\" r=\"14\" fill=\"#e26f46\" fill-rule=\"evenodd\" fill-opacity=\"1\" stroke=\"#000000\" stroke-opacity=\"1\" stroke-width=\"3.2\"/>\n",
       "<circle clip-path=\"url(#clip4702)\" cx=\"2171.86\" cy=\"271.431\" r=\"14\" fill=\"#e26f46\" fill-rule=\"evenodd\" fill-opacity=\"1\" stroke=\"#000000\" stroke-opacity=\"1\" stroke-width=\"3.2\"/>\n",
       "<circle clip-path=\"url(#clip4702)\" cx=\"2231.76\" cy=\"227.41\" r=\"14\" fill=\"#e26f46\" fill-rule=\"evenodd\" fill-opacity=\"1\" stroke=\"#000000\" stroke-opacity=\"1\" stroke-width=\"3.2\"/>\n",
       "<circle clip-path=\"url(#clip4702)\" cx=\"2291.66\" cy=\"160.33\" r=\"14\" fill=\"#e26f46\" fill-rule=\"evenodd\" fill-opacity=\"1\" stroke=\"#000000\" stroke-opacity=\"1\" stroke-width=\"3.2\"/>\n",
       "<circle clip-path=\"url(#clip4702)\" cx=\"1572.89\" cy=\"631.984\" r=\"14\" fill=\"#3da44d\" fill-rule=\"evenodd\" fill-opacity=\"1\" stroke=\"#000000\" stroke-opacity=\"1\" stroke-width=\"3.2\"/>\n",
       "<path clip-path=\"url(#clip4700)\" d=\"\n",
       "M266.041 386.635 L706.663 386.635 L706.663 205.195 L266.041 205.195  Z\n",
       "  \" fill=\"#ffffff\" fill-rule=\"evenodd\" fill-opacity=\"1\"/>\n",
       "<polyline clip-path=\"url(#clip4700)\" style=\"stroke:#000000; stroke-width:4; stroke-opacity:1; fill:none\" points=\"\n",
       "  266.041,386.635 706.663,386.635 706.663,205.195 266.041,205.195 266.041,386.635 \n",
       "  \"/>\n",
       "<circle clip-path=\"url(#clip4700)\" cx=\"374.041\" cy=\"265.675\" r=\"21\" fill=\"#e26f46\" fill-rule=\"evenodd\" fill-opacity=\"1\" stroke=\"#000000\" stroke-opacity=\"1\" stroke-width=\"3.2\"/>\n",
       "<g clip-path=\"url(#clip4700)\">\n",
       "<text style=\"fill:#000000; fill-opacity:1; font-family:Arial,Helvetica Neue,Helvetica,sans-serif; font-size:48px; text-anchor:start;\" transform=\"rotate(0, 458.041, 283.175)\" x=\"458.041\" y=\"283.175\">cases</text>\n",
       "</g>\n",
       "<circle clip-path=\"url(#clip4700)\" cx=\"374.041\" cy=\"326.155\" r=\"21\" fill=\"#3da44d\" fill-rule=\"evenodd\" fill-opacity=\"1\" stroke=\"#000000\" stroke-opacity=\"1\" stroke-width=\"3.2\"/>\n",
       "<g clip-path=\"url(#clip4700)\">\n",
       "<text style=\"fill:#000000; fill-opacity:1; font-family:Arial,Helvetica Neue,Helvetica,sans-serif; font-size:48px; text-anchor:start;\" transform=\"rotate(0, 458.041, 343.655)\" x=\"458.041\" y=\"343.655\">lockdown</text>\n",
       "</g>\n",
       "</svg>\n"
      ]
     },
     "execution_count": 17,
     "metadata": {},
     "output_type": "execute_result"
    }
   ],
   "source": [
    "# load clean data and get cases for one country\n",
    "all = CSV.read(\"../SIRjs/data_jhp_clean.csv\")\n",
    "country = \"South Africa\"\n",
    "N = all[(all[!,Symbol(\"country\")].==country),:population][1]\n",
    "ld = all[(all[!,Symbol(\"country\")].==country),:intervention][1]\n",
    "println(ld)\n",
    "data = convert(Array,\n",
    "    all[(all[!,Symbol(\"country\")].==country),\n",
    "        12:size(all)[2]])[1,:]\n",
    "save_data = data\n",
    "data = data[data[:,1] .!= 0,:]\n",
    "ld = ld - (length(save_data)-length(data)) + 1\n",
    "data_labels=\"cases\"\n",
    "data_colors=2\n",
    "plot_title=\"$country, population = $N\"\n",
    "scatter(data, legend=:topleft, label=data_labels,\n",
    "            color=data_colors,title=plot_title)\n",
    "scatter!([ld],[data[ld]],color=3,label=\"lockdown\")"
   ]
  },
  {
   "cell_type": "code",
   "execution_count": 18,
   "metadata": {},
   "outputs": [
    {
     "data": {
      "text/plain": [
       "simulate (generic function with 1 method)"
      ]
     },
     "execution_count": 18,
     "metadata": {},
     "output_type": "execute_result"
    }
   ],
   "source": [
    "function simulate(μ,n,β,γ,N)\n",
    "    sim = reshape(ones(n*4),(n,4))\n",
    "    sim[1,:]= μ   # [(N-1)/N, 1/N, 0, 1/N]\n",
    "    for k in 2:n\n",
    "        s, i, r, c = sim[k-1,:]\n",
    "        ns = s - β[k-1]*s*i\n",
    "        ni = i + β[k-1]*s*i - γ[k-1]*i\n",
    "        nr = r + γ[k-1]*i\n",
    "        nc = c + β[k-1]*s*i\n",
    "        sim[k,:] = [ns, ni, nr, nc]\n",
    "    end\n",
    "    sim\n",
    "end"
   ]
  },
  {
   "cell_type": "code",
   "execution_count": 19,
   "metadata": {},
   "outputs": [
    {
     "data": {
      "text/plain": [
       "expand_params (generic function with 1 method)"
      ]
     },
     "execution_count": 19,
     "metadata": {},
     "output_type": "execute_result"
    }
   ],
   "source": [
    "function expand_params(params,bps,n)\n",
    "    p = params[end] * ones(n)\n",
    "    for k in (length(bps)-1):-1:1\n",
    "        p[1:bps[k]-1]=params[k]*ones(bps[k]-1)\n",
    "    end\n",
    "    p\n",
    "end"
   ]
  },
  {
   "cell_type": "code",
   "execution_count": 23,
   "metadata": {},
   "outputs": [
    {
     "name": "stdout",
     "output_type": "stream",
     "text": [
      "Algeria -> 15 -> 0.33 -> 0.27 -> 0.05 -> 0.15\n",
      "Argentina -> 13 -> 0.52 -> 0.24 -> 0.05 -> 0.15\n",
      "Austria -> 31 -> 0.48 -> 0.09 -> 0.15 -> 0.13\n",
      "Belarus -> 17 -> 0.25 -> 0.29 -> 0.15 -> 0.05\n",
      "Belgium -> 45 -> 0.24 -> 0.23 -> 0.05 -> 0.15\n",
      "Brazil -> 28 -> 0.46 -> 0.25 -> 0.15 -> 0.13\n",
      "Chile -> 20 -> 0.46 -> 0.22 -> 0.05 -> 0.15\n",
      "Colombia -> 12 -> 0.58 -> 0.25 -> 0.05 -> 0.15\n",
      "Croatia -> 31 -> 0.28 -> 0.15 -> 0.05 -> 0.15\n",
      "Denmark -> 17 -> 0.63 -> 0.13 -> 0.15 -> 0.05\n",
      "Dominican Republic -> 27 -> 0.32 -> 0.19 -> 0.05 -> 0.15\n",
      "Ecuador -> 27 -> 0.46 -> 0.16 -> 0.15 -> 0.13\n",
      "Estonia -> 21 -> 0.43 -> 0.19 -> 0.14 -> 0.15\n",
      "Finland -> 49 -> 0.17 -> 0.21 -> 0.05 -> 0.15\n",
      "France -> 52 -> 0.23 -> 0.26 -> 0.05 -> 0.15\n",
      "Germany -> 50 -> 0.26 -> 0.21 -> 0.05 -> 0.15\n",
      "Greece -> 15 -> 0.49 -> 0.2 -> 0.05 -> 0.15\n",
      "Iceland -> 14 -> 0.52 -> 0.2 -> 0.05 -> 0.15\n",
      "India -> 48 -> 0.15 -> 0.33 -> 0.05 -> 0.15\n",
      "Indonesia -> 15 -> 0.51 -> 0.23 -> 0.05 -> 0.15\n",
      "Iraq -> 16 -> 0.35 -> 0.23 -> 0.05 -> 0.15\n",
      "Ireland -> 24 -> 0.41 -> 0.2 -> 0.05 -> 0.15\n",
      "Israel -> 33 -> 0.31 -> 0.2 -> 0.05 -> 0.15\n",
      "Italy -> 47 -> 0.3 -> 0.15 -> 0.05 -> 0.15\n",
      "Japan -> 37 -> 0.29 -> 0.13 -> 0.15 -> 0.05\n",
      "Luxembourg -> 27 -> 0.46 -> 0.11 -> 0.15 -> 0.11\n",
      "Malaysia -> 51 -> 0.18 -> 0.2 -> 0.05 -> 0.15\n",
      "Mexico -> 29 -> 0.39 -> 0.22 -> 0.15 -> 0.1\n",
      "Moldova -> 11 -> 0.47 -> 0.3 -> 0.05 -> 0.15\n",
      "Morocco -> 27 -> 0.38 -> 0.21 -> 0.14 -> 0.15\n",
      "Netherlands -> 15 -> 0.71 -> 0.22 -> 0.05 -> 0.15\n",
      "New Zealand -> 29 -> 0.28 -> 0.19 -> 0.05 -> 0.15\n",
      "Norway -> 15 -> 0.65 -> 0.18 -> 0.05 -> 0.15\n",
      "Pakistan -> 30 -> 0.41 -> 0.15 -> 0.15 -> 0.05\n",
      "Panama -> 11 -> 0.76 -> 0.23 -> 0.05 -> 0.15\n",
      "Peru -> 12 -> 0.65 -> 0.23 -> 0.15 -> 0.05\n",
      "Philippines -> 48 -> 0.17 -> 0.26 -> 0.05 -> 0.15\n",
      "Poland -> 13 -> 0.63 -> 0.25 -> 0.05 -> 0.15\n",
      "Portugal -> 27 -> 0.53 -> 0.16 -> 0.15 -> 0.14\n",
      "Qatar -> 16 -> 0.54 -> 0.15 -> 0.15 -> 0.05\n",
      "Romania -> 30 -> 0.32 -> 0.21 -> 0.05 -> 0.15\n",
      "Saudi Arabia -> 14 -> 0.55 -> 0.23 -> 0.05 -> 0.15\n",
      "Serbia -> 12 -> 0.53 -> 0.29 -> 0.05 -> 0.15\n",
      "Singapore -> 26 -> 0.28 -> 0.13 -> 0.15 -> 0.05\n",
      "Slovenia -> 12 -> 0.76 -> 0.17 -> 0.15 -> 0.15\n",
      "South Africa -> 23 -> 0.51 -> 0.06 -> 0.15 -> 0.05\n",
      "Spain -> 47 -> 0.29 -> 0.21 -> 0.05 -> 0.15\n",
      "Sweden -> 47 -> 0.21 -> 0.17 -> 0.05 -> 0.1\n",
      "Switzerland -> 15 -> 0.75 -> 0.2 -> 0.05 -> 0.15\n",
      "Thailand -> 27 -> 0.15 -> 0.24 -> 0.05 -> 0.15\n",
      "Ukraine -> 26 -> 0.31 -> 0.23 -> 0.05 -> 0.15\n",
      "United Arab Emirates -> 24 -> 0.16 -> 0.22 -> 0.15 -> 0.05\n",
      "United Kingdom -> 47 -> 0.24 -> 0.27 -> 0.05 -> 0.15\n"
     ]
    }
   ],
   "source": [
    "all = CSV.read(\"../SIRjs/data_jhp_clean.csv\", copycols=true)\n",
    "for row in 1:size(all)[1]\n",
    "    country = all[row,:country]\n",
    "    N = all[(all[!,Symbol(\"country\")].==country),:population][1]\n",
    "    ld = all[(all[!,Symbol(\"country\")].==country),:intervention][1]\n",
    "    data = convert(Array,all[(all[!,Symbol(\"country\")].==country),\n",
    "        12:size(all)[2]])[1,:]\n",
    "    save_data = data\n",
    "    data = data[data[:,1] .!= 0,:]\n",
    "    ld = ld - (length(save_data)-length(data)) + 1\n",
    "     # optimise\n",
    "    n=size(data)[1]\n",
    "    μ = [(N-1)/N, 1/N, 0, 1/N]\n",
    "    initial_betas = [0.3 0.15]\n",
    "    initial_gammas = [0.1 0.1]\n",
    "    breaks = [ld n]\n",
    "    loss = function(params)\n",
    "        β = expand_params(params[1:2],breaks,n)\n",
    "        γ = expand_params(params[3:4],breaks,n)\n",
    "        sim = N*simulate(μ,n,β,γ,N)[:,4]\n",
    "        sum( (sim .- data[:,1]).^2 ) \n",
    "    end\n",
    "    initial_params = [initial_betas initial_gammas]\n",
    "    lower = [0.01 0.01 0.05 0.05]\n",
    "    upper = [0.90 0.90 0.15 0.15]\n",
    "    res = optimize(loss,lower,upper,initial_params, Fminbox(LBFGS()))\n",
    "    opt_params = Optim.minimizer(res) \n",
    "    all[row,:beta_before] = round(opt_params[1],digits=2)\n",
    "    all[row,:beta_after] = round(opt_params[2],digits=2)\n",
    "    all[row,:gamma_before] = round(opt_params[3],digits=2)\n",
    "    all[row,:gamma_after] = round(opt_params[4],digits=2)\n",
    "    println(country, \" -> \", ld, \" -> \", all[row,:beta_before], \" -> \", all[row,:beta_after],\n",
    "    \" -> \", all[row,:gamma_before], \" -> \", all[row,:gamma_after])\n",
    "end"
   ]
  },
  {
   "cell_type": "code",
   "execution_count": 24,
   "metadata": {},
   "outputs": [
    {
     "data": {
      "text/plain": [
       "\"../SIRjs/data_jhp_clean.csv\""
      ]
     },
     "execution_count": 24,
     "metadata": {},
     "output_type": "execute_result"
    }
   ],
   "source": [
    "CSV.write(\"../SIRjs/data_jhp_clean.csv\", all)"
   ]
  },
  {
   "cell_type": "code",
   "execution_count": 27,
   "metadata": {},
   "outputs": [
    {
     "data": {
      "image/svg+xml": [
       "<?xml version=\"1.0\" encoding=\"utf-8\"?>\n",
       "<svg xmlns=\"http://www.w3.org/2000/svg\" xmlns:xlink=\"http://www.w3.org/1999/xlink\" width=\"600\" height=\"400\" viewBox=\"0 0 2400 1600\">\n",
       "<defs>\n",
       "  <clipPath id=\"clip5200\">\n",
       "    <rect x=\"0\" y=\"0\" width=\"2400\" height=\"1600\"/>\n",
       "  </clipPath>\n",
       "</defs>\n",
       "<path clip-path=\"url(#clip5200)\" d=\"\n",
       "M0 1600 L2400 1600 L2400 0 L0 0  Z\n",
       "  \" fill=\"#ffffff\" fill-rule=\"evenodd\" fill-opacity=\"1\"/>\n",
       "<defs>\n",
       "  <clipPath id=\"clip5201\">\n",
       "    <rect x=\"480\" y=\"0\" width=\"1681\" height=\"1600\"/>\n",
       "  </clipPath>\n",
       "</defs>\n",
       "<path clip-path=\"url(#clip5200)\" d=\"\n",
       "M194.041 1487.47 L2352.76 1487.47 L2352.76 304.912 L194.041 304.912  Z\n",
       "  \" fill=\"#ffffff\" fill-rule=\"evenodd\" fill-opacity=\"1\"/>\n",
       "<defs>\n",
       "  <clipPath id=\"clip5202\">\n",
       "    <rect x=\"194\" y=\"304\" width=\"2160\" height=\"1184\"/>\n",
       "  </clipPath>\n",
       "</defs>\n",
       "<polyline clip-path=\"url(#clip5202)\" style=\"stroke:#000000; stroke-width:2; stroke-opacity:0.1; fill:none\" points=\"\n",
       "  195.239,1487.47 195.239,304.912 \n",
       "  \"/>\n",
       "<polyline clip-path=\"url(#clip5202)\" style=\"stroke:#000000; stroke-width:2; stroke-opacity:0.1; fill:none\" points=\"\n",
       "  794.217,1487.47 794.217,304.912 \n",
       "  \"/>\n",
       "<polyline clip-path=\"url(#clip5202)\" style=\"stroke:#000000; stroke-width:2; stroke-opacity:0.1; fill:none\" points=\"\n",
       "  1393.19,1487.47 1393.19,304.912 \n",
       "  \"/>\n",
       "<polyline clip-path=\"url(#clip5202)\" style=\"stroke:#000000; stroke-width:2; stroke-opacity:0.1; fill:none\" points=\"\n",
       "  1992.17,1487.47 1992.17,304.912 \n",
       "  \"/>\n",
       "<polyline clip-path=\"url(#clip5202)\" style=\"stroke:#000000; stroke-width:2; stroke-opacity:0.1; fill:none\" points=\"\n",
       "  194.041,1454.01 2352.76,1454.01 \n",
       "  \"/>\n",
       "<polyline clip-path=\"url(#clip5202)\" style=\"stroke:#000000; stroke-width:2; stroke-opacity:0.1; fill:none\" points=\"\n",
       "  194.041,1092.72 2352.76,1092.72 \n",
       "  \"/>\n",
       "<polyline clip-path=\"url(#clip5202)\" style=\"stroke:#000000; stroke-width:2; stroke-opacity:0.1; fill:none\" points=\"\n",
       "  194.041,731.425 2352.76,731.425 \n",
       "  \"/>\n",
       "<polyline clip-path=\"url(#clip5202)\" style=\"stroke:#000000; stroke-width:2; stroke-opacity:0.1; fill:none\" points=\"\n",
       "  194.041,370.135 2352.76,370.135 \n",
       "  \"/>\n",
       "<polyline clip-path=\"url(#clip5200)\" style=\"stroke:#000000; stroke-width:4; stroke-opacity:1; fill:none\" points=\"\n",
       "  194.041,1487.47 2352.76,1487.47 \n",
       "  \"/>\n",
       "<polyline clip-path=\"url(#clip5200)\" style=\"stroke:#000000; stroke-width:4; stroke-opacity:1; fill:none\" points=\"\n",
       "  194.041,1487.47 194.041,304.912 \n",
       "  \"/>\n",
       "<polyline clip-path=\"url(#clip5200)\" style=\"stroke:#000000; stroke-width:4; stroke-opacity:1; fill:none\" points=\"\n",
       "  195.239,1487.47 195.239,1473.28 \n",
       "  \"/>\n",
       "<polyline clip-path=\"url(#clip5200)\" style=\"stroke:#000000; stroke-width:4; stroke-opacity:1; fill:none\" points=\"\n",
       "  794.217,1487.47 794.217,1473.28 \n",
       "  \"/>\n",
       "<polyline clip-path=\"url(#clip5200)\" style=\"stroke:#000000; stroke-width:4; stroke-opacity:1; fill:none\" points=\"\n",
       "  1393.19,1487.47 1393.19,1473.28 \n",
       "  \"/>\n",
       "<polyline clip-path=\"url(#clip5200)\" style=\"stroke:#000000; stroke-width:4; stroke-opacity:1; fill:none\" points=\"\n",
       "  1992.17,1487.47 1992.17,1473.28 \n",
       "  \"/>\n",
       "<polyline clip-path=\"url(#clip5200)\" style=\"stroke:#000000; stroke-width:4; stroke-opacity:1; fill:none\" points=\"\n",
       "  194.041,1454.01 219.946,1454.01 \n",
       "  \"/>\n",
       "<polyline clip-path=\"url(#clip5200)\" style=\"stroke:#000000; stroke-width:4; stroke-opacity:1; fill:none\" points=\"\n",
       "  194.041,1092.72 219.946,1092.72 \n",
       "  \"/>\n",
       "<polyline clip-path=\"url(#clip5200)\" style=\"stroke:#000000; stroke-width:4; stroke-opacity:1; fill:none\" points=\"\n",
       "  194.041,731.425 219.946,731.425 \n",
       "  \"/>\n",
       "<polyline clip-path=\"url(#clip5200)\" style=\"stroke:#000000; stroke-width:4; stroke-opacity:1; fill:none\" points=\"\n",
       "  194.041,370.135 219.946,370.135 \n",
       "  \"/>\n",
       "<g clip-path=\"url(#clip5200)\">\n",
       "<text style=\"fill:#000000; fill-opacity:1; font-family:Arial,Helvetica Neue,Helvetica,sans-serif; font-size:48px; text-anchor:middle;\" transform=\"rotate(0, 195.239, 1541.47)\" x=\"195.239\" y=\"1541.47\">0</text>\n",
       "</g>\n",
       "<g clip-path=\"url(#clip5200)\">\n",
       "<text style=\"fill:#000000; fill-opacity:1; font-family:Arial,Helvetica Neue,Helvetica,sans-serif; font-size:48px; text-anchor:middle;\" transform=\"rotate(0, 794.217, 1541.47)\" x=\"794.217\" y=\"1541.47\">10</text>\n",
       "</g>\n",
       "<g clip-path=\"url(#clip5200)\">\n",
       "<text style=\"fill:#000000; fill-opacity:1; font-family:Arial,Helvetica Neue,Helvetica,sans-serif; font-size:48px; text-anchor:middle;\" transform=\"rotate(0, 1393.19, 1541.47)\" x=\"1393.19\" y=\"1541.47\">20</text>\n",
       "</g>\n",
       "<g clip-path=\"url(#clip5200)\">\n",
       "<text style=\"fill:#000000; fill-opacity:1; font-family:Arial,Helvetica Neue,Helvetica,sans-serif; font-size:48px; text-anchor:middle;\" transform=\"rotate(0, 1992.17, 1541.47)\" x=\"1992.17\" y=\"1541.47\">30</text>\n",
       "</g>\n",
       "<g clip-path=\"url(#clip5200)\">\n",
       "<text style=\"fill:#000000; fill-opacity:1; font-family:Arial,Helvetica Neue,Helvetica,sans-serif; font-size:48px; text-anchor:end;\" transform=\"rotate(0, 170.041, 1471.51)\" x=\"170.041\" y=\"1471.51\">0</text>\n",
       "</g>\n",
       "<g clip-path=\"url(#clip5200)\">\n",
       "<text style=\"fill:#000000; fill-opacity:1; font-family:Arial,Helvetica Neue,Helvetica,sans-serif; font-size:48px; text-anchor:end;\" transform=\"rotate(0, 170.041, 1110.22)\" x=\"170.041\" y=\"1110.22\">1000</text>\n",
       "</g>\n",
       "<g clip-path=\"url(#clip5200)\">\n",
       "<text style=\"fill:#000000; fill-opacity:1; font-family:Arial,Helvetica Neue,Helvetica,sans-serif; font-size:48px; text-anchor:end;\" transform=\"rotate(0, 170.041, 748.925)\" x=\"170.041\" y=\"748.925\">2000</text>\n",
       "</g>\n",
       "<g clip-path=\"url(#clip5200)\">\n",
       "<text style=\"fill:#000000; fill-opacity:1; font-family:Arial,Helvetica Neue,Helvetica,sans-serif; font-size:48px; text-anchor:end;\" transform=\"rotate(0, 170.041, 387.635)\" x=\"170.041\" y=\"387.635\">3000</text>\n",
       "</g>\n",
       "<g clip-path=\"url(#clip5200)\">\n",
       "<text style=\"fill:#000000; fill-opacity:1; font-family:Arial,Helvetica Neue,Helvetica,sans-serif; font-size:84px; text-anchor:middle;\" transform=\"rotate(0, 1273.4, 73.2)\" x=\"1273.4\" y=\"73.2\">SIR fit for COVID-19 outbreak in South Africa</text>\n",
       "</g>\n",
       "<g clip-path=\"url(#clip5200)\">\n",
       "<text style=\"fill:#000000; fill-opacity:1; font-family:Arial,Helvetica Neue,Helvetica,sans-serif; font-size:84px; text-anchor:middle;\" transform=\"rotate(0, 1273.4, 163.92)\" x=\"1273.4\" y=\"163.92\"> showing trends before and after interventions </text>\n",
       "</g>\n",
       "<g clip-path=\"url(#clip5200)\">\n",
       "<text style=\"fill:#000000; fill-opacity:1; font-family:Arial,Helvetica Neue,Helvetica,sans-serif; font-size:84px; text-anchor:middle;\" transform=\"rotate(0, 1273.4, 254.64)\" x=\"1273.4\" y=\"254.64\"> annotated with basic reproduction number </text>\n",
       "</g>\n",
       "<g clip-path=\"url(#clip5200)\">\n",
       "<text style=\"fill:#000000; fill-opacity:1; font-family:Arial,Helvetica Neue,Helvetica,sans-serif; font-size:84px; text-anchor:middle;\" transform=\"rotate(0, 1273.4, 345.36)\" x=\"1273.4\" y=\"345.36\">data from John Hopkins</text>\n",
       "</g>\n",
       "<circle clip-path=\"url(#clip5202)\" cx=\"255.137\" cy=\"1453.64\" r=\"14\" fill=\"#0000ff\" fill-rule=\"evenodd\" fill-opacity=\"1\" stroke=\"#000000\" stroke-opacity=\"1\" stroke-width=\"3.2\"/>\n",
       "<circle clip-path=\"url(#clip5202)\" cx=\"315.035\" cy=\"1453.64\" r=\"14\" fill=\"#0000ff\" fill-rule=\"evenodd\" fill-opacity=\"1\" stroke=\"#000000\" stroke-opacity=\"1\" stroke-width=\"3.2\"/>\n",
       "<circle clip-path=\"url(#clip5202)\" cx=\"374.933\" cy=\"1453.64\" r=\"14\" fill=\"#0000ff\" fill-rule=\"evenodd\" fill-opacity=\"1\" stroke=\"#000000\" stroke-opacity=\"1\" stroke-width=\"3.2\"/>\n",
       "<circle clip-path=\"url(#clip5202)\" cx=\"434.83\" cy=\"1452.92\" r=\"14\" fill=\"#0000ff\" fill-rule=\"evenodd\" fill-opacity=\"1\" stroke=\"#000000\" stroke-opacity=\"1\" stroke-width=\"3.2\"/>\n",
       "<circle clip-path=\"url(#clip5202)\" cx=\"494.728\" cy=\"1452.92\" r=\"14\" fill=\"#0000ff\" fill-rule=\"evenodd\" fill-opacity=\"1\" stroke=\"#000000\" stroke-opacity=\"1\" stroke-width=\"3.2\"/>\n",
       "<circle clip-path=\"url(#clip5202)\" cx=\"554.626\" cy=\"1451.48\" r=\"14\" fill=\"#0000ff\" fill-rule=\"evenodd\" fill-opacity=\"1\" stroke=\"#000000\" stroke-opacity=\"1\" stroke-width=\"3.2\"/>\n",
       "<circle clip-path=\"url(#clip5202)\" cx=\"614.524\" cy=\"1449.31\" r=\"14\" fill=\"#0000ff\" fill-rule=\"evenodd\" fill-opacity=\"1\" stroke=\"#000000\" stroke-opacity=\"1\" stroke-width=\"3.2\"/>\n",
       "<circle clip-path=\"url(#clip5202)\" cx=\"674.421\" cy=\"1447.86\" r=\"14\" fill=\"#0000ff\" fill-rule=\"evenodd\" fill-opacity=\"1\" stroke=\"#000000\" stroke-opacity=\"1\" stroke-width=\"3.2\"/>\n",
       "<circle clip-path=\"url(#clip5202)\" cx=\"734.319\" cy=\"1445.34\" r=\"14\" fill=\"#0000ff\" fill-rule=\"evenodd\" fill-opacity=\"1\" stroke=\"#000000\" stroke-opacity=\"1\" stroke-width=\"3.2\"/>\n",
       "<circle clip-path=\"url(#clip5202)\" cx=\"794.217\" cy=\"1440.28\" r=\"14\" fill=\"#0000ff\" fill-rule=\"evenodd\" fill-opacity=\"1\" stroke=\"#000000\" stroke-opacity=\"1\" stroke-width=\"3.2\"/>\n",
       "<circle clip-path=\"url(#clip5202)\" cx=\"854.115\" cy=\"1435.58\" r=\"14\" fill=\"#0000ff\" fill-rule=\"evenodd\" fill-opacity=\"1\" stroke=\"#000000\" stroke-opacity=\"1\" stroke-width=\"3.2\"/>\n",
       "<circle clip-path=\"url(#clip5202)\" cx=\"914.012\" cy=\"1431.61\" r=\"14\" fill=\"#0000ff\" fill-rule=\"evenodd\" fill-opacity=\"1\" stroke=\"#000000\" stroke-opacity=\"1\" stroke-width=\"3.2\"/>\n",
       "<circle clip-path=\"url(#clip5202)\" cx=\"973.91\" cy=\"1431.61\" r=\"14\" fill=\"#0000ff\" fill-rule=\"evenodd\" fill-opacity=\"1\" stroke=\"#000000\" stroke-opacity=\"1\" stroke-width=\"3.2\"/>\n",
       "<circle clip-path=\"url(#clip5202)\" cx=\"1033.81\" cy=\"1412.1\" r=\"14\" fill=\"#0000ff\" fill-rule=\"evenodd\" fill-opacity=\"1\" stroke=\"#000000\" stroke-opacity=\"1\" stroke-width=\"3.2\"/>\n",
       "<circle clip-path=\"url(#clip5202)\" cx=\"1093.71\" cy=\"1399.81\" r=\"14\" fill=\"#0000ff\" fill-rule=\"evenodd\" fill-opacity=\"1\" stroke=\"#000000\" stroke-opacity=\"1\" stroke-width=\"3.2\"/>\n",
       "<circle clip-path=\"url(#clip5202)\" cx=\"1153.6\" cy=\"1381.03\" r=\"14\" fill=\"#0000ff\" fill-rule=\"evenodd\" fill-opacity=\"1\" stroke=\"#000000\" stroke-opacity=\"1\" stroke-width=\"3.2\"/>\n",
       "<circle clip-path=\"url(#clip5202)\" cx=\"1213.5\" cy=\"1367.3\" r=\"14\" fill=\"#0000ff\" fill-rule=\"evenodd\" fill-opacity=\"1\" stroke=\"#000000\" stroke-opacity=\"1\" stroke-width=\"3.2\"/>\n",
       "<circle clip-path=\"url(#clip5202)\" cx=\"1273.4\" cy=\"1355.01\" r=\"14\" fill=\"#0000ff\" fill-rule=\"evenodd\" fill-opacity=\"1\" stroke=\"#000000\" stroke-opacity=\"1\" stroke-width=\"3.2\"/>\n",
       "<circle clip-path=\"url(#clip5202)\" cx=\"1333.3\" cy=\"1308.77\" r=\"14\" fill=\"#0000ff\" fill-rule=\"evenodd\" fill-opacity=\"1\" stroke=\"#000000\" stroke-opacity=\"1\" stroke-width=\"3.2\"/>\n",
       "<circle clip-path=\"url(#clip5202)\" cx=\"1393.19\" cy=\"1253.85\" r=\"14\" fill=\"#0000ff\" fill-rule=\"evenodd\" fill-opacity=\"1\" stroke=\"#000000\" stroke-opacity=\"1\" stroke-width=\"3.2\"/>\n",
       "<circle clip-path=\"url(#clip5202)\" cx=\"1453.09\" cy=\"1197.85\" r=\"14\" fill=\"#0000ff\" fill-rule=\"evenodd\" fill-opacity=\"1\" stroke=\"#000000\" stroke-opacity=\"1\" stroke-width=\"3.2\"/>\n",
       "<circle clip-path=\"url(#clip5202)\" cx=\"1512.99\" cy=\"1119.09\" r=\"14\" fill=\"#0000ff\" fill-rule=\"evenodd\" fill-opacity=\"1\" stroke=\"#000000\" stroke-opacity=\"1\" stroke-width=\"3.2\"/>\n",
       "<circle clip-path=\"url(#clip5202)\" cx=\"1572.89\" cy=\"1031.3\" r=\"14\" fill=\"#0000ff\" fill-rule=\"evenodd\" fill-opacity=\"1\" stroke=\"#000000\" stroke-opacity=\"1\" stroke-width=\"3.2\"/>\n",
       "<circle clip-path=\"url(#clip5202)\" cx=\"1632.79\" cy=\"1025.15\" r=\"14\" fill=\"#0000ff\" fill-rule=\"evenodd\" fill-opacity=\"1\" stroke=\"#000000\" stroke-opacity=\"1\" stroke-width=\"3.2\"/>\n",
       "<circle clip-path=\"url(#clip5202)\" cx=\"1692.68\" cy=\"991.554\" r=\"14\" fill=\"#0000ff\" fill-rule=\"evenodd\" fill-opacity=\"1\" stroke=\"#000000\" stroke-opacity=\"1\" stroke-width=\"3.2\"/>\n",
       "<circle clip-path=\"url(#clip5202)\" cx=\"1752.58\" cy=\"974.935\" r=\"14\" fill=\"#0000ff\" fill-rule=\"evenodd\" fill-opacity=\"1\" stroke=\"#000000\" stroke-opacity=\"1\" stroke-width=\"3.2\"/>\n",
       "<circle clip-path=\"url(#clip5202)\" cx=\"1812.48\" cy=\"965.18\" r=\"14\" fill=\"#0000ff\" fill-rule=\"evenodd\" fill-opacity=\"1\" stroke=\"#000000\" stroke-opacity=\"1\" stroke-width=\"3.2\"/>\n",
       "<circle clip-path=\"url(#clip5202)\" cx=\"1872.38\" cy=\"955.425\" r=\"14\" fill=\"#0000ff\" fill-rule=\"evenodd\" fill-opacity=\"1\" stroke=\"#000000\" stroke-opacity=\"1\" stroke-width=\"3.2\"/>\n",
       "<circle clip-path=\"url(#clip5202)\" cx=\"1932.27\" cy=\"925.799\" r=\"14\" fill=\"#0000ff\" fill-rule=\"evenodd\" fill-opacity=\"1\" stroke=\"#000000\" stroke-opacity=\"1\" stroke-width=\"3.2\"/>\n",
       "<circle clip-path=\"url(#clip5202)\" cx=\"1992.17\" cy=\"910.264\" r=\"14\" fill=\"#0000ff\" fill-rule=\"evenodd\" fill-opacity=\"1\" stroke=\"#000000\" stroke-opacity=\"1\" stroke-width=\"3.2\"/>\n",
       "<circle clip-path=\"url(#clip5202)\" cx=\"2052.07\" cy=\"881.361\" r=\"14\" fill=\"#0000ff\" fill-rule=\"evenodd\" fill-opacity=\"1\" stroke=\"#000000\" stroke-opacity=\"1\" stroke-width=\"3.2\"/>\n",
       "<circle clip-path=\"url(#clip5202)\" cx=\"2111.97\" cy=\"856.07\" r=\"14\" fill=\"#0000ff\" fill-rule=\"evenodd\" fill-opacity=\"1\" stroke=\"#000000\" stroke-opacity=\"1\" stroke-width=\"3.2\"/>\n",
       "<circle clip-path=\"url(#clip5202)\" cx=\"2171.86\" cy=\"844.87\" r=\"14\" fill=\"#0000ff\" fill-rule=\"evenodd\" fill-opacity=\"1\" stroke=\"#000000\" stroke-opacity=\"1\" stroke-width=\"3.2\"/>\n",
       "<circle clip-path=\"url(#clip5202)\" cx=\"2231.76\" cy=\"822.109\" r=\"14\" fill=\"#0000ff\" fill-rule=\"evenodd\" fill-opacity=\"1\" stroke=\"#000000\" stroke-opacity=\"1\" stroke-width=\"3.2\"/>\n",
       "<circle clip-path=\"url(#clip5202)\" cx=\"2291.66\" cy=\"787.425\" r=\"14\" fill=\"#0000ff\" fill-rule=\"evenodd\" fill-opacity=\"1\" stroke=\"#000000\" stroke-opacity=\"1\" stroke-width=\"3.2\"/>\n",
       "<polyline clip-path=\"url(#clip5202)\" style=\"stroke:#ff0000; stroke-width:8; stroke-opacity:1; fill:none\" points=\"\n",
       "  255.137,1453.64 315.035,1453.51 374.933,1453.34 434.83,1453.1 494.728,1452.77 554.626,1452.33 614.524,1451.72 674.421,1450.9 734.319,1449.78 794.217,1448.26 \n",
       "  854.115,1446.19 914.012,1443.37 973.91,1439.54 1033.81,1434.33 1093.71,1427.25 1153.6,1417.62 1213.5,1404.52 1273.4,1386.71 1333.3,1362.48 1393.19,1329.53 \n",
       "  1453.09,1284.72 1512.99,1223.77 1572.89,1140.89 1632.79,1028.17 1692.68,874.881 1752.58,666.407 \n",
       "  \"/>\n",
       "<polyline clip-path=\"url(#clip5202)\" style=\"stroke:#008000; stroke-width:8; stroke-opacity:1; fill:none\" points=\"\n",
       "  255.137,1454.01 315.035,1453.95 374.933,1453.88 434.83,1453.78 494.728,1453.64 554.626,1453.46 614.524,1453.2 674.421,1452.86 734.319,1452.39 794.217,1451.76 \n",
       "  854.115,1450.9 914.012,1449.72 973.91,1448.13 1033.81,1445.96 1093.71,1443.01 1153.6,1439 1213.5,1433.54 1273.4,1426.11 1333.3,1416.02 1393.19,1402.29 \n",
       "  1453.09,1383.62 1512.99,1358.23 1572.89,1323.69 1632.79,1276.72 1692.68,1212.85 1752.58,1125.98 \n",
       "  \"/>\n",
       "<polyline clip-path=\"url(#clip5202)\" style=\"stroke:#0000ff; stroke-width:8; stroke-opacity:1; fill:none\" points=\"\n",
       "  255.137,1453.64 315.035,1453.46 374.933,1453.21 434.83,1452.87 494.728,1452.41 554.626,1451.78 614.524,1450.92 674.421,1449.75 734.319,1448.17 794.217,1446.01 \n",
       "  854.115,1443.08 914.012,1439.09 973.91,1433.66 1033.81,1426.29 1093.71,1416.25 1153.6,1402.61 1213.5,1384.05 1273.4,1358.81 1333.3,1324.49 1393.19,1277.81 \n",
       "  1453.09,1214.33 1512.99,1127.99 1572.89,1010.58 1632.79,850.891 1692.68,633.723 1752.58,338.381 \n",
       "  \"/>\n",
       "<polyline clip-path=\"url(#clip5202)\" style=\"stroke:#ff0000; stroke-width:8; stroke-opacity:1; fill:none\" points=\"\n",
       "  255.137,1453.64 315.035,1453.51 374.933,1453.34 434.83,1453.1 494.728,1452.77 554.626,1452.33 614.524,1451.72 674.421,1450.9 734.319,1449.78 794.217,1448.26 \n",
       "  854.115,1446.19 914.012,1443.37 973.91,1439.54 1033.81,1434.33 1093.71,1427.25 1153.6,1417.62 1213.5,1404.52 1273.4,1386.71 1333.3,1362.48 1393.19,1329.53 \n",
       "  1453.09,1284.72 1512.99,1223.77 1572.89,1140.89 1632.79,1137.76 1692.68,1134.6 1752.58,1131.41 1812.48,1128.18 1872.38,1124.92 1932.27,1121.63 1992.17,1118.31 \n",
       "  2052.07,1114.95 2111.97,1111.56 2171.86,1108.14 2231.76,1104.68 2291.66,1101.19 \n",
       "  \"/>\n",
       "<polyline clip-path=\"url(#clip5202)\" style=\"stroke:#008000; stroke-width:8; stroke-opacity:1; fill:none\" points=\"\n",
       "  255.137,1454.01 315.035,1453.95 374.933,1453.88 434.83,1453.78 494.728,1453.64 554.626,1453.46 614.524,1453.2 674.421,1452.86 734.319,1452.39 794.217,1451.76 \n",
       "  854.115,1450.9 914.012,1449.72 973.91,1448.13 1033.81,1445.96 1093.71,1443.01 1153.6,1439 1213.5,1433.54 1273.4,1426.11 1333.3,1416.02 1393.19,1402.29 \n",
       "  1453.09,1383.62 1512.99,1358.23 1572.89,1323.69 1632.79,1308.03 1692.68,1292.22 1752.58,1276.25 1812.48,1260.12 1872.38,1243.83 1932.27,1227.38 1992.17,1210.76 \n",
       "  2052.07,1193.97 2111.97,1177.02 2171.86,1159.9 2231.76,1142.6 2291.66,1125.14 \n",
       "  \"/>\n",
       "<polyline clip-path=\"url(#clip5202)\" style=\"stroke:#0000ff; stroke-width:8; stroke-opacity:1; fill:none\" points=\"\n",
       "  255.137,1453.64 315.035,1453.46 374.933,1453.21 434.83,1452.87 494.728,1452.41 554.626,1451.78 614.524,1450.92 674.421,1449.75 734.319,1448.17 794.217,1446.01 \n",
       "  854.115,1443.08 914.012,1439.09 973.91,1433.66 1033.81,1426.29 1093.71,1416.25 1153.6,1402.61 1213.5,1384.05 1273.4,1358.81 1333.3,1324.49 1393.19,1277.81 \n",
       "  1453.09,1214.33 1512.99,1127.99 1572.89,1010.58 1632.79,991.79 1692.68,972.815 1752.58,953.651 1812.48,934.296 1872.38,914.747 1932.27,895.002 1992.17,875.06 \n",
       "  2052.07,854.919 2111.97,834.576 2171.86,814.03 2231.76,793.279 2291.66,772.32 \n",
       "  \"/>\n",
       "<path clip-path=\"url(#clip5200)\" d=\"\n",
       "M266.041 690.832 L736.072 690.832 L736.072 388.432 L266.041 388.432  Z\n",
       "  \" fill=\"#ffffff\" fill-rule=\"evenodd\" fill-opacity=\"1\"/>\n",
       "<polyline clip-path=\"url(#clip5200)\" style=\"stroke:#000000; stroke-width:4; stroke-opacity:1; fill:none\" points=\"\n",
       "  266.041,690.832 736.072,690.832 736.072,388.432 266.041,388.432 266.041,690.832 \n",
       "  \"/>\n",
       "<circle clip-path=\"url(#clip5200)\" cx=\"374.041\" cy=\"448.912\" r=\"21\" fill=\"#0000ff\" fill-rule=\"evenodd\" fill-opacity=\"1\" stroke=\"#000000\" stroke-opacity=\"1\" stroke-width=\"3.2\"/>\n",
       "<g clip-path=\"url(#clip5200)\">\n",
       "<text style=\"fill:#000000; fill-opacity:1; font-family:Arial,Helvetica Neue,Helvetica,sans-serif; font-size:48px; text-anchor:start;\" transform=\"rotate(0, 458.041, 466.412)\" x=\"458.041\" y=\"466.412\">cases</text>\n",
       "</g>\n",
       "<polyline clip-path=\"url(#clip5200)\" style=\"stroke:#ff0000; stroke-width:8; stroke-opacity:1; fill:none\" points=\"\n",
       "  290.041,509.392 434.041,509.392 \n",
       "  \"/>\n",
       "<g clip-path=\"url(#clip5200)\">\n",
       "<text style=\"fill:#000000; fill-opacity:1; font-family:Arial,Helvetica Neue,Helvetica,sans-serif; font-size:48px; text-anchor:start;\" transform=\"rotate(0, 458.041, 526.892)\" x=\"458.041\" y=\"526.892\">infective</text>\n",
       "</g>\n",
       "<polyline clip-path=\"url(#clip5200)\" style=\"stroke:#008000; stroke-width:8; stroke-opacity:1; fill:none\" points=\"\n",
       "  290.041,569.872 434.041,569.872 \n",
       "  \"/>\n",
       "<g clip-path=\"url(#clip5200)\">\n",
       "<text style=\"fill:#000000; fill-opacity:1; font-family:Arial,Helvetica Neue,Helvetica,sans-serif; font-size:48px; text-anchor:start;\" transform=\"rotate(0, 458.041, 587.372)\" x=\"458.041\" y=\"587.372\">recovered</text>\n",
       "</g>\n",
       "<polyline clip-path=\"url(#clip5200)\" style=\"stroke:#0000ff; stroke-width:8; stroke-opacity:1; fill:none\" points=\"\n",
       "  290.041,630.352 434.041,630.352 \n",
       "  \"/>\n",
       "<g clip-path=\"url(#clip5200)\">\n",
       "<text style=\"fill:#000000; fill-opacity:1; font-family:Arial,Helvetica Neue,Helvetica,sans-serif; font-size:48px; text-anchor:start;\" transform=\"rotate(0, 458.041, 647.852)\" x=\"458.041\" y=\"647.852\">cumulative</text>\n",
       "</g>\n",
       "<g clip-path=\"url(#clip5200)\">\n",
       "<text style=\"fill:#000000; fill-opacity:1; font-family:Arial,Helvetica Neue,Helvetica,sans-serif; font-size:84px; text-anchor:end;\" transform=\"rotate(0, 1692.68, 664.223)\" x=\"1692.68\" y=\"664.223\">3.4.....</text>\n",
       "</g>\n",
       "<g clip-path=\"url(#clip5200)\">\n",
       "<text style=\"fill:#000000; fill-opacity:1; font-family:Arial,Helvetica Neue,Helvetica,sans-serif; font-size:84px; text-anchor:end;\" transform=\"rotate(0, 2231.76, 823.779)\" x=\"2231.76\" y=\"823.779\">1.2.....</text>\n",
       "</g>\n",
       "</svg>\n"
      ]
     },
     "execution_count": 27,
     "metadata": {},
     "output_type": "execute_result"
    }
   ],
   "source": [
    "country=\"South Africa\"\n",
    "N = all[(all[!,Symbol(\"country\")].==country),:population][1]\n",
    "ld = all[(all[!,Symbol(\"country\")].==country),:intervention][1]\n",
    "data = convert(Array,all[(all[!,Symbol(\"country\")].==country),\n",
    "        12:size(all)[2]])[1,:]\n",
    "save_data = data\n",
    "data = data[data[:,1] .!= 0,:]\n",
    "ld = ld - (length(save_data)-length(data)) + 1\n",
    "n=size(data)[1]\n",
    "μ = [(N-1)/N, 1/N, 0, 1/N]\n",
    "gammas = all[(all[!,Symbol(\"country\")].==country),[:gamma_before, :gamma_after]][1,:]\n",
    "betas = all[(all[!,Symbol(\"country\")].==country),[:beta_before, :beta_after]][1,:]\n",
    "bps = [ld n]\n",
    "# γ = expand_params(gammas,bps,n)\n",
    "# β_opt = opt_betas # [0.463 0.058]\n",
    "labels=\"cases\"\n",
    "colors=:blue\n",
    "ptl1 = \"SIR fit for COVID-19 outbreak in $country\"\n",
    "ptl2 = \" showing trends before and after interventions \"\n",
    "ptl3 = \" annotated with basic reproduction number \"\n",
    "ptl4 = \"data from John Hopkins\"\n",
    "plot_title= ptl1 * \"\\n\" * ptl2 * \"\\n\" * ptl3 * \"\\n\" * ptl4\n",
    "fig = scatter(data,legend=:topleft,color=colors,label=labels,title=plot_title)\n",
    "labels = [ \"infective\" \"recovered\" \"cumulative\"]\n",
    "colors = [:red :green :blue]\n",
    "β=expand_params([betas[1]],[bps[1]],n)\n",
    "γ=expand_params([gammas[1]],[bps[1]],n)\n",
    "r=round(β[1]/γ[1],digits=2)\n",
    "sim = simulate(μ,n,β,γ,N)\n",
    "y = N.*sim[1:bps[1]+3,2:4]\n",
    "plot!(y,color=colors,label=labels,linewidth=2,\n",
    "    annotations = (size(y)[1]-1, y[size(y)[1]-1,3], Plots.text(\"$r\"*\".....\", :right)))\n",
    "for k in 2:length(bps)\n",
    "    β = expand_params([betas[j] for j in 1:k],[bps[j] for j in 1:k],n)\n",
    "    γ = expand_params([gammas[j] for j in 1:k],[bps[j] for j in 1:k],n)\n",
    "    # β[ld[k-1]+1:end]=ldb[k]*ones(n-ld[k-1])\n",
    "    r=round(β[bps[k]]/γ[bps[k]],digits=2)\n",
    "    sim = simulate(μ,n,β,γ,N)\n",
    "    m = min(bps[k]+3,n)\n",
    "    y = N.*sim[1:m,2:4]\n",
    "    plot!(y,color=colors,label=nothing,linewidth=2,\n",
    "       annotations = (bps[k]-1, y[bps[k]-1,3], Plots.text(\"$r\"*\".....\", :right)))\n",
    "end\n",
    "savefig(fig,\"covid_plots/SIRfit$country\")\n",
    "fig"
   ]
  },
  {
   "cell_type": "code",
   "execution_count": null,
   "metadata": {},
   "outputs": [],
   "source": []
  }
 ],
 "metadata": {
  "kernelspec": {
   "display_name": "Julia 1.2.0",
   "language": "julia",
   "name": "julia-1.2"
  },
  "language_info": {
   "file_extension": ".jl",
   "mimetype": "application/julia",
   "name": "julia",
   "version": "1.2.0"
  }
 },
 "nbformat": 4,
 "nbformat_minor": 4
}
